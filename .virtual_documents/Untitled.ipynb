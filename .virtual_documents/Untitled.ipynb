import pandas as pd
df = pd.read_csv("Finance_data.csv")
df.info()


df["Investment_Avenues"].value_counts()


import pandas as pd
o_df = pd.read_csv("Original_data.csv")
o_df.info()


from yahooquery import Ticker

aapl = Ticker('aapl')

aapl.summary_detail



!pip install yahooquery



from yahooquery import Ticker



!pip install yahooquery



from yahooquery import Ticker


import sys
print(sys.executable)


import sys
!{sys.executable} -m pip install --upgrade --force-reinstall yahooquery



pip install yahooquery



from yahooquery import Ticker



from yahooquery import Ticker

aapl = Ticker('aapl')

aapl.summary_detail



tickers = Ticker(5)



print(tickers)


tickers = Ticker('fb aapl nflx', asynchronous=True)

# Default period = ytd, interval = 1d
df = tickers.history()
df.head()


print(df.columns)



df.head()



tickers = Ticker('nflx', asynchronous=True)
df = tickers.history()
print(df.head())



from yahooquery import Ticker
# GSPC: S&P 500, DJI: Dow Johnes Industrial, IXIC: Nasdaq
# Major stock indexes tickers
index_tickers = '^GSPC ^DJI ^IXIC'

tickers = Ticker(index_tickers, asynchronous=True)

# Fetch 1 year daily historical data
df = tickers.history(period='1y', interval='1d')

print(df.head())

# Optionally reset index to view symbol and date as columns
df_reset = df.reset_index()
print(df_reset.head())



df_reset.head(10)


df_reset["symbol"].value_counts()


df_reset = df.reset_index()



df_reset.to_csv('stock_indexes_data.csv', index=False)



import pandas as pd

data = {
    "content": [
        "Tesla Inc. shares fell after Elon Musk announced he’s forming a new political party, digging deeper into a pursuit that’s been a drag on his most valuable business. Most Read from BloombergAre Tourists Ruining Europe? How Locals Are Pushing BackForeign Buyers Swoop on Cape Town Homes, Pricing Out LocalsTrump’s Gilded Design Style May Be Gaudy. But Don’t Call it ‘Rococo.’Massachusetts to Follow NYC in Making Landlords Pay Broker FeesIn California, Pro-Housing ‘Abundance’ Fans Rewri"
    ]
}

n_df = pd.DataFrame(data)



from nltk.sentiment.vader import SentimentIntensityAnalyzer
import nltk





nltk.download('vader_lexicon')

sia = SentimentIntensityAnalyzer()

# Apply sentiment analysis to the 'content' column
n_df['sentiment_scores'] = n_df['content'].apply(lambda x: sia.polarity_scores(x))

# Extract compound score (overall sentiment)
n_df['compound'] = n_df['sentiment_scores'].apply(lambda score_dict: score_dict['compound'])

# Optional: categorize sentiment
def label_sentiment(compound):
    if compound >= 0.05:
        return 'Positive'
    elif compound <= -0.05:
        return 'Negative'
    else:
        return 'Neutral'

n_df['sentiment_label'] = n_df['compound'].apply(label_sentiment)

print(n_df[['content', 'compound', 'sentiment_label']])


import nltk
nltk.download('vader_lexicon')



