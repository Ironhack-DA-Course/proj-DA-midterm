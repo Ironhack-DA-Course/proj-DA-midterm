{
 "cells": [
  {
   "cell_type": "code",
   "execution_count": 1,
   "id": "cb20a08e-b464-4045-b642-00a37e9721bc",
   "metadata": {},
   "outputs": [
    {
     "name": "stdout",
     "output_type": "stream",
     "text": [
      "(100000, 26)\n"
     ]
    }
   ],
   "source": [
    "import pandas as pd\n",
    "df = pd.read_csv(\"global_warming_dataset.csv\")\n",
    "print (df.shape)"
   ]
  },
  {
   "cell_type": "code",
   "execution_count": 2,
   "id": "276cccf8-b640-43fa-aecd-d0928a2ef732",
   "metadata": {},
   "outputs": [
    {
     "name": "stdout",
     "output_type": "stream",
     "text": [
      "<class 'pandas.core.frame.DataFrame'>\n",
      "RangeIndex: 100000 entries, 0 to 99999\n",
      "Data columns (total 26 columns):\n",
      " #   Column                         Non-Null Count   Dtype  \n",
      "---  ------                         --------------   -----  \n",
      " 0   Country                        100000 non-null  object \n",
      " 1   Year                           100000 non-null  int64  \n",
      " 2   Temperature_Anomaly            100000 non-null  float64\n",
      " 3   CO2_Emissions                  100000 non-null  float64\n",
      " 4   Population                     100000 non-null  float64\n",
      " 5   Forest_Area                    100000 non-null  float64\n",
      " 6   GDP                            100000 non-null  float64\n",
      " 7   Renewable_Energy_Usage         100000 non-null  float64\n",
      " 8   Methane_Emissions              100000 non-null  float64\n",
      " 9   Sea_Level_Rise                 100000 non-null  float64\n",
      " 10  Arctic_Ice_Extent              100000 non-null  float64\n",
      " 11  Urbanization                   100000 non-null  float64\n",
      " 12  Deforestation_Rate             100000 non-null  float64\n",
      " 13  Extreme_Weather_Events         100000 non-null  int64  \n",
      " 14  Average_Rainfall               100000 non-null  float64\n",
      " 15  Solar_Energy_Potential         100000 non-null  float64\n",
      " 16  Waste_Management               100000 non-null  float64\n",
      " 17  Per_Capita_Emissions           100000 non-null  float64\n",
      " 18  Industrial_Activity            100000 non-null  float64\n",
      " 19  Air_Pollution_Index            100000 non-null  float64\n",
      " 20  Biodiversity_Index             100000 non-null  float64\n",
      " 21  Ocean_Acidification            100000 non-null  float64\n",
      " 22  Fossil_Fuel_Usage              100000 non-null  float64\n",
      " 23  Energy_Consumption_Per_Capita  100000 non-null  float64\n",
      " 24  Policy_Score                   100000 non-null  float64\n",
      " 25  Average_Temperature            100000 non-null  float64\n",
      "dtypes: float64(23), int64(2), object(1)\n",
      "memory usage: 19.8+ MB\n"
     ]
    }
   ],
   "source": [
    "df.info()"
   ]
  },
  {
   "cell_type": "code",
   "execution_count": 9,
   "id": "0296a7cf-7b97-43c6-a02d-ca4bbc37aada",
   "metadata": {},
   "outputs": [],
   "source": [
    "#”Global Warming”\n",
    "\n",
    "# Business : Where renewable energy company could easily be adopted and needed\n",
    "\n",
    "## Hypothesis: Countries with high GDP growth also show an increase in CO2 emissions, especially where renewable energy adoption is low\n",
    "### (GDP, CO2_Emissions, Renewable_Energy_Usage) \n",
    "\n",
    "# Business : Reforestation  □ See where carbon offsetting via afforetation is most urgent and has most impact\n",
    "\n",
    "## Hypothesis: Countries with a decrease in forest area since 2000 have higher CO2 emissions per capita than countries with stable or an increase of the forest area\n",
    "### ( Country, Forest_Area, Deforestation_Rate , CO2_Emissions, Year, Temperature_Anomaly)\n",
    "#### Countries with greater forest area experience smaller temperature anomalies over time compared to countries with less forest coverage and succseed to reduce CO2 emissions.\n",
    "### (Country, Forest_Area, Temperature_Anomaly, Year, CO2_Emissions)\n",
    "#### Countries with higher forest area growth combined with strong environmental policies (Policy_Score) show better outcomes in Renewable Energy Usage and lower Air Pollution Index.\n",
    "### (Country, Forest_Area, Policy_Score, Renewable_Energy_Usage, Air_Pollution_Index)\n",
    "#### Countries with higher GDP are more likely to maintain or expand forest area, especially when coupled with strong environmental policy scores\n",
    "### (Country, GDP, Forest_Area, Deforestation_Rate, Policy_Score)\n",
    "# Business : Help Insurers, policy advisors or investment company □ Help identify climate-vulnerable economies that might need help due to those condition ?\n",
    "\n",
    "## Countries with a lot of temparature anomalies also have a stagnation in GDP per capita in recent years\n",
    "### (Country, Temperature_Anomaly, GDP, year)"
   ]
  },
  {
   "cell_type": "code",
   "execution_count": 12,
   "id": "dcb1a817-554a-4c0e-8aa0-27227c446eb8",
   "metadata": {},
   "outputs": [
    {
     "data": {
      "text/plain": [
       "Country\n",
       "Country_186    557\n",
       "Country_48     552\n",
       "Country_30     551\n",
       "Country_143    551\n",
       "Country_154    551\n",
       "              ... \n",
       "Country_193    467\n",
       "Country_165    465\n",
       "Country_174    464\n",
       "Country_50     463\n",
       "Country_34     457\n",
       "Name: count, Length: 195, dtype: int64"
      ]
     },
     "execution_count": 12,
     "metadata": {},
     "output_type": "execute_result"
    }
   ],
   "source": [
    "df[\"Country\"].value_counts()"
   ]
  },
  {
   "cell_type": "code",
   "execution_count": 13,
   "id": "3d9223dd-8adc-4130-9020-844adc6d39b6",
   "metadata": {},
   "outputs": [
    {
     "data": {
      "text/plain": [
       "Year\n",
       "1961    881\n",
       "1922    869\n",
       "1957    862\n",
       "1960    858\n",
       "1986    857\n",
       "       ... \n",
       "1969    758\n",
       "1929    757\n",
       "2023    751\n",
       "1962    745\n",
       "1953    732\n",
       "Name: count, Length: 124, dtype: int64"
      ]
     },
     "execution_count": 13,
     "metadata": {},
     "output_type": "execute_result"
    }
   ],
   "source": [
    "df[\"Year\"].value_counts()"
   ]
  },
  {
   "cell_type": "code",
   "execution_count": 14,
   "id": "21e4db64-8a5e-427b-b120-f0c436b1a5dc",
   "metadata": {},
   "outputs": [
    {
     "data": {
      "text/plain": [
       "Country\n",
       "Country_1      124\n",
       "Country_10     122\n",
       "Country_100    123\n",
       "Country_101    121\n",
       "Country_102    124\n",
       "              ... \n",
       "Country_95     123\n",
       "Country_96     122\n",
       "Country_97     122\n",
       "Country_98     119\n",
       "Country_99     120\n",
       "Name: Year, Length: 195, dtype: int64"
      ]
     },
     "execution_count": 14,
     "metadata": {},
     "output_type": "execute_result"
    }
   ],
   "source": [
    "df.groupby(\"Country\")[\"Year\"].nunique()\n"
   ]
  },
  {
   "cell_type": "code",
   "execution_count": 23,
   "id": "a798fe4f-ec74-48ea-a03c-2e9fbd68fb09",
   "metadata": {},
   "outputs": [],
   "source": [
    "## The main challenge for this dataset that it varies in the same year several time.\n",
    "# We assume that happens because the data coming from different sources. \n",
    "# By mean, each row of the same year is an instance coming from a certain source.\n",
    "# That is we grouped them by coutry and year and find how many times each country repeated in the same year:\n",
    "repeats = df.groupby(['Country', 'Year']).size()\n",
    "repeated_years = repeats[repeats > 1]\n",
    "repeated_years = repeated_years.reset_index(name='Count')\n"
   ]
  },
  {
   "cell_type": "code",
   "execution_count": 18,
   "id": "4865c2bd-773c-492e-a150-f218131d80a6",
   "metadata": {},
   "outputs": [
    {
     "name": "stdout",
     "output_type": "stream",
     "text": [
      "          Country  Year  Count\n",
      "0       Country_1  1900      4\n",
      "1       Country_1  1901      2\n",
      "2       Country_1  1902      3\n",
      "3       Country_1  1903      4\n",
      "4       Country_1  1904      3\n",
      "...           ...   ...    ...\n",
      "22158  Country_99  2017      2\n",
      "22159  Country_99  2018      4\n",
      "22160  Country_99  2021      4\n",
      "22161  Country_99  2022      5\n",
      "22162  Country_99  2023      3\n",
      "\n",
      "[22163 rows x 3 columns]\n"
     ]
    }
   ],
   "source": [
    "print(repeated_years)"
   ]
  },
  {
   "cell_type": "code",
   "execution_count": 29,
   "id": "a266da0d-9cec-4868-a97c-392b78812f0d",
   "metadata": {},
   "outputs": [],
   "source": [
    "numerical_features = df.select_dtypes(include=\"number\").columns.drop(\"Year\")\n",
    "df1 = df.copy()\n",
    "df1= df1.groupby([\"Year\",\"Country\"])[numerical_features].mean().reset_index().sort_values(by=\"Year\", ascending = False).reset_index(drop=True)"
   ]
  },
  {
   "cell_type": "code",
   "execution_count": 32,
   "id": "0677e95d-5efc-4f60-a15a-5d39ec9bc084",
   "metadata": {},
   "outputs": [
    {
     "data": {
      "text/plain": [
       "pandas.core.frame.DataFrame"
      ]
     },
     "execution_count": 32,
     "metadata": {},
     "output_type": "execute_result"
    }
   ],
   "source": [
    "type (df1)"
   ]
  },
  {
   "cell_type": "code",
   "execution_count": 33,
   "id": "d64e7aa7-2df5-4a88-8679-d66b9a87dfef",
   "metadata": {},
   "outputs": [
    {
     "name": "stdout",
     "output_type": "stream",
     "text": [
      "<class 'pandas.core.frame.DataFrame'>\n",
      "RangeIndex: 23797 entries, 0 to 23796\n",
      "Data columns (total 26 columns):\n",
      " #   Column                         Non-Null Count  Dtype  \n",
      "---  ------                         --------------  -----  \n",
      " 0   Year                           23797 non-null  int64  \n",
      " 1   Country                        23797 non-null  object \n",
      " 2   Temperature_Anomaly            23797 non-null  float64\n",
      " 3   CO2_Emissions                  23797 non-null  float64\n",
      " 4   Population                     23797 non-null  float64\n",
      " 5   Forest_Area                    23797 non-null  float64\n",
      " 6   GDP                            23797 non-null  float64\n",
      " 7   Renewable_Energy_Usage         23797 non-null  float64\n",
      " 8   Methane_Emissions              23797 non-null  float64\n",
      " 9   Sea_Level_Rise                 23797 non-null  float64\n",
      " 10  Arctic_Ice_Extent              23797 non-null  float64\n",
      " 11  Urbanization                   23797 non-null  float64\n",
      " 12  Deforestation_Rate             23797 non-null  float64\n",
      " 13  Extreme_Weather_Events         23797 non-null  float64\n",
      " 14  Average_Rainfall               23797 non-null  float64\n",
      " 15  Solar_Energy_Potential         23797 non-null  float64\n",
      " 16  Waste_Management               23797 non-null  float64\n",
      " 17  Per_Capita_Emissions           23797 non-null  float64\n",
      " 18  Industrial_Activity            23797 non-null  float64\n",
      " 19  Air_Pollution_Index            23797 non-null  float64\n",
      " 20  Biodiversity_Index             23797 non-null  float64\n",
      " 21  Ocean_Acidification            23797 non-null  float64\n",
      " 22  Fossil_Fuel_Usage              23797 non-null  float64\n",
      " 23  Energy_Consumption_Per_Capita  23797 non-null  float64\n",
      " 24  Policy_Score                   23797 non-null  float64\n",
      " 25  Average_Temperature            23797 non-null  float64\n",
      "dtypes: float64(24), int64(1), object(1)\n",
      "memory usage: 4.7+ MB\n"
     ]
    }
   ],
   "source": [
    "df1.info()"
   ]
  },
  {
   "cell_type": "code",
   "execution_count": 36,
   "id": "8a06a1b0-4035-4f57-9a13-6e3b5e642e1c",
   "metadata": {},
   "outputs": [
    {
     "data": {
      "text/plain": [
       "195"
      ]
     },
     "execution_count": 36,
     "metadata": {},
     "output_type": "execute_result"
    }
   ],
   "source": [
    "df1[\"Country\"].nunique()"
   ]
  },
  {
   "cell_type": "code",
   "execution_count": 37,
   "id": "f3ea7aba-d429-4574-aca3-a0699e0b4eba",
   "metadata": {},
   "outputs": [],
   "source": [
    "df_real = pd.read_csv(\"gdp_co2_by_country_v2.csv\")"
   ]
  },
  {
   "cell_type": "code",
   "execution_count": 38,
   "id": "80ffcb25-b2aa-4b10-b1ab-d1a5c7045db6",
   "metadata": {},
   "outputs": [
    {
     "name": "stdout",
     "output_type": "stream",
     "text": [
      "<class 'pandas.core.frame.DataFrame'>\n",
      "RangeIndex: 12444 entries, 0 to 12443\n",
      "Data columns (total 21 columns):\n",
      " #   Column               Non-Null Count  Dtype  \n",
      "---  ------               --------------  -----  \n",
      " 0   Country Name         12444 non-null  object \n",
      " 1   Country Code         12444 non-null  object \n",
      " 2   Year                 12444 non-null  int64  \n",
      " 3   Population           12444 non-null  float64\n",
      " 4   Pop Log              12444 non-null  float64\n",
      " 5   Pop Outliers         12444 non-null  object \n",
      " 6   Pop Category         12444 non-null  object \n",
      " 7   CO2                  12444 non-null  float64\n",
      " 8   CO2 %                12238 non-null  float64\n",
      " 9   Cumulative CO2       12444 non-null  float64\n",
      " 10  CO2 Log              12444 non-null  float64\n",
      " 11  CO2 Outliers         12444 non-null  object \n",
      " 12  Emissions Category   12444 non-null  object \n",
      " 13  GDP USD              12444 non-null  float64\n",
      " 14  GDP USD Log          12444 non-null  float64\n",
      " 15  GDP %                12444 non-null  float64\n",
      " 16  GDP % Winsor         12444 non-null  float64\n",
      " 17  GDP Per Capita       12444 non-null  float64\n",
      " 18  GDP Category         12444 non-null  object \n",
      " 19  CO2 Per GDP          12444 non-null  float64\n",
      " 20  Per Capita CO2 (kg)  12444 non-null  float64\n",
      "dtypes: float64(13), int64(1), object(7)\n",
      "memory usage: 2.0+ MB\n"
     ]
    }
   ],
   "source": [
    "df_real.info()"
   ]
  },
  {
   "cell_type": "code",
   "execution_count": 39,
   "id": "32b5d593-e29d-4259-83d4-fb904926cb18",
   "metadata": {},
   "outputs": [
    {
     "ename": "ModuleNotFoundError",
     "evalue": "No module named 'sklearn'",
     "output_type": "error",
     "traceback": [
      "\u001b[31m---------------------------------------------------------------------------\u001b[39m",
      "\u001b[31mModuleNotFoundError\u001b[39m                       Traceback (most recent call last)",
      "\u001b[36mCell\u001b[39m\u001b[36m \u001b[39m\u001b[32mIn[39]\u001b[39m\u001b[32m, line 1\u001b[39m\n\u001b[32m----> \u001b[39m\u001b[32m1\u001b[39m \u001b[38;5;28;01mfrom\u001b[39;00m\u001b[38;5;250m \u001b[39m\u001b[34;01msklearn\u001b[39;00m\u001b[34;01m.\u001b[39;00m\u001b[34;01mpreprocessing\u001b[39;00m\u001b[38;5;250m \u001b[39m\u001b[38;5;28;01mimport\u001b[39;00m MinMaxScaler\n\u001b[32m      3\u001b[39m features = [\u001b[33m'\u001b[39m\u001b[33mPopulation\u001b[39m\u001b[33m'\u001b[39m, \u001b[33m'\u001b[39m\u001b[33mGDP USD\u001b[39m\u001b[33m'\u001b[39m, \u001b[33m'\u001b[39m\u001b[33mCO2\u001b[39m\u001b[33m'\u001b[39m]\n\u001b[32m      5\u001b[39m scaler = MinMaxScaler()\n",
      "\u001b[31mModuleNotFoundError\u001b[39m: No module named 'sklearn'"
     ]
    }
   ],
   "source": [
    "from sklearn.preprocessing import MinMaxScaler\n",
    "\n",
    "features = ['Population', 'GDP USD', 'CO2']\n",
    "\n",
    "scaler = MinMaxScaler()\n",
    "\n",
    "df_fake_scaled = df_fake.copy()\n",
    "df_real_scaled = df_real.copy()\n",
    "\n",
    "df_fake_scaled[features] = scaler.fit_transform(df_fake[features])\n",
    "df_real_scaled[features] = scaler.transform(df_real[features])\n"
   ]
  },
  {
   "cell_type": "code",
   "execution_count": 47,
   "id": "1f3a44df-10e9-41ef-97f2-f6703ff61452",
   "metadata": {},
   "outputs": [
    {
     "name": "stdout",
     "output_type": "stream",
     "text": [
      "Requirement already satisfied: scikit-learn in /opt/anaconda3/lib/python3.12/site-packages (1.5.1)\n",
      "Requirement already satisfied: numpy>=1.19.5 in /opt/anaconda3/lib/python3.12/site-packages (from scikit-learn) (1.26.4)\n",
      "Requirement already satisfied: scipy>=1.6.0 in /opt/anaconda3/lib/python3.12/site-packages (from scikit-learn) (1.13.1)\n",
      "Requirement already satisfied: joblib>=1.2.0 in /opt/anaconda3/lib/python3.12/site-packages (from scikit-learn) (1.4.2)\n",
      "Requirement already satisfied: threadpoolctl>=3.1.0 in /opt/anaconda3/lib/python3.12/site-packages (from scikit-learn) (3.5.0)\n"
     ]
    }
   ],
   "source": [
    "!pip install scikit-learn\n"
   ]
  },
  {
   "cell_type": "code",
   "execution_count": 48,
   "id": "b4ee24c3-ef1a-4f36-8ed8-9c573a919976",
   "metadata": {},
   "outputs": [
    {
     "ename": "ModuleNotFoundError",
     "evalue": "No module named 'sklearn'",
     "output_type": "error",
     "traceback": [
      "\u001b[31m---------------------------------------------------------------------------\u001b[39m",
      "\u001b[31mModuleNotFoundError\u001b[39m                       Traceback (most recent call last)",
      "\u001b[36mCell\u001b[39m\u001b[36m \u001b[39m\u001b[32mIn[48]\u001b[39m\u001b[32m, line 1\u001b[39m\n\u001b[32m----> \u001b[39m\u001b[32m1\u001b[39m \u001b[38;5;28;01mfrom\u001b[39;00m\u001b[38;5;250m \u001b[39m\u001b[34;01msklearn\u001b[39;00m\u001b[34;01m.\u001b[39;00m\u001b[34;01mpreprocessing\u001b[39;00m\u001b[38;5;250m \u001b[39m\u001b[38;5;28;01mimport\u001b[39;00m MinMaxScaler\n\u001b[32m      3\u001b[39m features = [\u001b[33m'\u001b[39m\u001b[33mPopulation\u001b[39m\u001b[33m'\u001b[39m, \u001b[33m'\u001b[39m\u001b[33mGDP USD\u001b[39m\u001b[33m'\u001b[39m, \u001b[33m'\u001b[39m\u001b[33mCO2\u001b[39m\u001b[33m'\u001b[39m]\n\u001b[32m      5\u001b[39m scaler = MinMaxScaler()\n",
      "\u001b[31mModuleNotFoundError\u001b[39m: No module named 'sklearn'"
     ]
    }
   ],
   "source": [
    "from sklearn.preprocessing import MinMaxScaler\n",
    "\n",
    "features = ['Population', 'GDP', 'CO2']\n",
    "\n",
    "scaler = MinMaxScaler()\n",
    "\n",
    "df_fake_scaled = df_fake.copy()\n",
    "df_real_scaled = df_real.copy()\n",
    "\n",
    "df_fake_scaled[features] = scaler.fit_transform(df_fake[features])\n",
    "df_real_scaled[features] = scaler.transform(df_real[features])\n"
   ]
  },
  {
   "cell_type": "code",
   "execution_count": 45,
   "id": "6ce618df-4e44-4c97-b684-650942a90c23",
   "metadata": {},
   "outputs": [
    {
     "name": "stdout",
     "output_type": "stream",
     "text": [
      "/Users/souadmouajel/Desktop/Ironhack/lab-sessions/week-4/project-week4/proj-DA-midterm/.venv/bin/python\n"
     ]
    }
   ],
   "source": [
    "import sys\n",
    "print(sys.executable)\n"
   ]
  },
  {
   "cell_type": "code",
   "execution_count": 46,
   "id": "358920ac-d007-489b-9f6d-764bb2ce904c",
   "metadata": {},
   "outputs": [
    {
     "ename": "ModuleNotFoundError",
     "evalue": "No module named 'sklearn'",
     "output_type": "error",
     "traceback": [
      "\u001b[31m---------------------------------------------------------------------------\u001b[39m",
      "\u001b[31mModuleNotFoundError\u001b[39m                       Traceback (most recent call last)",
      "\u001b[36mCell\u001b[39m\u001b[36m \u001b[39m\u001b[32mIn[46]\u001b[39m\u001b[32m, line 1\u001b[39m\n\u001b[32m----> \u001b[39m\u001b[32m1\u001b[39m \u001b[38;5;28;01mfrom\u001b[39;00m\u001b[38;5;250m \u001b[39m\u001b[34;01msklearn\u001b[39;00m\u001b[34;01m.\u001b[39;00m\u001b[34;01mpreprocessing\u001b[39;00m\u001b[38;5;250m \u001b[39m\u001b[38;5;28;01mimport\u001b[39;00m MinMaxScaler\n\u001b[32m      3\u001b[39m features = [\u001b[33m'\u001b[39m\u001b[33mPopulation\u001b[39m\u001b[33m'\u001b[39m, \u001b[33m'\u001b[39m\u001b[33mGDP USD\u001b[39m\u001b[33m'\u001b[39m, \u001b[33m'\u001b[39m\u001b[33mCO2\u001b[39m\u001b[33m'\u001b[39m]\n\u001b[32m      5\u001b[39m scaler = MinMaxScaler()\n",
      "\u001b[31mModuleNotFoundError\u001b[39m: No module named 'sklearn'"
     ]
    }
   ],
   "source": [
    "from sklearn.preprocessing import MinMaxScaler\n",
    "\n",
    "features = ['Population', 'GDP USD', 'CO2']\n",
    "\n",
    "scaler = MinMaxScaler()\n",
    "\n",
    "df_fake_scaled = df_fake.copy()\n",
    "df_real_scaled = df_real.copy()\n",
    "\n",
    "df_fake_scaled[features] = scaler.fit_transform(df_fake[features])\n",
    "df_real_scaled[features] = scaler.transform(df_real[features])\n"
   ]
  },
  {
   "cell_type": "code",
   "execution_count": 49,
   "id": "f8b501d6-bc2a-40d9-a092-d95cbe58e095",
   "metadata": {},
   "outputs": [
    {
     "ename": "ModuleNotFoundError",
     "evalue": "No module named 'sklearn'",
     "output_type": "error",
     "traceback": [
      "\u001b[31m---------------------------------------------------------------------------\u001b[39m",
      "\u001b[31mModuleNotFoundError\u001b[39m                       Traceback (most recent call last)",
      "\u001b[36mCell\u001b[39m\u001b[36m \u001b[39m\u001b[32mIn[49]\u001b[39m\u001b[32m, line 1\u001b[39m\n\u001b[32m----> \u001b[39m\u001b[32m1\u001b[39m \u001b[38;5;28;01mimport\u001b[39;00m\u001b[38;5;250m \u001b[39m\u001b[34;01msklearn\u001b[39;00m\n\u001b[32m      2\u001b[39m \u001b[38;5;28mprint\u001b[39m(sklearn.__version__)  \u001b[38;5;66;03m# Should print 1.5.1\u001b[39;00m\n",
      "\u001b[31mModuleNotFoundError\u001b[39m: No module named 'sklearn'"
     ]
    }
   ],
   "source": [
    "import sklearn\n",
    "print(sklearn.__version__)  # Should print 1.5.1"
   ]
  },
  {
   "cell_type": "code",
   "execution_count": 50,
   "id": "c9d056f0-c562-4262-9c4b-d9712941f2bf",
   "metadata": {},
   "outputs": [
    {
     "name": "stdout",
     "output_type": "stream",
     "text": [
      "Collecting scikit-learn\n",
      "  Downloading scikit_learn-1.7.0-cp312-cp312-macosx_12_0_arm64.whl.metadata (31 kB)\n",
      "Requirement already satisfied: numpy>=1.22.0 in ./.venv/lib/python3.12/site-packages (from scikit-learn) (2.3.1)\n",
      "Collecting scipy>=1.8.0 (from scikit-learn)\n",
      "  Downloading scipy-1.16.0-cp312-cp312-macosx_14_0_arm64.whl.metadata (61 kB)\n",
      "Collecting joblib>=1.2.0 (from scikit-learn)\n",
      "  Downloading joblib-1.5.1-py3-none-any.whl.metadata (5.6 kB)\n",
      "Collecting threadpoolctl>=3.1.0 (from scikit-learn)\n",
      "  Downloading threadpoolctl-3.6.0-py3-none-any.whl.metadata (13 kB)\n",
      "Downloading scikit_learn-1.7.0-cp312-cp312-macosx_12_0_arm64.whl (10.7 MB)\n",
      "\u001b[2K   \u001b[90m━━━━━━━━━━━━━━━━━━━━━━━━━━━━━━━━━━━━━━━━\u001b[0m \u001b[32m10.7/10.7 MB\u001b[0m \u001b[31m8.1 MB/s\u001b[0m eta \u001b[36m0:00:00\u001b[0m00:01\u001b[0m0:01\u001b[0m\n",
      "\u001b[?25hDownloading joblib-1.5.1-py3-none-any.whl (307 kB)\n",
      "Downloading scipy-1.16.0-cp312-cp312-macosx_14_0_arm64.whl (20.8 MB)\n",
      "\u001b[2K   \u001b[90m━━━━━━━━━━━━━━━━━━━━━━━━━━━━━━━━━━━━━━━━\u001b[0m \u001b[32m20.8/20.8 MB\u001b[0m \u001b[31m30.7 MB/s\u001b[0m eta \u001b[36m0:00:00\u001b[0ma \u001b[36m0:00:01\u001b[0m\n",
      "\u001b[?25hDownloading threadpoolctl-3.6.0-py3-none-any.whl (18 kB)\n",
      "Installing collected packages: threadpoolctl, scipy, joblib, scikit-learn\n",
      "Successfully installed joblib-1.5.1 scikit-learn-1.7.0 scipy-1.16.0 threadpoolctl-3.6.0\n",
      "\n",
      "\u001b[1m[\u001b[0m\u001b[34;49mnotice\u001b[0m\u001b[1;39;49m]\u001b[0m\u001b[39;49m A new release of pip is available: \u001b[0m\u001b[31;49m24.2\u001b[0m\u001b[39;49m -> \u001b[0m\u001b[32;49m25.1.1\u001b[0m\n",
      "\u001b[1m[\u001b[0m\u001b[34;49mnotice\u001b[0m\u001b[1;39;49m]\u001b[0m\u001b[39;49m To update, run: \u001b[0m\u001b[32;49mpip3 install --upgrade pip\u001b[0m\n"
     ]
    }
   ],
   "source": [
    "!{sys.executable} -m pip install scikit-learn"
   ]
  },
  {
   "cell_type": "code",
   "execution_count": 51,
   "id": "84adbdf2-7acc-46a5-a86a-f3f0de2c34b2",
   "metadata": {},
   "outputs": [
    {
     "name": "stdout",
     "output_type": "stream",
     "text": [
      "1.7.0\n"
     ]
    }
   ],
   "source": [
    "import sklearn\n",
    "print(sklearn.__version__)  # Should print 1.5.1"
   ]
  },
  {
   "cell_type": "code",
   "execution_count": 54,
   "id": "93c8f43c-87b7-43f8-b635-f8dc32766bab",
   "metadata": {},
   "outputs": [
    {
     "ename": "KeyError",
     "evalue": "\"['GDP', 'CO2_Emissions'] not in index\"",
     "output_type": "error",
     "traceback": [
      "\u001b[31m---------------------------------------------------------------------------\u001b[39m",
      "\u001b[31mKeyError\u001b[39m                                  Traceback (most recent call last)",
      "\u001b[36mCell\u001b[39m\u001b[36m \u001b[39m\u001b[32mIn[54]\u001b[39m\u001b[32m, line 11\u001b[39m\n\u001b[32m      8\u001b[39m df_real_scaled = df_real.copy()\n\u001b[32m     10\u001b[39m df_fake_scaled[features] = scaler.fit_transform(df1[features])\n\u001b[32m---> \u001b[39m\u001b[32m11\u001b[39m df_real_scaled[features] = scaler.transform(\u001b[43mdf_real\u001b[49m\u001b[43m[\u001b[49m\u001b[43mfeatures\u001b[49m\u001b[43m]\u001b[49m)\n",
      "\u001b[36mFile \u001b[39m\u001b[32m~/Desktop/Ironhack/lab-sessions/week-4/project-week4/proj-DA-midterm/.venv/lib/python3.12/site-packages/pandas/core/frame.py:4113\u001b[39m, in \u001b[36mDataFrame.__getitem__\u001b[39m\u001b[34m(self, key)\u001b[39m\n\u001b[32m   4111\u001b[39m     \u001b[38;5;28;01mif\u001b[39;00m is_iterator(key):\n\u001b[32m   4112\u001b[39m         key = \u001b[38;5;28mlist\u001b[39m(key)\n\u001b[32m-> \u001b[39m\u001b[32m4113\u001b[39m     indexer = \u001b[38;5;28;43mself\u001b[39;49m\u001b[43m.\u001b[49m\u001b[43mcolumns\u001b[49m\u001b[43m.\u001b[49m\u001b[43m_get_indexer_strict\u001b[49m\u001b[43m(\u001b[49m\u001b[43mkey\u001b[49m\u001b[43m,\u001b[49m\u001b[43m \u001b[49m\u001b[33;43m\"\u001b[39;49m\u001b[33;43mcolumns\u001b[39;49m\u001b[33;43m\"\u001b[39;49m\u001b[43m)\u001b[49m[\u001b[32m1\u001b[39m]\n\u001b[32m   4115\u001b[39m \u001b[38;5;66;03m# take() does not accept boolean indexers\u001b[39;00m\n\u001b[32m   4116\u001b[39m \u001b[38;5;28;01mif\u001b[39;00m \u001b[38;5;28mgetattr\u001b[39m(indexer, \u001b[33m\"\u001b[39m\u001b[33mdtype\u001b[39m\u001b[33m\"\u001b[39m, \u001b[38;5;28;01mNone\u001b[39;00m) == \u001b[38;5;28mbool\u001b[39m:\n",
      "\u001b[36mFile \u001b[39m\u001b[32m~/Desktop/Ironhack/lab-sessions/week-4/project-week4/proj-DA-midterm/.venv/lib/python3.12/site-packages/pandas/core/indexes/base.py:6212\u001b[39m, in \u001b[36mIndex._get_indexer_strict\u001b[39m\u001b[34m(self, key, axis_name)\u001b[39m\n\u001b[32m   6209\u001b[39m \u001b[38;5;28;01melse\u001b[39;00m:\n\u001b[32m   6210\u001b[39m     keyarr, indexer, new_indexer = \u001b[38;5;28mself\u001b[39m._reindex_non_unique(keyarr)\n\u001b[32m-> \u001b[39m\u001b[32m6212\u001b[39m \u001b[38;5;28;43mself\u001b[39;49m\u001b[43m.\u001b[49m\u001b[43m_raise_if_missing\u001b[49m\u001b[43m(\u001b[49m\u001b[43mkeyarr\u001b[49m\u001b[43m,\u001b[49m\u001b[43m \u001b[49m\u001b[43mindexer\u001b[49m\u001b[43m,\u001b[49m\u001b[43m \u001b[49m\u001b[43maxis_name\u001b[49m\u001b[43m)\u001b[49m\n\u001b[32m   6214\u001b[39m keyarr = \u001b[38;5;28mself\u001b[39m.take(indexer)\n\u001b[32m   6215\u001b[39m \u001b[38;5;28;01mif\u001b[39;00m \u001b[38;5;28misinstance\u001b[39m(key, Index):\n\u001b[32m   6216\u001b[39m     \u001b[38;5;66;03m# GH 42790 - Preserve name from an Index\u001b[39;00m\n",
      "\u001b[36mFile \u001b[39m\u001b[32m~/Desktop/Ironhack/lab-sessions/week-4/project-week4/proj-DA-midterm/.venv/lib/python3.12/site-packages/pandas/core/indexes/base.py:6264\u001b[39m, in \u001b[36mIndex._raise_if_missing\u001b[39m\u001b[34m(self, key, indexer, axis_name)\u001b[39m\n\u001b[32m   6261\u001b[39m     \u001b[38;5;28;01mraise\u001b[39;00m \u001b[38;5;167;01mKeyError\u001b[39;00m(\u001b[33mf\u001b[39m\u001b[33m\"\u001b[39m\u001b[33mNone of [\u001b[39m\u001b[38;5;132;01m{\u001b[39;00mkey\u001b[38;5;132;01m}\u001b[39;00m\u001b[33m] are in the [\u001b[39m\u001b[38;5;132;01m{\u001b[39;00maxis_name\u001b[38;5;132;01m}\u001b[39;00m\u001b[33m]\u001b[39m\u001b[33m\"\u001b[39m)\n\u001b[32m   6263\u001b[39m not_found = \u001b[38;5;28mlist\u001b[39m(ensure_index(key)[missing_mask.nonzero()[\u001b[32m0\u001b[39m]].unique())\n\u001b[32m-> \u001b[39m\u001b[32m6264\u001b[39m \u001b[38;5;28;01mraise\u001b[39;00m \u001b[38;5;167;01mKeyError\u001b[39;00m(\u001b[33mf\u001b[39m\u001b[33m\"\u001b[39m\u001b[38;5;132;01m{\u001b[39;00mnot_found\u001b[38;5;132;01m}\u001b[39;00m\u001b[33m not in index\u001b[39m\u001b[33m\"\u001b[39m)\n",
      "\u001b[31mKeyError\u001b[39m: \"['GDP', 'CO2_Emissions'] not in index\""
     ]
    }
   ],
   "source": [
    "from sklearn.preprocessing import MinMaxScaler\n",
    "\n",
    "features = ['Population', 'GDP', 'CO2_Emissions']\n",
    "\n",
    "scaler = MinMaxScaler()\n",
    "\n",
    "df_fake_scaled = df1.copy()\n",
    "df_real_scaled = df_real.copy()\n",
    "\n",
    "df_fake_scaled[features] = scaler.fit_transform(df1[features])\n",
    "df_real_scaled[features] = scaler.transform(df_real[features])"
   ]
  },
  {
   "cell_type": "code",
   "execution_count": 62,
   "id": "07c2a69d-abfd-46c1-a5d7-649e18929933",
   "metadata": {},
   "outputs": [],
   "source": [
    "df_real.rename(columns={\n",
    "    'Population': 'Population',\n",
    "    'GDP USD': 'GDP',\n",
    "    'CO2': 'CO2_Emissions',\n",
    "    'Country Name': 'Country'\n",
    "}, inplace=True)\n"
   ]
  },
  {
   "cell_type": "code",
   "execution_count": 63,
   "id": "8adabf34-506c-45ac-9591-405e5ae84c06",
   "metadata": {},
   "outputs": [],
   "source": [
    "from sklearn.preprocessing import MinMaxScaler\n",
    "\n",
    "features = ['Population', 'GDP', 'CO2_Emissions']\n",
    "\n",
    "scaler = MinMaxScaler()\n",
    "\n",
    "df_fake_scaled = df1.copy()\n",
    "df_real_scaled = df_real.copy()\n",
    "\n",
    "df_fake_scaled[features] = scaler.fit_transform(df1[features])\n",
    "df_real_scaled[features] = scaler.transform(df_real[features])"
   ]
  },
  {
   "cell_type": "code",
   "execution_count": 64,
   "id": "66f7ca1d-5cf0-4599-b445-8a9d108af104",
   "metadata": {},
   "outputs": [],
   "source": [
    "from scipy.spatial.distance import cdist\n",
    "\n",
    "# Loop over each year in your dataset\n",
    "matches = []\n",
    "\n",
    "for year in df_fake_scaled['Year'].unique():\n",
    "    fake_year_data = df_fake_scaled[df_fake_scaled['Year'] == year]\n",
    "    real_year_data = df_real_scaled[df_real_scaled['Year'] == year]\n",
    "    \n",
    "    if real_year_data.empty:\n",
    "        continue\n",
    "    \n",
    "    distances = cdist(fake_year_data[features], real_year_data[features])\n",
    "    closest_idxs = distances.argmin(axis=1)\n",
    "    \n",
    "    matched_real = df_real[df_real['Year'] == year].iloc[closest_idxs].reset_index(drop=True)\n",
    "    matched_fake = df1[df1['Year'] == year].reset_index(drop=True)\n",
    "    \n",
    "    matched_df = matched_fake.copy()\n",
    "    matched_df['matched_country'] = matched_real['Country']\n",
    "    \n",
    "    matches.append(matched_df)\n",
    "\n",
    "df_matched = pd.concat(matches, ignore_index=True)\n"
   ]
  },
  {
   "cell_type": "code",
   "execution_count": 65,
   "id": "fe70a2ee-f699-4773-8883-ec0847f1a970",
   "metadata": {},
   "outputs": [
    {
     "data": {
      "text/html": [
       "<div>\n",
       "<style scoped>\n",
       "    .dataframe tbody tr th:only-of-type {\n",
       "        vertical-align: middle;\n",
       "    }\n",
       "\n",
       "    .dataframe tbody tr th {\n",
       "        vertical-align: top;\n",
       "    }\n",
       "\n",
       "    .dataframe thead th {\n",
       "        text-align: right;\n",
       "    }\n",
       "</style>\n",
       "<table border=\"1\" class=\"dataframe\">\n",
       "  <thead>\n",
       "    <tr style=\"text-align: right;\">\n",
       "      <th></th>\n",
       "      <th>Year</th>\n",
       "      <th>Country</th>\n",
       "      <th>Temperature_Anomaly</th>\n",
       "      <th>CO2_Emissions</th>\n",
       "      <th>Population</th>\n",
       "      <th>Forest_Area</th>\n",
       "      <th>GDP</th>\n",
       "      <th>Renewable_Energy_Usage</th>\n",
       "      <th>Methane_Emissions</th>\n",
       "      <th>Sea_Level_Rise</th>\n",
       "      <th>...</th>\n",
       "      <th>Per_Capita_Emissions</th>\n",
       "      <th>Industrial_Activity</th>\n",
       "      <th>Air_Pollution_Index</th>\n",
       "      <th>Biodiversity_Index</th>\n",
       "      <th>Ocean_Acidification</th>\n",
       "      <th>Fossil_Fuel_Usage</th>\n",
       "      <th>Energy_Consumption_Per_Capita</th>\n",
       "      <th>Policy_Score</th>\n",
       "      <th>Average_Temperature</th>\n",
       "      <th>matched_country</th>\n",
       "    </tr>\n",
       "  </thead>\n",
       "  <tbody>\n",
       "    <tr>\n",
       "      <th>0</th>\n",
       "      <td>2023</td>\n",
       "      <td>Country_99</td>\n",
       "      <td>0.401818</td>\n",
       "      <td>4.718120e+08</td>\n",
       "      <td>8.416571e+08</td>\n",
       "      <td>36.319203</td>\n",
       "      <td>5.428063e+12</td>\n",
       "      <td>42.954238</td>\n",
       "      <td>3.281277e+06</td>\n",
       "      <td>34.524529</td>\n",
       "      <td>...</td>\n",
       "      <td>15.085347</td>\n",
       "      <td>41.333634</td>\n",
       "      <td>200.324352</td>\n",
       "      <td>63.079314</td>\n",
       "      <td>7.843562</td>\n",
       "      <td>53.036316</td>\n",
       "      <td>2908.009948</td>\n",
       "      <td>64.826640</td>\n",
       "      <td>12.238060</td>\n",
       "      <td>United States</td>\n",
       "    </tr>\n",
       "    <tr>\n",
       "      <th>1</th>\n",
       "      <td>2023</td>\n",
       "      <td>Country_188</td>\n",
       "      <td>-0.570910</td>\n",
       "      <td>3.135960e+08</td>\n",
       "      <td>1.239277e+09</td>\n",
       "      <td>30.800427</td>\n",
       "      <td>6.193505e+12</td>\n",
       "      <td>45.150983</td>\n",
       "      <td>5.168892e+06</td>\n",
       "      <td>26.538891</td>\n",
       "      <td>...</td>\n",
       "      <td>13.498670</td>\n",
       "      <td>54.049776</td>\n",
       "      <td>66.762735</td>\n",
       "      <td>77.087944</td>\n",
       "      <td>7.724294</td>\n",
       "      <td>46.290306</td>\n",
       "      <td>1831.464717</td>\n",
       "      <td>49.478209</td>\n",
       "      <td>13.238444</td>\n",
       "      <td>China</td>\n",
       "    </tr>\n",
       "    <tr>\n",
       "      <th>2</th>\n",
       "      <td>2023</td>\n",
       "      <td>Country_163</td>\n",
       "      <td>0.677952</td>\n",
       "      <td>5.426126e+08</td>\n",
       "      <td>7.527896e+08</td>\n",
       "      <td>59.404157</td>\n",
       "      <td>5.607864e+12</td>\n",
       "      <td>33.354475</td>\n",
       "      <td>3.167448e+06</td>\n",
       "      <td>10.025409</td>\n",
       "      <td>...</td>\n",
       "      <td>6.712261</td>\n",
       "      <td>76.799132</td>\n",
       "      <td>164.705112</td>\n",
       "      <td>62.712155</td>\n",
       "      <td>7.949439</td>\n",
       "      <td>37.292350</td>\n",
       "      <td>2903.212619</td>\n",
       "      <td>29.164099</td>\n",
       "      <td>19.949168</td>\n",
       "      <td>United States</td>\n",
       "    </tr>\n",
       "    <tr>\n",
       "      <th>3</th>\n",
       "      <td>2023</td>\n",
       "      <td>Country_162</td>\n",
       "      <td>0.211780</td>\n",
       "      <td>3.636145e+08</td>\n",
       "      <td>7.117693e+08</td>\n",
       "      <td>59.886803</td>\n",
       "      <td>4.448401e+12</td>\n",
       "      <td>63.694009</td>\n",
       "      <td>3.445078e+06</td>\n",
       "      <td>21.418411</td>\n",
       "      <td>...</td>\n",
       "      <td>13.548510</td>\n",
       "      <td>42.552386</td>\n",
       "      <td>162.115286</td>\n",
       "      <td>39.307273</td>\n",
       "      <td>8.040317</td>\n",
       "      <td>45.438518</td>\n",
       "      <td>1800.402082</td>\n",
       "      <td>30.819906</td>\n",
       "      <td>9.111106</td>\n",
       "      <td>United States</td>\n",
       "    </tr>\n",
       "    <tr>\n",
       "      <th>4</th>\n",
       "      <td>2023</td>\n",
       "      <td>Country_161</td>\n",
       "      <td>0.648779</td>\n",
       "      <td>5.940516e+08</td>\n",
       "      <td>1.967646e+08</td>\n",
       "      <td>66.845488</td>\n",
       "      <td>7.657033e+12</td>\n",
       "      <td>40.424885</td>\n",
       "      <td>5.684342e+06</td>\n",
       "      <td>31.896154</td>\n",
       "      <td>...</td>\n",
       "      <td>13.864168</td>\n",
       "      <td>60.445563</td>\n",
       "      <td>95.087722</td>\n",
       "      <td>63.356859</td>\n",
       "      <td>8.131950</td>\n",
       "      <td>23.265742</td>\n",
       "      <td>2075.861666</td>\n",
       "      <td>81.462259</td>\n",
       "      <td>18.894343</td>\n",
       "      <td>Brazil</td>\n",
       "    </tr>\n",
       "  </tbody>\n",
       "</table>\n",
       "<p>5 rows × 27 columns</p>\n",
       "</div>"
      ],
      "text/plain": [
       "   Year      Country  Temperature_Anomaly  CO2_Emissions    Population  \\\n",
       "0  2023   Country_99             0.401818   4.718120e+08  8.416571e+08   \n",
       "1  2023  Country_188            -0.570910   3.135960e+08  1.239277e+09   \n",
       "2  2023  Country_163             0.677952   5.426126e+08  7.527896e+08   \n",
       "3  2023  Country_162             0.211780   3.636145e+08  7.117693e+08   \n",
       "4  2023  Country_161             0.648779   5.940516e+08  1.967646e+08   \n",
       "\n",
       "   Forest_Area           GDP  Renewable_Energy_Usage  Methane_Emissions  \\\n",
       "0    36.319203  5.428063e+12               42.954238       3.281277e+06   \n",
       "1    30.800427  6.193505e+12               45.150983       5.168892e+06   \n",
       "2    59.404157  5.607864e+12               33.354475       3.167448e+06   \n",
       "3    59.886803  4.448401e+12               63.694009       3.445078e+06   \n",
       "4    66.845488  7.657033e+12               40.424885       5.684342e+06   \n",
       "\n",
       "   Sea_Level_Rise  ...  Per_Capita_Emissions  Industrial_Activity  \\\n",
       "0       34.524529  ...             15.085347            41.333634   \n",
       "1       26.538891  ...             13.498670            54.049776   \n",
       "2       10.025409  ...              6.712261            76.799132   \n",
       "3       21.418411  ...             13.548510            42.552386   \n",
       "4       31.896154  ...             13.864168            60.445563   \n",
       "\n",
       "   Air_Pollution_Index  Biodiversity_Index  Ocean_Acidification  \\\n",
       "0           200.324352           63.079314             7.843562   \n",
       "1            66.762735           77.087944             7.724294   \n",
       "2           164.705112           62.712155             7.949439   \n",
       "3           162.115286           39.307273             8.040317   \n",
       "4            95.087722           63.356859             8.131950   \n",
       "\n",
       "   Fossil_Fuel_Usage  Energy_Consumption_Per_Capita  Policy_Score  \\\n",
       "0          53.036316                    2908.009948     64.826640   \n",
       "1          46.290306                    1831.464717     49.478209   \n",
       "2          37.292350                    2903.212619     29.164099   \n",
       "3          45.438518                    1800.402082     30.819906   \n",
       "4          23.265742                    2075.861666     81.462259   \n",
       "\n",
       "   Average_Temperature  matched_country  \n",
       "0            12.238060    United States  \n",
       "1            13.238444            China  \n",
       "2            19.949168    United States  \n",
       "3             9.111106    United States  \n",
       "4            18.894343           Brazil  \n",
       "\n",
       "[5 rows x 27 columns]"
      ]
     },
     "execution_count": 65,
     "metadata": {},
     "output_type": "execute_result"
    }
   ],
   "source": [
    "df_matched.head()\n"
   ]
  },
  {
   "cell_type": "code",
   "execution_count": 67,
   "id": "7f302cac-17ae-4bf1-94dd-ebf93f74019b",
   "metadata": {},
   "outputs": [
    {
     "data": {
      "text/plain": [
       "np.float64(0.0)"
      ]
     },
     "execution_count": 67,
     "metadata": {},
     "output_type": "execute_result"
    }
   ],
   "source": [
    "(df_matched['Country'] == df_matched['matched_country']).mean()\n"
   ]
  },
  {
   "cell_type": "code",
   "execution_count": null,
   "id": "354b44e9-9167-4ce5-85bb-17f9554e6ccb",
   "metadata": {},
   "outputs": [],
   "source": []
  }
 ],
 "metadata": {
  "kernelspec": {
   "display_name": "venv",
   "language": "python",
   "name": "venv"
  },
  "language_info": {
   "codemirror_mode": {
    "name": "ipython",
    "version": 3
   },
   "file_extension": ".py",
   "mimetype": "text/x-python",
   "name": "python",
   "nbconvert_exporter": "python",
   "pygments_lexer": "ipython3",
   "version": "3.12.7"
  }
 },
 "nbformat": 4,
 "nbformat_minor": 5
}
