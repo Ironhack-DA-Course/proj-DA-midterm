{
 "cells": [
  {
   "cell_type": "code",
   "execution_count": 1,
   "metadata": {},
   "outputs": [],
   "source": [
    "import pandas as pd\n",
    "import numpy as np\n",
    "import matplotlib.pyplot as plot\n",
    "import seaborn as sns"
   ]
  },
  {
   "cell_type": "code",
   "execution_count": 2,
   "metadata": {},
   "outputs": [],
   "source": [
    "input_data = \"../data/clean/de_credit_data_cleaned.csv\""
   ]
  },
  {
   "cell_type": "code",
   "execution_count": 4,
   "metadata": {},
   "outputs": [],
   "source": [
    "df = pd.read_csv(input_data,sep=\";\")"
   ]
  },
  {
   "cell_type": "code",
   "execution_count": 33,
   "metadata": {},
   "outputs": [
    {
     "data": {
      "application/vnd.microsoft.datawrangler.viewer.v0+json": {
       "columns": [
        {
         "name": "index",
         "rawType": "int64",
         "type": "integer"
        },
        {
         "name": "status_checking_account",
         "rawType": "object",
         "type": "string"
        },
        {
         "name": "duration_in_month",
         "rawType": "int64",
         "type": "integer"
        },
        {
         "name": "credit_history",
         "rawType": "object",
         "type": "string"
        },
        {
         "name": "purpose",
         "rawType": "object",
         "type": "string"
        },
        {
         "name": "credit_amount",
         "rawType": "int64",
         "type": "integer"
        },
        {
         "name": "savings_account/bonds",
         "rawType": "object",
         "type": "string"
        },
        {
         "name": "present_employment",
         "rawType": "object",
         "type": "string"
        },
        {
         "name": "installment_rate",
         "rawType": "int64",
         "type": "integer"
        },
        {
         "name": "gender_status",
         "rawType": "object",
         "type": "string"
        },
        {
         "name": "other_debtors/guarantors",
         "rawType": "object",
         "type": "string"
        },
        {
         "name": "present_residence",
         "rawType": "int64",
         "type": "integer"
        },
        {
         "name": "property",
         "rawType": "object",
         "type": "string"
        },
        {
         "name": "age",
         "rawType": "int64",
         "type": "integer"
        },
        {
         "name": "other_installment",
         "rawType": "object",
         "type": "string"
        },
        {
         "name": "housing",
         "rawType": "object",
         "type": "string"
        },
        {
         "name": "existing_credits",
         "rawType": "int64",
         "type": "integer"
        },
        {
         "name": "job_skill",
         "rawType": "object",
         "type": "string"
        },
        {
         "name": "number_of_dependents",
         "rawType": "int64",
         "type": "integer"
        },
        {
         "name": "telephone",
         "rawType": "object",
         "type": "string"
        },
        {
         "name": "foreign_worker",
         "rawType": "object",
         "type": "string"
        },
        {
         "name": "score",
         "rawType": "int64",
         "type": "integer"
        }
       ],
       "ref": "c4cddb24-677e-4e9a-99e5-667d221887bf",
       "rows": [
        [
         "0",
         "negative",
         "6",
         "critical account/ other credits existing (not at this bank)",
         "radio/television",
         "1169",
         "unknown/ no savings account",
         ">= 7 years",
         "4",
         "male   : single",
         "none",
         "4",
         "real estate",
         "67",
         "none",
         "own",
         "2",
         "skilled employee /official",
         "1",
         "yes",
         "yes",
         "1"
        ],
        [
         "1",
         "< 200",
         "48",
         "existing credits paid back duly till now",
         "radio/television",
         "5951",
         "< 100",
         "1 - less than 4 years",
         "2",
         "female : divorced/separated/married",
         "none",
         "2",
         "real estate",
         "22",
         "none",
         "own",
         "1",
         "skilled employee /official",
         "1",
         "none",
         "yes",
         "2"
        ],
        [
         "2",
         "no checking account",
         "12",
         "critical account/ other credits existing (not at this bank)",
         "education",
         "2096",
         "< 100",
         "4 - less than 7 years",
         "2",
         "male   : single",
         "none",
         "3",
         "real estate",
         "49",
         "none",
         "own",
         "1",
         "unskilled - resident",
         "2",
         "none",
         "yes",
         "1"
        ],
        [
         "3",
         "negative",
         "42",
         "existing credits paid back duly till now",
         "furniture/equipment",
         "7882",
         "< 100",
         "4 - less than 7 years",
         "2",
         "male   : single",
         "guarantor",
         "4",
         "if not A121 : building society savings agreement/life insurance",
         "45",
         "none",
         "for free",
         "1",
         "skilled employee /official",
         "2",
         "none",
         "yes",
         "1"
        ],
        [
         "4",
         "negative",
         "24",
         "delay in paying off in the past",
         "car (new)",
         "4870",
         "< 100",
         "1 - less than 4 years",
         "3",
         "male   : single",
         "none",
         "4",
         "unknown/no propert",
         "53",
         "none",
         "for free",
         "2",
         "skilled employee /official",
         "2",
         "none",
         "yes",
         "2"
        ]
       ],
       "shape": {
        "columns": 21,
        "rows": 5
       }
      },
      "text/html": [
       "<div>\n",
       "<style scoped>\n",
       "    .dataframe tbody tr th:only-of-type {\n",
       "        vertical-align: middle;\n",
       "    }\n",
       "\n",
       "    .dataframe tbody tr th {\n",
       "        vertical-align: top;\n",
       "    }\n",
       "\n",
       "    .dataframe thead th {\n",
       "        text-align: right;\n",
       "    }\n",
       "</style>\n",
       "<table border=\"1\" class=\"dataframe\">\n",
       "  <thead>\n",
       "    <tr style=\"text-align: right;\">\n",
       "      <th></th>\n",
       "      <th>status_checking_account</th>\n",
       "      <th>duration_in_month</th>\n",
       "      <th>credit_history</th>\n",
       "      <th>purpose</th>\n",
       "      <th>credit_amount</th>\n",
       "      <th>savings_account/bonds</th>\n",
       "      <th>present_employment</th>\n",
       "      <th>installment_rate</th>\n",
       "      <th>gender_status</th>\n",
       "      <th>other_debtors/guarantors</th>\n",
       "      <th>...</th>\n",
       "      <th>property</th>\n",
       "      <th>age</th>\n",
       "      <th>other_installment</th>\n",
       "      <th>housing</th>\n",
       "      <th>existing_credits</th>\n",
       "      <th>job_skill</th>\n",
       "      <th>number_of_dependents</th>\n",
       "      <th>telephone</th>\n",
       "      <th>foreign_worker</th>\n",
       "      <th>score</th>\n",
       "    </tr>\n",
       "  </thead>\n",
       "  <tbody>\n",
       "    <tr>\n",
       "      <th>0</th>\n",
       "      <td>negative</td>\n",
       "      <td>6</td>\n",
       "      <td>critical account/ other credits existing (not ...</td>\n",
       "      <td>radio/television</td>\n",
       "      <td>1169</td>\n",
       "      <td>unknown/ no savings account</td>\n",
       "      <td>&gt;= 7 years</td>\n",
       "      <td>4</td>\n",
       "      <td>male   : single</td>\n",
       "      <td>none</td>\n",
       "      <td>...</td>\n",
       "      <td>real estate</td>\n",
       "      <td>67</td>\n",
       "      <td>none</td>\n",
       "      <td>own</td>\n",
       "      <td>2</td>\n",
       "      <td>skilled employee /official</td>\n",
       "      <td>1</td>\n",
       "      <td>yes</td>\n",
       "      <td>yes</td>\n",
       "      <td>1</td>\n",
       "    </tr>\n",
       "    <tr>\n",
       "      <th>1</th>\n",
       "      <td>&lt; 200</td>\n",
       "      <td>48</td>\n",
       "      <td>existing credits paid back duly till now</td>\n",
       "      <td>radio/television</td>\n",
       "      <td>5951</td>\n",
       "      <td>&lt; 100</td>\n",
       "      <td>1 - less than 4 years</td>\n",
       "      <td>2</td>\n",
       "      <td>female : divorced/separated/married</td>\n",
       "      <td>none</td>\n",
       "      <td>...</td>\n",
       "      <td>real estate</td>\n",
       "      <td>22</td>\n",
       "      <td>none</td>\n",
       "      <td>own</td>\n",
       "      <td>1</td>\n",
       "      <td>skilled employee /official</td>\n",
       "      <td>1</td>\n",
       "      <td>none</td>\n",
       "      <td>yes</td>\n",
       "      <td>2</td>\n",
       "    </tr>\n",
       "    <tr>\n",
       "      <th>2</th>\n",
       "      <td>no checking account</td>\n",
       "      <td>12</td>\n",
       "      <td>critical account/ other credits existing (not ...</td>\n",
       "      <td>education</td>\n",
       "      <td>2096</td>\n",
       "      <td>&lt; 100</td>\n",
       "      <td>4 - less than 7 years</td>\n",
       "      <td>2</td>\n",
       "      <td>male   : single</td>\n",
       "      <td>none</td>\n",
       "      <td>...</td>\n",
       "      <td>real estate</td>\n",
       "      <td>49</td>\n",
       "      <td>none</td>\n",
       "      <td>own</td>\n",
       "      <td>1</td>\n",
       "      <td>unskilled - resident</td>\n",
       "      <td>2</td>\n",
       "      <td>none</td>\n",
       "      <td>yes</td>\n",
       "      <td>1</td>\n",
       "    </tr>\n",
       "    <tr>\n",
       "      <th>3</th>\n",
       "      <td>negative</td>\n",
       "      <td>42</td>\n",
       "      <td>existing credits paid back duly till now</td>\n",
       "      <td>furniture/equipment</td>\n",
       "      <td>7882</td>\n",
       "      <td>&lt; 100</td>\n",
       "      <td>4 - less than 7 years</td>\n",
       "      <td>2</td>\n",
       "      <td>male   : single</td>\n",
       "      <td>guarantor</td>\n",
       "      <td>...</td>\n",
       "      <td>if not A121 : building society savings agreeme...</td>\n",
       "      <td>45</td>\n",
       "      <td>none</td>\n",
       "      <td>for free</td>\n",
       "      <td>1</td>\n",
       "      <td>skilled employee /official</td>\n",
       "      <td>2</td>\n",
       "      <td>none</td>\n",
       "      <td>yes</td>\n",
       "      <td>1</td>\n",
       "    </tr>\n",
       "    <tr>\n",
       "      <th>4</th>\n",
       "      <td>negative</td>\n",
       "      <td>24</td>\n",
       "      <td>delay in paying off in the past</td>\n",
       "      <td>car (new)</td>\n",
       "      <td>4870</td>\n",
       "      <td>&lt; 100</td>\n",
       "      <td>1 - less than 4 years</td>\n",
       "      <td>3</td>\n",
       "      <td>male   : single</td>\n",
       "      <td>none</td>\n",
       "      <td>...</td>\n",
       "      <td>unknown/no propert</td>\n",
       "      <td>53</td>\n",
       "      <td>none</td>\n",
       "      <td>for free</td>\n",
       "      <td>2</td>\n",
       "      <td>skilled employee /official</td>\n",
       "      <td>2</td>\n",
       "      <td>none</td>\n",
       "      <td>yes</td>\n",
       "      <td>2</td>\n",
       "    </tr>\n",
       "  </tbody>\n",
       "</table>\n",
       "<p>5 rows × 21 columns</p>\n",
       "</div>"
      ],
      "text/plain": [
       "  status_checking_account  duration_in_month  \\\n",
       "0                negative                  6   \n",
       "1                   < 200                 48   \n",
       "2     no checking account                 12   \n",
       "3                negative                 42   \n",
       "4                negative                 24   \n",
       "\n",
       "                                      credit_history              purpose  \\\n",
       "0  critical account/ other credits existing (not ...     radio/television   \n",
       "1           existing credits paid back duly till now     radio/television   \n",
       "2  critical account/ other credits existing (not ...            education   \n",
       "3           existing credits paid back duly till now  furniture/equipment   \n",
       "4                    delay in paying off in the past            car (new)   \n",
       "\n",
       "   credit_amount        savings_account/bonds     present_employment  \\\n",
       "0           1169  unknown/ no savings account             >= 7 years   \n",
       "1           5951                        < 100  1 - less than 4 years   \n",
       "2           2096                        < 100  4 - less than 7 years   \n",
       "3           7882                        < 100  4 - less than 7 years   \n",
       "4           4870                        < 100  1 - less than 4 years   \n",
       "\n",
       "   installment_rate                        gender_status  \\\n",
       "0                 4                      male   : single   \n",
       "1                 2  female : divorced/separated/married   \n",
       "2                 2                      male   : single   \n",
       "3                 2                      male   : single   \n",
       "4                 3                      male   : single   \n",
       "\n",
       "  other_debtors/guarantors  ...  \\\n",
       "0                     none  ...   \n",
       "1                     none  ...   \n",
       "2                     none  ...   \n",
       "3                guarantor  ...   \n",
       "4                     none  ...   \n",
       "\n",
       "                                            property age  other_installment  \\\n",
       "0                                        real estate  67               none   \n",
       "1                                        real estate  22               none   \n",
       "2                                        real estate  49               none   \n",
       "3  if not A121 : building society savings agreeme...  45               none   \n",
       "4                                 unknown/no propert  53               none   \n",
       "\n",
       "    housing existing_credits                   job_skill number_of_dependents  \\\n",
       "0       own                2  skilled employee /official                    1   \n",
       "1       own                1  skilled employee /official                    1   \n",
       "2       own                1        unskilled - resident                    2   \n",
       "3  for free                1  skilled employee /official                    2   \n",
       "4  for free                2  skilled employee /official                    2   \n",
       "\n",
       "   telephone foreign_worker score  \n",
       "0        yes            yes     1  \n",
       "1       none            yes     2  \n",
       "2       none            yes     1  \n",
       "3       none            yes     1  \n",
       "4       none            yes     2  \n",
       "\n",
       "[5 rows x 21 columns]"
      ]
     },
     "execution_count": 33,
     "metadata": {},
     "output_type": "execute_result"
    }
   ],
   "source": [
    "# df.info()\n",
    "df.head()"
   ]
  },
  {
   "cell_type": "code",
   "execution_count": 26,
   "metadata": {},
   "outputs": [
    {
     "data": {
      "text/plain": [
       "(1000, 21)"
      ]
     },
     "execution_count": 26,
     "metadata": {},
     "output_type": "execute_result"
    }
   ],
   "source": [
    "df[\"existing_credits\"].unique()\n",
    "df.shape"
   ]
  },
  {
   "cell_type": "code",
   "execution_count": 27,
   "metadata": {},
   "outputs": [
    {
     "data": {
      "application/vnd.microsoft.datawrangler.viewer.v0+json": {
       "columns": [
        {
         "name": "score",
         "rawType": "int64",
         "type": "integer"
        },
        {
         "name": "age",
         "rawType": "int64",
         "type": "integer"
        }
       ],
       "ref": "a72e9fff-ee81-470a-87a3-bbac45bc5250",
       "rows": [
        [
         "1",
         "700"
        ],
        [
         "2",
         "300"
        ]
       ],
       "shape": {
        "columns": 1,
        "rows": 2
       }
      },
      "text/plain": [
       "score\n",
       "1    700\n",
       "2    300\n",
       "Name: age, dtype: int64"
      ]
     },
     "execution_count": 27,
     "metadata": {},
     "output_type": "execute_result"
    }
   ],
   "source": [
    "# df.groupby(\"score\")[\"score\"].count()\n",
    "df.groupby(\"score\")[\"age\"].count()"
   ]
  },
  {
   "cell_type": "code",
   "execution_count": 16,
   "metadata": {},
   "outputs": [
    {
     "data": {
      "application/vnd.microsoft.datawrangler.viewer.v0+json": {
       "columns": [
        {
         "name": "score",
         "rawType": "int64",
         "type": "integer"
        },
        {
         "name": "status_checking_account",
         "rawType": "object",
         "type": "string"
        },
        {
         "name": "duration_in_month",
         "rawType": "int64",
         "type": "integer"
        },
        {
         "name": "credit_history",
         "rawType": "object",
         "type": "string"
        },
        {
         "name": "purpose",
         "rawType": "object",
         "type": "string"
        },
        {
         "name": "credit_amount",
         "rawType": "int64",
         "type": "integer"
        },
        {
         "name": "savings_account/bonds",
         "rawType": "object",
         "type": "string"
        },
        {
         "name": "present_employment",
         "rawType": "object",
         "type": "string"
        },
        {
         "name": "installment_rate",
         "rawType": "int64",
         "type": "integer"
        },
        {
         "name": "gender_status",
         "rawType": "object",
         "type": "string"
        },
        {
         "name": "other_debtors/guarantors",
         "rawType": "object",
         "type": "string"
        },
        {
         "name": "present_residence",
         "rawType": "int64",
         "type": "integer"
        },
        {
         "name": "property",
         "rawType": "object",
         "type": "string"
        },
        {
         "name": "age",
         "rawType": "int64",
         "type": "integer"
        },
        {
         "name": "other_installment",
         "rawType": "object",
         "type": "string"
        },
        {
         "name": "housing",
         "rawType": "object",
         "type": "string"
        },
        {
         "name": "existing_credits",
         "rawType": "int64",
         "type": "integer"
        },
        {
         "name": "job_skill",
         "rawType": "object",
         "type": "string"
        },
        {
         "name": "number_of_dependents",
         "rawType": "int64",
         "type": "integer"
        },
        {
         "name": "telephone",
         "rawType": "object",
         "type": "string"
        },
        {
         "name": "foreign_worker",
         "rawType": "object",
         "type": "string"
        }
       ],
       "ref": "b4e37c98-09f4-421e-ab47-f811e838e6ea",
       "rows": [
        [
         "1",
         "no checking account",
         "24",
         "critical account/ other credits existing (not at this bank)",
         "furniture/equipment",
         "2028",
         "< 100",
         "4 - less than 7 years",
         "2",
         "male   : single",
         "none",
         "2",
         "if not A121 : building society savings agreement/life insurance",
         "30",
         "none",
         "own",
         "2",
         "unskilled - resident",
         "1",
         "none",
         "yes"
        ],
        [
         "1",
         ">= 200/salary assignments for at least 1 year",
         "21",
         "existing credits paid back duly till now",
         "car (new)",
         "2923",
         "100-499 ",
         "1 - less than 4 years",
         "1",
         "female : divorced/separated/married",
         "none",
         "1",
         "if not A121/A122 : car or other, not in attribute 6",
         "28",
         "bank",
         "own",
         "1",
         "management/self-employed/highly qualified employee/officer",
         "1",
         "yes",
         "yes"
        ],
        [
         "1",
         "no checking account",
         "9",
         "critical account/ other credits existing (not at this bank)",
         "car (new)",
         "2134",
         "< 100",
         "1 - less than 4 years",
         "4",
         "male   : single",
         "none",
         "4",
         "if not A121/A122 : car or other, not in attribute 6",
         "48",
         "none",
         "own",
         "3",
         "skilled employee /official",
         "1",
         "yes",
         "yes"
        ],
        [
         "1",
         "no checking account",
         "24",
         "existing credits paid back duly till now",
         "radio/television",
         "3430",
         "500-999",
         ">= 7 years",
         "3",
         "male   : single",
         "none",
         "2",
         "if not A121/A122 : car or other, not in attribute 6",
         "31",
         "none",
         "own",
         "1",
         "skilled employee /official",
         "2",
         "yes",
         "yes"
        ],
        [
         "1",
         "negative",
         "30",
         "no credits taken/all credits paid back duly",
         "business",
         "8072",
         "unknown/ no savings account",
         "< 1 year",
         "2",
         "male   : single",
         "none",
         "3",
         "if not A121/A122 : car or other, not in attribute 6",
         "25",
         "bank",
         "own",
         "3",
         "skilled employee /official",
         "1",
         "none",
         "yes"
        ],
        [
         "1",
         "no checking account",
         "24",
         "critical account/ other credits existing (not at this bank)",
         "radio/television",
         "2424",
         "unknown/ no savings account",
         ">= 7 years",
         "4",
         "male   : single",
         "none",
         "4",
         "if not A121 : building society savings agreement/life insurance",
         "53",
         "none",
         "own",
         "2",
         "skilled employee /official",
         "1",
         "none",
         "yes"
        ],
        [
         "1",
         "negative",
         "15",
         "existing credits paid back duly till now",
         "car (new)",
         "1403",
         "< 100",
         "1 - less than 4 years",
         "2",
         "female : divorced/separated/married",
         "none",
         "4",
         "if not A121/A122 : car or other, not in attribute 6",
         "28",
         "none",
         "rent",
         "1",
         "skilled employee /official",
         "1",
         "none",
         "yes"
        ],
        [
         "1",
         "< 200",
         "12",
         "existing credits paid back duly till now",
         "radio/television",
         "1567",
         "< 100",
         "1 - less than 4 years",
         "1",
         "female : divorced/separated/married",
         "none",
         "1",
         "if not A121/A122 : car or other, not in attribute 6",
         "22",
         "none",
         "own",
         "1",
         "skilled employee /official",
         "1",
         "yes",
         "yes"
        ],
        [
         "1",
         "no checking account",
         "12",
         "existing credits paid back duly till now",
         "radio/television",
         "3059",
         ">= 1000",
         "4 - less than 7 years",
         "2",
         "male   : divorced/separated",
         "none",
         "4",
         "real estate",
         "61",
         "none",
         "own",
         "1",
         "unskilled - resident",
         "1",
         "none",
         "yes"
        ],
        [
         "1",
         "< 200",
         "36",
         "existing credits paid back duly till now",
         "car (used)",
         "6948",
         "< 100",
         "1 - less than 4 years",
         "2",
         "male   : single",
         "none",
         "2",
         "if not A121/A122 : car or other, not in attribute 6",
         "35",
         "none",
         "rent",
         "1",
         "management/self-employed/highly qualified employee/officer",
         "1",
         "yes",
         "yes"
        ],
        [
         "1",
         "no checking account",
         "24",
         "existing credits paid back duly till now",
         "furniture/equipment",
         "2835",
         "500-999",
         ">= 7 years",
         "3",
         "male   : single",
         "none",
         "4",
         "if not A121 : building society savings agreement/life insurance",
         "53",
         "none",
         "own",
         "1",
         "skilled employee /official",
         "1",
         "none",
         "yes"
        ],
        [
         "1",
         "no checking account",
         "36",
         "existing credits paid back duly till now",
         "education",
         "9055",
         "unknown/ no savings account",
         "1 - less than 4 years",
         "2",
         "male   : single",
         "none",
         "4",
         "unknown/no propert",
         "35",
         "none",
         "for free",
         "1",
         "unskilled - resident",
         "2",
         "yes",
         "yes"
        ],
        [
         "1",
         "< 200",
         "24",
         "existing credits paid back duly till now",
         "radio/television",
         "2896",
         "100-499 ",
         "< 1 year",
         "2",
         "male   : single",
         "none",
         "1",
         "if not A121/A122 : car or other, not in attribute 6",
         "29",
         "none",
         "own",
         "1",
         "skilled employee /official",
         "1",
         "none",
         "yes"
        ],
        [
         "1",
         "< 200",
         "15",
         "existing credits paid back duly till now",
         "repairs",
         "2631",
         "100-499 ",
         "1 - less than 4 years",
         "3",
         "female : divorced/separated/married",
         "none",
         "2",
         "real estate",
         "25",
         "none",
         "own",
         "1",
         "unskilled - resident",
         "1",
         "none",
         "yes"
        ],
        [
         "1",
         "negative",
         "15",
         "critical account/ other credits existing (not at this bank)",
         "furniture/equipment",
         "975",
         "< 100",
         "1 - less than 4 years",
         "2",
         "male   : divorced/separated",
         "none",
         "3",
         "if not A121 : building society savings agreement/life insurance",
         "25",
         "none",
         "own",
         "2",
         "skilled employee /official",
         "1",
         "none",
         "yes"
        ],
        [
         "1",
         "negative",
         "12",
         "existing credits paid back duly till now",
         "car (new)",
         "3651",
         ">= 1000",
         "1 - less than 4 years",
         "1",
         "male   : single",
         "none",
         "3",
         "if not A121 : building society savings agreement/life insurance",
         "31",
         "none",
         "own",
         "1",
         "skilled employee /official",
         "2",
         "none",
         "yes"
        ],
        [
         "1",
         "< 200",
         "18",
         "existing credits paid back duly till now",
         "car (new)",
         "5866",
         "100-499 ",
         "1 - less than 4 years",
         "2",
         "male   : single",
         "none",
         "2",
         "if not A121/A122 : car or other, not in attribute 6",
         "30",
         "none",
         "own",
         "2",
         "skilled employee /official",
         "1",
         "yes",
         "yes"
        ],
        [
         "1",
         "negative",
         "24",
         "existing credits paid back duly till now",
         "furniture/equipment",
         "4020",
         "< 100",
         "1 - less than 4 years",
         "2",
         "male   : single",
         "none",
         "2",
         "if not A121/A122 : car or other, not in attribute 6",
         "27",
         "stores",
         "own",
         "1",
         "skilled employee /official",
         "1",
         "none",
         "yes"
        ],
        [
         "1",
         "< 200",
         "18",
         "existing credits paid back duly till now",
         "business",
         "1913",
         ">= 1000",
         "< 1 year",
         "3",
         "male   : married/widowed",
         "none",
         "3",
         "real estate",
         "36",
         "bank",
         "own",
         "1",
         "skilled employee /official",
         "1",
         "yes",
         "yes"
        ],
        [
         "1",
         "< 200",
         "7",
         "existing credits paid back duly till now",
         "radio/television",
         "2415",
         "< 100",
         "1 - less than 4 years",
         "3",
         "male   : single",
         "guarantor",
         "2",
         "real estate",
         "34",
         "none",
         "own",
         "1",
         "skilled employee /official",
         "1",
         "none",
         "yes"
        ],
        [
         "1",
         ">= 200/salary assignments for at least 1 year",
         "12",
         "all credits at this bank paid back duly",
         "radio/television",
         "409",
         ">= 1000",
         "1 - less than 4 years",
         "3",
         "female : divorced/separated/married",
         "none",
         "3",
         "real estate",
         "42",
         "none",
         "rent",
         "2",
         "skilled employee /official",
         "1",
         "none",
         "yes"
        ],
        [
         "1",
         "no checking account",
         "6",
         "no credits taken/all credits paid back duly",
         "radio/television",
         "426",
         "< 100",
         ">= 7 years",
         "4",
         "male   : married/widowed",
         "none",
         "4",
         "if not A121/A122 : car or other, not in attribute 6",
         "39",
         "none",
         "own",
         "1",
         "unskilled - resident",
         "1",
         "none",
         "yes"
        ],
        [
         "1",
         "negative",
         "6",
         "existing credits paid back duly till now",
         "furniture/equipment",
         "1374",
         "< 100",
         "1 - less than 4 years",
         "1",
         "male   : single",
         "none",
         "2",
         "real estate",
         "36",
         "bank",
         "own",
         "1",
         "unskilled - resident",
         "1",
         "yes",
         "yes"
        ],
        [
         "1",
         "< 200",
         "12",
         "critical account/ other credits existing (not at this bank)",
         "car (used)",
         "1804",
         "100-499 ",
         "< 1 year",
         "3",
         "male   : single",
         "none",
         "4",
         "if not A121 : building society savings agreement/life insurance",
         "44",
         "none",
         "own",
         "1",
         "skilled employee /official",
         "1",
         "none",
         "yes"
        ],
        [
         "1",
         "negative",
         "6",
         "existing credits paid back duly till now",
         "radio/television",
         "2647",
         "500-999",
         "1 - less than 4 years",
         "2",
         "male   : single",
         "none",
         "3",
         "real estate",
         "44",
         "none",
         "rent",
         "1",
         "skilled employee /official",
         "2",
         "none",
         "yes"
        ],
        [
         "1",
         "no checking account",
         "12",
         "existing credits paid back duly till now",
         "radio/television",
         "804",
         "< 100",
         ">= 7 years",
         "4",
         "male   : single",
         "none",
         "4",
         "if not A121/A122 : car or other, not in attribute 6",
         "38",
         "none",
         "own",
         "1",
         "skilled employee /official",
         "1",
         "none",
         "yes"
        ],
        [
         "1",
         "negative",
         "42",
         "existing credits paid back duly till now",
         "furniture/equipment",
         "7882",
         "< 100",
         "4 - less than 7 years",
         "2",
         "male   : single",
         "guarantor",
         "4",
         "if not A121 : building society savings agreement/life insurance",
         "45",
         "none",
         "for free",
         "1",
         "skilled employee /official",
         "2",
         "none",
         "yes"
        ],
        [
         "1",
         "no checking account",
         "12",
         "critical account/ other credits existing (not at this bank)",
         "education",
         "2096",
         "< 100",
         "4 - less than 7 years",
         "2",
         "male   : single",
         "none",
         "3",
         "real estate",
         "49",
         "none",
         "own",
         "1",
         "unskilled - resident",
         "2",
         "none",
         "yes"
        ],
        [
         "1",
         "< 200",
         "45",
         "critical account/ other credits existing (not at this bank)",
         "car (used)",
         "4576",
         "100-499 ",
         "unemployed",
         "3",
         "male   : single",
         "none",
         "4",
         "if not A121/A122 : car or other, not in attribute 6",
         "27",
         "none",
         "own",
         "1",
         "skilled employee /official",
         "1",
         "none",
         "yes"
        ],
        [
         "1",
         "negative",
         "15",
         "critical account/ other credits existing (not at this bank)",
         "furniture/equipment",
         "1433",
         "< 100",
         "1 - less than 4 years",
         "4",
         "female : divorced/separated/married",
         "none",
         "3",
         "if not A121 : building society savings agreement/life insurance",
         "25",
         "none",
         "rent",
         "2",
         "skilled employee /official",
         "1",
         "none",
         "yes"
        ],
        [
         "1",
         "< 200",
         "9",
         "existing credits paid back duly till now",
         "business",
         "1391",
         "< 100",
         "1 - less than 4 years",
         "2",
         "male   : married/widowed",
         "none",
         "1",
         "real estate",
         "27",
         "bank",
         "own",
         "1",
         "skilled employee /official",
         "1",
         "yes",
         "yes"
        ],
        [
         "1",
         ">= 200/salary assignments for at least 1 year",
         "18",
         "existing credits paid back duly till now",
         "car (new)",
         "1961",
         "< 100",
         ">= 7 years",
         "3",
         "female : divorced/separated/married",
         "none",
         "2",
         "if not A121/A122 : car or other, not in attribute 6",
         "23",
         "none",
         "own",
         "1",
         "management/self-employed/highly qualified employee/officer",
         "1",
         "none",
         "yes"
        ],
        [
         "1",
         "no checking account",
         "36",
         "critical account/ other credits existing (not at this bank)",
         "radio/television",
         "9566",
         "< 100",
         "1 - less than 4 years",
         "2",
         "female : divorced/separated/married",
         "none",
         "2",
         "if not A121/A122 : car or other, not in attribute 6",
         "31",
         "stores",
         "own",
         "2",
         "skilled employee /official",
         "1",
         "none",
         "yes"
        ],
        [
         "1",
         "no checking account",
         "6",
         "all credits at this bank paid back duly",
         "car (new)",
         "783",
         "unknown/ no savings account",
         "1 - less than 4 years",
         "1",
         "male   : single",
         "guarantor",
         "2",
         "real estate",
         "26",
         "stores",
         "own",
         "1",
         "unskilled - resident",
         "2",
         "none",
         "yes"
        ],
        [
         "1",
         "no checking account",
         "18",
         "existing credits paid back duly till now",
         "car (used)",
         "3378",
         "unknown/ no savings account",
         "1 - less than 4 years",
         "2",
         "male   : single",
         "none",
         "1",
         "if not A121 : building society savings agreement/life insurance",
         "31",
         "none",
         "own",
         "1",
         "skilled employee /official",
         "1",
         "yes",
         "yes"
        ],
        [
         "1",
         "no checking account",
         "12",
         "existing credits paid back duly till now",
         "radio/television",
         "1262",
         "< 100",
         "1 - less than 4 years",
         "3",
         "male   : single",
         "none",
         "2",
         "if not A121/A122 : car or other, not in attribute 6",
         "25",
         "none",
         "own",
         "1",
         "skilled employee /official",
         "1",
         "none",
         "yes"
        ],
        [
         "1",
         "< 200",
         "27",
         "delay in paying off in the past",
         "car (used)",
         "5965",
         "< 100",
         ">= 7 years",
         "1",
         "male   : single",
         "none",
         "2",
         "if not A121/A122 : car or other, not in attribute 6",
         "30",
         "none",
         "own",
         "2",
         "management/self-employed/highly qualified employee/officer",
         "1",
         "yes",
         "yes"
        ],
        [
         "1",
         "< 200",
         "24",
         "delay in paying off in the past",
         "furniture/equipment",
         "2333",
         "unknown/ no savings account",
         "< 1 year",
         "4",
         "male   : single",
         "none",
         "2",
         "if not A121 : building society savings agreement/life insurance",
         "29",
         "bank",
         "own",
         "1",
         "unskilled - resident",
         "1",
         "none",
         "yes"
        ],
        [
         "1",
         "no checking account",
         "12",
         "existing credits paid back duly till now",
         "radio/television",
         "2073",
         "100-499 ",
         "1 - less than 4 years",
         "4",
         "female : divorced/separated/married",
         "co-applicant",
         "2",
         "real estate",
         "28",
         "none",
         "own",
         "1",
         "skilled employee /official",
         "1",
         "none",
         "yes"
        ],
        [
         "1",
         "no checking account",
         "11",
         "critical account/ other credits existing (not at this bank)",
         "car (new)",
         "7228",
         "< 100",
         "1 - less than 4 years",
         "1",
         "male   : single",
         "none",
         "4",
         "if not A121 : building society savings agreement/life insurance",
         "39",
         "none",
         "own",
         "2",
         "unskilled - resident",
         "1",
         "none",
         "yes"
        ],
        [
         "1",
         "negative",
         "6",
         "existing credits paid back duly till now",
         "car (used)",
         "1352",
         "500-999",
         "unemployed",
         "1",
         "female : divorced/separated/married",
         "none",
         "2",
         "if not A121 : building society savings agreement/life insurance",
         "23",
         "none",
         "rent",
         "1",
         "unemployed/unskilled - non-resident",
         "1",
         "yes",
         "yes"
        ],
        [
         "1",
         "no checking account",
         "36",
         "existing credits paid back duly till now",
         "radio/television",
         "2299",
         "500-999",
         ">= 7 years",
         "4",
         "male   : single",
         "none",
         "4",
         "if not A121/A122 : car or other, not in attribute 6",
         "39",
         "none",
         "own",
         "1",
         "skilled employee /official",
         "1",
         "none",
         "yes"
        ],
        [
         "1",
         "no checking account",
         "11",
         "critical account/ other credits existing (not at this bank)",
         "car (new)",
         "1393",
         "< 100",
         "< 1 year",
         "4",
         "female : divorced/separated/married",
         "none",
         "4",
         "if not A121/A122 : car or other, not in attribute 6",
         "35",
         "none",
         "own",
         "2",
         "management/self-employed/highly qualified employee/officer",
         "1",
         "none",
         "yes"
        ],
        [
         "1",
         "negative",
         "30",
         "critical account/ other credits existing (not at this bank)",
         "car (used)",
         "6187",
         "100-499 ",
         "4 - less than 7 years",
         "1",
         "male   : married/widowed",
         "none",
         "4",
         "if not A121/A122 : car or other, not in attribute 6",
         "24",
         "none",
         "rent",
         "2",
         "skilled employee /official",
         "1",
         "none",
         "yes"
        ],
        [
         "1",
         "< 200",
         "18",
         "delay in paying off in the past",
         "repairs",
         "6204",
         "< 100",
         "1 - less than 4 years",
         "2",
         "male   : single",
         "none",
         "4",
         "real estate",
         "44",
         "none",
         "own",
         "1",
         "unskilled - resident",
         "2",
         "yes",
         "yes"
        ],
        [
         "1",
         "< 200",
         "12",
         "existing credits paid back duly till now",
         "radio/television",
         "1158",
         "500-999",
         "1 - less than 4 years",
         "3",
         "male   : divorced/separated",
         "none",
         "1",
         "if not A121/A122 : car or other, not in attribute 6",
         "26",
         "none",
         "own",
         "1",
         "skilled employee /official",
         "1",
         "yes",
         "yes"
        ],
        [
         "1",
         "no checking account",
         "18",
         "existing credits paid back duly till now",
         "business",
         "1568",
         "100-499 ",
         "1 - less than 4 years",
         "3",
         "female : divorced/separated/married",
         "none",
         "4",
         "if not A121 : building society savings agreement/life insurance",
         "24",
         "none",
         "rent",
         "1",
         "unskilled - resident",
         "1",
         "none",
         "yes"
        ],
        [
         "1",
         "no checking account",
         "15",
         "existing credits paid back duly till now",
         "radio/television",
         "1213",
         "500-999",
         ">= 7 years",
         "4",
         "male   : single",
         "none",
         "3",
         "if not A121 : building society savings agreement/life insurance",
         "47",
         "stores",
         "own",
         "1",
         "skilled employee /official",
         "1",
         "yes",
         "yes"
        ],
        [
         "1",
         "< 200",
         "30",
         "existing credits paid back duly till now",
         "furniture/equipment",
         "3832",
         "< 100",
         "< 1 year",
         "2",
         "male   : married/widowed",
         "none",
         "1",
         "if not A121 : building society savings agreement/life insurance",
         "22",
         "none",
         "own",
         "1",
         "skilled employee /official",
         "1",
         "none",
         "yes"
        ],
        [
         "1",
         "no checking account",
         "54",
         "no credits taken/all credits paid back duly",
         "car (used)",
         "9436",
         "unknown/ no savings account",
         "1 - less than 4 years",
         "2",
         "male   : single",
         "none",
         "2",
         "if not A121 : building society savings agreement/life insurance",
         "39",
         "none",
         "own",
         "1",
         "unskilled - resident",
         "2",
         "none",
         "yes"
        ]
       ],
       "shape": {
        "columns": 20,
        "rows": 963
       }
      },
      "text/html": [
       "<div>\n",
       "<style scoped>\n",
       "    .dataframe tbody tr th:only-of-type {\n",
       "        vertical-align: middle;\n",
       "    }\n",
       "\n",
       "    .dataframe tbody tr th {\n",
       "        vertical-align: top;\n",
       "    }\n",
       "\n",
       "    .dataframe thead th {\n",
       "        text-align: right;\n",
       "    }\n",
       "</style>\n",
       "<table border=\"1\" class=\"dataframe\">\n",
       "  <thead>\n",
       "    <tr style=\"text-align: right;\">\n",
       "      <th></th>\n",
       "      <th>status_checking_account</th>\n",
       "      <th>duration_in_month</th>\n",
       "      <th>credit_history</th>\n",
       "      <th>purpose</th>\n",
       "      <th>credit_amount</th>\n",
       "      <th>savings_account/bonds</th>\n",
       "      <th>present_employment</th>\n",
       "      <th>installment_rate</th>\n",
       "      <th>gender_status</th>\n",
       "      <th>other_debtors/guarantors</th>\n",
       "      <th>present_residence</th>\n",
       "      <th>property</th>\n",
       "      <th>age</th>\n",
       "      <th>other_installment</th>\n",
       "      <th>housing</th>\n",
       "      <th>existing_credits</th>\n",
       "      <th>job_skill</th>\n",
       "      <th>number_of_dependents</th>\n",
       "      <th>telephone</th>\n",
       "      <th>foreign_worker</th>\n",
       "    </tr>\n",
       "    <tr>\n",
       "      <th>score</th>\n",
       "      <th></th>\n",
       "      <th></th>\n",
       "      <th></th>\n",
       "      <th></th>\n",
       "      <th></th>\n",
       "      <th></th>\n",
       "      <th></th>\n",
       "      <th></th>\n",
       "      <th></th>\n",
       "      <th></th>\n",
       "      <th></th>\n",
       "      <th></th>\n",
       "      <th></th>\n",
       "      <th></th>\n",
       "      <th></th>\n",
       "      <th></th>\n",
       "      <th></th>\n",
       "      <th></th>\n",
       "      <th></th>\n",
       "      <th></th>\n",
       "    </tr>\n",
       "  </thead>\n",
       "  <tbody>\n",
       "    <tr>\n",
       "      <th>1</th>\n",
       "      <td>no checking account</td>\n",
       "      <td>24</td>\n",
       "      <td>critical account/ other credits existing (not ...</td>\n",
       "      <td>furniture/equipment</td>\n",
       "      <td>2028</td>\n",
       "      <td>&lt; 100</td>\n",
       "      <td>4 - less than 7 years</td>\n",
       "      <td>2</td>\n",
       "      <td>male   : single</td>\n",
       "      <td>none</td>\n",
       "      <td>2</td>\n",
       "      <td>if not A121 : building society savings agreeme...</td>\n",
       "      <td>30</td>\n",
       "      <td>none</td>\n",
       "      <td>own</td>\n",
       "      <td>2</td>\n",
       "      <td>unskilled - resident</td>\n",
       "      <td>1</td>\n",
       "      <td>none</td>\n",
       "      <td>yes</td>\n",
       "    </tr>\n",
       "    <tr>\n",
       "      <th>1</th>\n",
       "      <td>&gt;= 200/salary assignments for at least 1 year</td>\n",
       "      <td>21</td>\n",
       "      <td>existing credits paid back duly till now</td>\n",
       "      <td>car (new)</td>\n",
       "      <td>2923</td>\n",
       "      <td>100-499</td>\n",
       "      <td>1 - less than 4 years</td>\n",
       "      <td>1</td>\n",
       "      <td>female : divorced/separated/married</td>\n",
       "      <td>none</td>\n",
       "      <td>1</td>\n",
       "      <td>if not A121/A122 : car or other, not in attrib...</td>\n",
       "      <td>28</td>\n",
       "      <td>bank</td>\n",
       "      <td>own</td>\n",
       "      <td>1</td>\n",
       "      <td>management/self-employed/highly qualified empl...</td>\n",
       "      <td>1</td>\n",
       "      <td>yes</td>\n",
       "      <td>yes</td>\n",
       "    </tr>\n",
       "    <tr>\n",
       "      <th>1</th>\n",
       "      <td>no checking account</td>\n",
       "      <td>9</td>\n",
       "      <td>critical account/ other credits existing (not ...</td>\n",
       "      <td>car (new)</td>\n",
       "      <td>2134</td>\n",
       "      <td>&lt; 100</td>\n",
       "      <td>1 - less than 4 years</td>\n",
       "      <td>4</td>\n",
       "      <td>male   : single</td>\n",
       "      <td>none</td>\n",
       "      <td>4</td>\n",
       "      <td>if not A121/A122 : car or other, not in attrib...</td>\n",
       "      <td>48</td>\n",
       "      <td>none</td>\n",
       "      <td>own</td>\n",
       "      <td>3</td>\n",
       "      <td>skilled employee /official</td>\n",
       "      <td>1</td>\n",
       "      <td>yes</td>\n",
       "      <td>yes</td>\n",
       "    </tr>\n",
       "    <tr>\n",
       "      <th>1</th>\n",
       "      <td>no checking account</td>\n",
       "      <td>24</td>\n",
       "      <td>existing credits paid back duly till now</td>\n",
       "      <td>radio/television</td>\n",
       "      <td>3430</td>\n",
       "      <td>500-999</td>\n",
       "      <td>&gt;= 7 years</td>\n",
       "      <td>3</td>\n",
       "      <td>male   : single</td>\n",
       "      <td>none</td>\n",
       "      <td>2</td>\n",
       "      <td>if not A121/A122 : car or other, not in attrib...</td>\n",
       "      <td>31</td>\n",
       "      <td>none</td>\n",
       "      <td>own</td>\n",
       "      <td>1</td>\n",
       "      <td>skilled employee /official</td>\n",
       "      <td>2</td>\n",
       "      <td>yes</td>\n",
       "      <td>yes</td>\n",
       "    </tr>\n",
       "    <tr>\n",
       "      <th>1</th>\n",
       "      <td>negative</td>\n",
       "      <td>30</td>\n",
       "      <td>no credits taken/all credits paid back duly</td>\n",
       "      <td>business</td>\n",
       "      <td>8072</td>\n",
       "      <td>unknown/ no savings account</td>\n",
       "      <td>&lt; 1 year</td>\n",
       "      <td>2</td>\n",
       "      <td>male   : single</td>\n",
       "      <td>none</td>\n",
       "      <td>3</td>\n",
       "      <td>if not A121/A122 : car or other, not in attrib...</td>\n",
       "      <td>25</td>\n",
       "      <td>bank</td>\n",
       "      <td>own</td>\n",
       "      <td>3</td>\n",
       "      <td>skilled employee /official</td>\n",
       "      <td>1</td>\n",
       "      <td>none</td>\n",
       "      <td>yes</td>\n",
       "    </tr>\n",
       "    <tr>\n",
       "      <th>...</th>\n",
       "      <td>...</td>\n",
       "      <td>...</td>\n",
       "      <td>...</td>\n",
       "      <td>...</td>\n",
       "      <td>...</td>\n",
       "      <td>...</td>\n",
       "      <td>...</td>\n",
       "      <td>...</td>\n",
       "      <td>...</td>\n",
       "      <td>...</td>\n",
       "      <td>...</td>\n",
       "      <td>...</td>\n",
       "      <td>...</td>\n",
       "      <td>...</td>\n",
       "      <td>...</td>\n",
       "      <td>...</td>\n",
       "      <td>...</td>\n",
       "      <td>...</td>\n",
       "      <td>...</td>\n",
       "      <td>...</td>\n",
       "    </tr>\n",
       "    <tr>\n",
       "      <th>2</th>\n",
       "      <td>&lt; 200</td>\n",
       "      <td>45</td>\n",
       "      <td>critical account/ other credits existing (not ...</td>\n",
       "      <td>radio/television</td>\n",
       "      <td>4746</td>\n",
       "      <td>&lt; 100</td>\n",
       "      <td>&lt; 1 year</td>\n",
       "      <td>4</td>\n",
       "      <td>male   : single</td>\n",
       "      <td>none</td>\n",
       "      <td>2</td>\n",
       "      <td>if not A121 : building society savings agreeme...</td>\n",
       "      <td>25</td>\n",
       "      <td>none</td>\n",
       "      <td>own</td>\n",
       "      <td>2</td>\n",
       "      <td>unskilled - resident</td>\n",
       "      <td>1</td>\n",
       "      <td>none</td>\n",
       "      <td>yes</td>\n",
       "    </tr>\n",
       "    <tr>\n",
       "      <th>2</th>\n",
       "      <td>negative</td>\n",
       "      <td>60</td>\n",
       "      <td>delay in paying off in the past</td>\n",
       "      <td>business</td>\n",
       "      <td>6836</td>\n",
       "      <td>&lt; 100</td>\n",
       "      <td>&gt;= 7 years</td>\n",
       "      <td>3</td>\n",
       "      <td>male   : single</td>\n",
       "      <td>none</td>\n",
       "      <td>4</td>\n",
       "      <td>unknown/no propert</td>\n",
       "      <td>63</td>\n",
       "      <td>none</td>\n",
       "      <td>own</td>\n",
       "      <td>2</td>\n",
       "      <td>skilled employee /official</td>\n",
       "      <td>1</td>\n",
       "      <td>yes</td>\n",
       "      <td>yes</td>\n",
       "    </tr>\n",
       "    <tr>\n",
       "      <th>2</th>\n",
       "      <td>negative</td>\n",
       "      <td>45</td>\n",
       "      <td>existing credits paid back duly till now</td>\n",
       "      <td>radio/television</td>\n",
       "      <td>1845</td>\n",
       "      <td>&lt; 100</td>\n",
       "      <td>1 - less than 4 years</td>\n",
       "      <td>4</td>\n",
       "      <td>male   : single</td>\n",
       "      <td>none</td>\n",
       "      <td>4</td>\n",
       "      <td>unknown/no propert</td>\n",
       "      <td>23</td>\n",
       "      <td>none</td>\n",
       "      <td>for free</td>\n",
       "      <td>1</td>\n",
       "      <td>skilled employee /official</td>\n",
       "      <td>1</td>\n",
       "      <td>yes</td>\n",
       "      <td>yes</td>\n",
       "    </tr>\n",
       "    <tr>\n",
       "      <th>2</th>\n",
       "      <td>negative</td>\n",
       "      <td>24</td>\n",
       "      <td>delay in paying off in the past</td>\n",
       "      <td>car (new)</td>\n",
       "      <td>4870</td>\n",
       "      <td>&lt; 100</td>\n",
       "      <td>1 - less than 4 years</td>\n",
       "      <td>3</td>\n",
       "      <td>male   : single</td>\n",
       "      <td>none</td>\n",
       "      <td>4</td>\n",
       "      <td>unknown/no propert</td>\n",
       "      <td>53</td>\n",
       "      <td>none</td>\n",
       "      <td>for free</td>\n",
       "      <td>2</td>\n",
       "      <td>skilled employee /official</td>\n",
       "      <td>2</td>\n",
       "      <td>none</td>\n",
       "      <td>yes</td>\n",
       "    </tr>\n",
       "    <tr>\n",
       "      <th>2</th>\n",
       "      <td>&lt; 200</td>\n",
       "      <td>48</td>\n",
       "      <td>existing credits paid back duly till now</td>\n",
       "      <td>radio/television</td>\n",
       "      <td>5951</td>\n",
       "      <td>&lt; 100</td>\n",
       "      <td>1 - less than 4 years</td>\n",
       "      <td>2</td>\n",
       "      <td>female : divorced/separated/married</td>\n",
       "      <td>none</td>\n",
       "      <td>2</td>\n",
       "      <td>real estate</td>\n",
       "      <td>22</td>\n",
       "      <td>none</td>\n",
       "      <td>own</td>\n",
       "      <td>1</td>\n",
       "      <td>skilled employee /official</td>\n",
       "      <td>1</td>\n",
       "      <td>none</td>\n",
       "      <td>yes</td>\n",
       "    </tr>\n",
       "  </tbody>\n",
       "</table>\n",
       "<p>963 rows × 20 columns</p>\n",
       "</div>"
      ],
      "text/plain": [
       "                             status_checking_account  duration_in_month  \\\n",
       "score                                                                     \n",
       "1                                no checking account                 24   \n",
       "1      >= 200/salary assignments for at least 1 year                 21   \n",
       "1                                no checking account                  9   \n",
       "1                                no checking account                 24   \n",
       "1                                           negative                 30   \n",
       "...                                              ...                ...   \n",
       "2                                              < 200                 45   \n",
       "2                                           negative                 60   \n",
       "2                                           negative                 45   \n",
       "2                                           negative                 24   \n",
       "2                                              < 200                 48   \n",
       "\n",
       "                                          credit_history              purpose  \\\n",
       "score                                                                           \n",
       "1      critical account/ other credits existing (not ...  furniture/equipment   \n",
       "1               existing credits paid back duly till now            car (new)   \n",
       "1      critical account/ other credits existing (not ...            car (new)   \n",
       "1               existing credits paid back duly till now     radio/television   \n",
       "1            no credits taken/all credits paid back duly             business   \n",
       "...                                                  ...                  ...   \n",
       "2      critical account/ other credits existing (not ...     radio/television   \n",
       "2                        delay in paying off in the past             business   \n",
       "2               existing credits paid back duly till now     radio/television   \n",
       "2                        delay in paying off in the past            car (new)   \n",
       "2               existing credits paid back duly till now     radio/television   \n",
       "\n",
       "       credit_amount        savings_account/bonds     present_employment  \\\n",
       "score                                                                      \n",
       "1               2028                        < 100  4 - less than 7 years   \n",
       "1               2923                     100-499   1 - less than 4 years   \n",
       "1               2134                        < 100  1 - less than 4 years   \n",
       "1               3430                      500-999             >= 7 years   \n",
       "1               8072  unknown/ no savings account               < 1 year   \n",
       "...              ...                          ...                    ...   \n",
       "2               4746                        < 100               < 1 year   \n",
       "2               6836                        < 100             >= 7 years   \n",
       "2               1845                        < 100  1 - less than 4 years   \n",
       "2               4870                        < 100  1 - less than 4 years   \n",
       "2               5951                        < 100  1 - less than 4 years   \n",
       "\n",
       "       installment_rate                        gender_status  \\\n",
       "score                                                          \n",
       "1                     2                      male   : single   \n",
       "1                     1  female : divorced/separated/married   \n",
       "1                     4                      male   : single   \n",
       "1                     3                      male   : single   \n",
       "1                     2                      male   : single   \n",
       "...                 ...                                  ...   \n",
       "2                     4                      male   : single   \n",
       "2                     3                      male   : single   \n",
       "2                     4                      male   : single   \n",
       "2                     3                      male   : single   \n",
       "2                     2  female : divorced/separated/married   \n",
       "\n",
       "      other_debtors/guarantors  present_residence  \\\n",
       "score                                               \n",
       "1                         none                  2   \n",
       "1                         none                  1   \n",
       "1                         none                  4   \n",
       "1                         none                  2   \n",
       "1                         none                  3   \n",
       "...                        ...                ...   \n",
       "2                         none                  2   \n",
       "2                         none                  4   \n",
       "2                         none                  4   \n",
       "2                         none                  4   \n",
       "2                         none                  2   \n",
       "\n",
       "                                                property  age  \\\n",
       "score                                                           \n",
       "1      if not A121 : building society savings agreeme...   30   \n",
       "1      if not A121/A122 : car or other, not in attrib...   28   \n",
       "1      if not A121/A122 : car or other, not in attrib...   48   \n",
       "1      if not A121/A122 : car or other, not in attrib...   31   \n",
       "1      if not A121/A122 : car or other, not in attrib...   25   \n",
       "...                                                  ...  ...   \n",
       "2      if not A121 : building society savings agreeme...   25   \n",
       "2                                     unknown/no propert   63   \n",
       "2                                     unknown/no propert   23   \n",
       "2                                     unknown/no propert   53   \n",
       "2                                            real estate   22   \n",
       "\n",
       "      other_installment   housing  existing_credits  \\\n",
       "score                                                 \n",
       "1                  none       own                 2   \n",
       "1                  bank       own                 1   \n",
       "1                  none       own                 3   \n",
       "1                  none       own                 1   \n",
       "1                  bank       own                 3   \n",
       "...                 ...       ...               ...   \n",
       "2                  none       own                 2   \n",
       "2                  none       own                 2   \n",
       "2                  none  for free                 1   \n",
       "2                  none  for free                 2   \n",
       "2                  none       own                 1   \n",
       "\n",
       "                                               job_skill  \\\n",
       "score                                                      \n",
       "1                                   unskilled - resident   \n",
       "1      management/self-employed/highly qualified empl...   \n",
       "1                             skilled employee /official   \n",
       "1                             skilled employee /official   \n",
       "1                             skilled employee /official   \n",
       "...                                                  ...   \n",
       "2                                   unskilled - resident   \n",
       "2                             skilled employee /official   \n",
       "2                             skilled employee /official   \n",
       "2                             skilled employee /official   \n",
       "2                             skilled employee /official   \n",
       "\n",
       "       number_of_dependents telephone foreign_worker  \n",
       "score                                                 \n",
       "1                         1      none            yes  \n",
       "1                         1       yes            yes  \n",
       "1                         1       yes            yes  \n",
       "1                         2       yes            yes  \n",
       "1                         1      none            yes  \n",
       "...                     ...       ...            ...  \n",
       "2                         1      none            yes  \n",
       "2                         1       yes            yes  \n",
       "2                         1       yes            yes  \n",
       "2                         2      none            yes  \n",
       "2                         1      none            yes  \n",
       "\n",
       "[963 rows x 20 columns]"
      ]
     },
     "execution_count": 16,
     "metadata": {},
     "output_type": "execute_result"
    }
   ],
   "source": [
    "df0 = df.set_index(\"score\").sort_index()\n",
    "# df0.tail(100)\n",
    "# df0[df0[\"foreign_worker\"]== \"yes\"] "
   ]
  },
  {
   "cell_type": "markdown",
   "metadata": {},
   "source": [
    "All customers have opening credits\n"
   ]
  },
  {
   "cell_type": "code",
   "execution_count": 55,
   "metadata": {},
   "outputs": [
    {
     "data": {
      "application/vnd.microsoft.datawrangler.viewer.v0+json": {
       "columns": [
        {
         "name": "status_checking_account",
         "rawType": "object",
         "type": "string"
        },
        {
         "name": "proportion",
         "rawType": "float64",
         "type": "float"
        }
       ],
       "ref": "b2808db3-3862-4931-b079-d6124d42e52a",
       "rows": [
        [
         "no checking account",
         "39.4"
        ],
        [
         "negative",
         "27.4"
        ],
        [
         "< 200",
         "26.9"
        ],
        [
         ">= 200/salary assignments for at least 1 year",
         "6.3"
        ]
       ],
       "shape": {
        "columns": 1,
        "rows": 4
       }
      },
      "text/plain": [
       "status_checking_account\n",
       "no checking account                              39.4\n",
       "negative                                         27.4\n",
       "< 200                                            26.9\n",
       ">= 200/salary assignments for at least 1 year     6.3\n",
       "Name: proportion, dtype: float64"
      ]
     },
     "execution_count": 55,
     "metadata": {},
     "output_type": "execute_result"
    }
   ],
   "source": [
    "df[\"status_checking_account\"].value_counts(normalize=True).mul(100).round(2)"
   ]
  },
  {
   "cell_type": "code",
   "execution_count": 56,
   "metadata": {},
   "outputs": [
    {
     "data": {
      "application/vnd.microsoft.datawrangler.viewer.v0+json": {
       "columns": [
        {
         "name": "credit_history",
         "rawType": "object",
         "type": "string"
        },
        {
         "name": "proportion",
         "rawType": "float64",
         "type": "float"
        }
       ],
       "ref": "5b5836da-1dcb-4ef9-8118-bfb29c4ce576",
       "rows": [
        [
         "existing credits paid back duly till now",
         "53.0"
        ],
        [
         "critical account/ other credits existing (not at this bank)",
         "29.3"
        ],
        [
         "delay in paying off in the past",
         "8.8"
        ],
        [
         "all credits at this bank paid back duly",
         "4.9"
        ],
        [
         "no credits taken/all credits paid back duly",
         "4.0"
        ]
       ],
       "shape": {
        "columns": 1,
        "rows": 5
       }
      },
      "text/plain": [
       "credit_history\n",
       "existing credits paid back duly till now                       53.0\n",
       "critical account/ other credits existing (not at this bank)    29.3\n",
       "delay in paying off in the past                                 8.8\n",
       "all credits at this bank paid back duly                         4.9\n",
       "no credits taken/all credits paid back duly                     4.0\n",
       "Name: proportion, dtype: float64"
      ]
     },
     "execution_count": 56,
     "metadata": {},
     "output_type": "execute_result"
    }
   ],
   "source": [
    "df[\"credit_history\"].value_counts(normalize=True).mul(100).round(2)"
   ]
  },
  {
   "cell_type": "code",
   "execution_count": 57,
   "metadata": {},
   "outputs": [
    {
     "data": {
      "application/vnd.microsoft.datawrangler.viewer.v0+json": {
       "columns": [
        {
         "name": "purpose",
         "rawType": "object",
         "type": "string"
        },
        {
         "name": "proportion",
         "rawType": "float64",
         "type": "float"
        }
       ],
       "ref": "8dda1a49-fd8d-4ccb-b1d9-0bf1df0f3787",
       "rows": [
        [
         "radio/television",
         "28.0"
        ],
        [
         "car (new)",
         "23.4"
        ],
        [
         "furniture/equipment",
         "18.1"
        ],
        [
         "car (used)",
         "10.3"
        ],
        [
         "business",
         "9.7"
        ],
        [
         "education",
         "5.0"
        ],
        [
         "repairs",
         "2.2"
        ],
        [
         "domestic appliances",
         "1.2"
        ],
        [
         "others",
         "1.2"
        ],
        [
         "retraining",
         "0.9"
        ]
       ],
       "shape": {
        "columns": 1,
        "rows": 10
       }
      },
      "text/plain": [
       "purpose\n",
       "radio/television       28.0\n",
       "car (new)              23.4\n",
       "furniture/equipment    18.1\n",
       "car (used)             10.3\n",
       "business                9.7\n",
       "education               5.0\n",
       "repairs                 2.2\n",
       "domestic appliances     1.2\n",
       "others                  1.2\n",
       "retraining              0.9\n",
       "Name: proportion, dtype: float64"
      ]
     },
     "execution_count": 57,
     "metadata": {},
     "output_type": "execute_result"
    }
   ],
   "source": [
    "df[\"purpose\"].value_counts(normalize=True).mul(100).round(2)"
   ]
  },
  {
   "cell_type": "code",
   "execution_count": 59,
   "metadata": {},
   "outputs": [
    {
     "data": {
      "application/vnd.microsoft.datawrangler.viewer.v0+json": {
       "columns": [
        {
         "name": "savings_account/bonds",
         "rawType": "object",
         "type": "string"
        },
        {
         "name": "proportion",
         "rawType": "float64",
         "type": "float"
        }
       ],
       "ref": "9e53304f-9a1b-4a8d-a7d9-03024081c6b0",
       "rows": [
        [
         "< 100",
         "60.3"
        ],
        [
         "unknown/ no savings account",
         "18.3"
        ],
        [
         "100-499 ",
         "10.3"
        ],
        [
         "500-999",
         "6.3"
        ],
        [
         ">= 1000",
         "4.8"
        ]
       ],
       "shape": {
        "columns": 1,
        "rows": 5
       }
      },
      "text/plain": [
       "savings_account/bonds\n",
       "< 100                          60.3\n",
       "unknown/ no savings account    18.3\n",
       "100-499                        10.3\n",
       "500-999                         6.3\n",
       ">= 1000                         4.8\n",
       "Name: proportion, dtype: float64"
      ]
     },
     "execution_count": 59,
     "metadata": {},
     "output_type": "execute_result"
    }
   ],
   "source": [
    "df[\"savings_account/bonds\"].value_counts(normalize=True).mul(100).round(2)"
   ]
  },
  {
   "cell_type": "code",
   "execution_count": 58,
   "metadata": {},
   "outputs": [
    {
     "data": {
      "application/vnd.microsoft.datawrangler.viewer.v0+json": {
       "columns": [
        {
         "name": "present_employment",
         "rawType": "object",
         "type": "string"
        },
        {
         "name": "proportion",
         "rawType": "float64",
         "type": "float"
        }
       ],
       "ref": "c0aa4c68-4dcc-4cda-bf2b-a2b47b277a8c",
       "rows": [
        [
         "1 - less than 4 years",
         "33.9"
        ],
        [
         ">= 7 years",
         "25.3"
        ],
        [
         "4 - less than 7 years",
         "17.4"
        ],
        [
         "< 1 year",
         "17.2"
        ],
        [
         "unemployed",
         "6.2"
        ]
       ],
       "shape": {
        "columns": 1,
        "rows": 5
       }
      },
      "text/plain": [
       "present_employment\n",
       "1 - less than 4 years    33.9\n",
       ">= 7 years               25.3\n",
       "4 - less than 7 years    17.4\n",
       "< 1 year                 17.2\n",
       "unemployed                6.2\n",
       "Name: proportion, dtype: float64"
      ]
     },
     "execution_count": 58,
     "metadata": {},
     "output_type": "execute_result"
    }
   ],
   "source": [
    "df[\"present_employment\"].value_counts(normalize=True).mul(100).round(2)"
   ]
  },
  {
   "cell_type": "code",
   "execution_count": 60,
   "metadata": {},
   "outputs": [
    {
     "data": {
      "application/vnd.microsoft.datawrangler.viewer.v0+json": {
       "columns": [
        {
         "name": "other_debtors/guarantors",
         "rawType": "object",
         "type": "string"
        },
        {
         "name": "proportion",
         "rawType": "float64",
         "type": "float"
        }
       ],
       "ref": "149a8aa9-c35a-4c2d-94a5-d0cc40af27d0",
       "rows": [
        [
         "none",
         "90.7"
        ],
        [
         "guarantor",
         "5.2"
        ],
        [
         "co-applicant",
         "4.1"
        ]
       ],
       "shape": {
        "columns": 1,
        "rows": 3
       }
      },
      "text/plain": [
       "other_debtors/guarantors\n",
       "none            90.7\n",
       "guarantor        5.2\n",
       "co-applicant     4.1\n",
       "Name: proportion, dtype: float64"
      ]
     },
     "execution_count": 60,
     "metadata": {},
     "output_type": "execute_result"
    }
   ],
   "source": [
    "df[\"other_debtors/guarantors\"].value_counts(normalize=True).mul(100).round(2)"
   ]
  },
  {
   "cell_type": "code",
   "execution_count": 61,
   "metadata": {},
   "outputs": [
    {
     "data": {
      "application/vnd.microsoft.datawrangler.viewer.v0+json": {
       "columns": [
        {
         "name": "property",
         "rawType": "object",
         "type": "string"
        },
        {
         "name": "proportion",
         "rawType": "float64",
         "type": "float"
        }
       ],
       "ref": "e9cee70c-3082-40fa-b3ca-ee7b2036ae27",
       "rows": [
        [
         "if not A121/A122 : car or other, not in attribute 6",
         "33.2"
        ],
        [
         "real estate",
         "28.2"
        ],
        [
         "if not A121 : building society savings agreement/life insurance",
         "23.2"
        ],
        [
         "unknown/no propert",
         "15.4"
        ]
       ],
       "shape": {
        "columns": 1,
        "rows": 4
       }
      },
      "text/plain": [
       "property\n",
       "if not A121/A122 : car or other, not in attribute 6                33.2\n",
       "real estate                                                        28.2\n",
       "if not A121 : building society savings agreement/life insurance    23.2\n",
       "unknown/no propert                                                 15.4\n",
       "Name: proportion, dtype: float64"
      ]
     },
     "execution_count": 61,
     "metadata": {},
     "output_type": "execute_result"
    }
   ],
   "source": [
    "df[\"property\"].value_counts(normalize=True).mul(100).round(2)"
   ]
  },
  {
   "cell_type": "code",
   "execution_count": 62,
   "metadata": {},
   "outputs": [
    {
     "data": {
      "application/vnd.microsoft.datawrangler.viewer.v0+json": {
       "columns": [
        {
         "name": "property",
         "rawType": "object",
         "type": "string"
        },
        {
         "name": "proportion",
         "rawType": "float64",
         "type": "float"
        }
       ],
       "ref": "7c313115-5791-4ee1-a264-538bcd930f16",
       "rows": [
        [
         "if not A121/A122 : car or other, not in attribute 6",
         "33.2"
        ],
        [
         "real estate",
         "28.2"
        ],
        [
         "if not A121 : building society savings agreement/life insurance",
         "23.2"
        ],
        [
         "unknown/no propert",
         "15.4"
        ]
       ],
       "shape": {
        "columns": 1,
        "rows": 4
       }
      },
      "text/plain": [
       "property\n",
       "if not A121/A122 : car or other, not in attribute 6                33.2\n",
       "real estate                                                        28.2\n",
       "if not A121 : building society savings agreement/life insurance    23.2\n",
       "unknown/no propert                                                 15.4\n",
       "Name: proportion, dtype: float64"
      ]
     },
     "execution_count": 62,
     "metadata": {},
     "output_type": "execute_result"
    }
   ],
   "source": [
    "df[\"property\"].value_counts(normalize=True).mul(100).round(2)"
   ]
  },
  {
   "cell_type": "code",
   "execution_count": 63,
   "metadata": {},
   "outputs": [
    {
     "data": {
      "application/vnd.microsoft.datawrangler.viewer.v0+json": {
       "columns": [
        {
         "name": "other_installment",
         "rawType": "object",
         "type": "string"
        },
        {
         "name": "proportion",
         "rawType": "float64",
         "type": "float"
        }
       ],
       "ref": "89fb62d4-b432-4588-8a8e-db9910c68358",
       "rows": [
        [
         "none",
         "81.4"
        ],
        [
         "bank",
         "13.9"
        ],
        [
         "stores",
         "4.7"
        ]
       ],
       "shape": {
        "columns": 1,
        "rows": 3
       }
      },
      "text/plain": [
       "other_installment\n",
       "none      81.4\n",
       "bank      13.9\n",
       "stores     4.7\n",
       "Name: proportion, dtype: float64"
      ]
     },
     "execution_count": 63,
     "metadata": {},
     "output_type": "execute_result"
    }
   ],
   "source": [
    "df[\"other_installment\"].value_counts(normalize=True).mul(100).round(2)\n"
   ]
  },
  {
   "cell_type": "code",
   "execution_count": 64,
   "metadata": {},
   "outputs": [
    {
     "data": {
      "application/vnd.microsoft.datawrangler.viewer.v0+json": {
       "columns": [
        {
         "name": "housing",
         "rawType": "object",
         "type": "string"
        },
        {
         "name": "proportion",
         "rawType": "float64",
         "type": "float"
        }
       ],
       "ref": "b824fddb-6296-4dd8-9daa-d082e78f5a9d",
       "rows": [
        [
         "own",
         "71.3"
        ],
        [
         "rent",
         "17.9"
        ],
        [
         "for free",
         "10.8"
        ]
       ],
       "shape": {
        "columns": 1,
        "rows": 3
       }
      },
      "text/plain": [
       "housing\n",
       "own         71.3\n",
       "rent        17.9\n",
       "for free    10.8\n",
       "Name: proportion, dtype: float64"
      ]
     },
     "execution_count": 64,
     "metadata": {},
     "output_type": "execute_result"
    }
   ],
   "source": [
    "df[\"housing\"].value_counts(normalize=True).mul(100).round(2)\n"
   ]
  },
  {
   "cell_type": "code",
   "execution_count": 65,
   "metadata": {},
   "outputs": [
    {
     "data": {
      "application/vnd.microsoft.datawrangler.viewer.v0+json": {
       "columns": [
        {
         "name": "existing_credits",
         "rawType": "int64",
         "type": "integer"
        },
        {
         "name": "proportion",
         "rawType": "float64",
         "type": "float"
        }
       ],
       "ref": "2bed6f4b-135e-40c6-ad39-ff2beb2a7453",
       "rows": [
        [
         "1",
         "63.3"
        ],
        [
         "2",
         "33.3"
        ],
        [
         "3",
         "2.8"
        ],
        [
         "4",
         "0.6"
        ]
       ],
       "shape": {
        "columns": 1,
        "rows": 4
       }
      },
      "text/plain": [
       "existing_credits\n",
       "1    63.3\n",
       "2    33.3\n",
       "3     2.8\n",
       "4     0.6\n",
       "Name: proportion, dtype: float64"
      ]
     },
     "execution_count": 65,
     "metadata": {},
     "output_type": "execute_result"
    }
   ],
   "source": [
    "df[\"existing_credits\"].value_counts(normalize=True).mul(100).round(2)"
   ]
  },
  {
   "cell_type": "code",
   "execution_count": 66,
   "metadata": {},
   "outputs": [
    {
     "data": {
      "application/vnd.microsoft.datawrangler.viewer.v0+json": {
       "columns": [
        {
         "name": "job_skill",
         "rawType": "object",
         "type": "string"
        },
        {
         "name": "proportion",
         "rawType": "float64",
         "type": "float"
        }
       ],
       "ref": "0c3d55a8-9a48-4759-9510-5c10439342b7",
       "rows": [
        [
         "skilled employee /official",
         "63.0"
        ],
        [
         "unskilled - resident",
         "20.0"
        ],
        [
         "management/self-employed/highly qualified employee/officer",
         "14.8"
        ],
        [
         "unemployed/unskilled - non-resident",
         "2.2"
        ]
       ],
       "shape": {
        "columns": 1,
        "rows": 4
       }
      },
      "text/plain": [
       "job_skill\n",
       "skilled employee /official                                    63.0\n",
       "unskilled - resident                                          20.0\n",
       "management/self-employed/highly qualified employee/officer    14.8\n",
       "unemployed/unskilled - non-resident                            2.2\n",
       "Name: proportion, dtype: float64"
      ]
     },
     "execution_count": 66,
     "metadata": {},
     "output_type": "execute_result"
    }
   ],
   "source": [
    "df[\"job_skill\"].value_counts(normalize=True).mul(100).round(2)"
   ]
  },
  {
   "cell_type": "code",
   "execution_count": 67,
   "metadata": {},
   "outputs": [
    {
     "data": {
      "application/vnd.microsoft.datawrangler.viewer.v0+json": {
       "columns": [
        {
         "name": "number_of_dependents",
         "rawType": "int64",
         "type": "integer"
        },
        {
         "name": "proportion",
         "rawType": "float64",
         "type": "float"
        }
       ],
       "ref": "c6b782cb-c04e-4321-85d3-e8fb04618d58",
       "rows": [
        [
         "1",
         "84.5"
        ],
        [
         "2",
         "15.5"
        ]
       ],
       "shape": {
        "columns": 1,
        "rows": 2
       }
      },
      "text/plain": [
       "number_of_dependents\n",
       "1    84.5\n",
       "2    15.5\n",
       "Name: proportion, dtype: float64"
      ]
     },
     "execution_count": 67,
     "metadata": {},
     "output_type": "execute_result"
    }
   ],
   "source": [
    "df[\"number_of_dependents\"].value_counts(normalize=True).mul(100).round(2)"
   ]
  },
  {
   "cell_type": "code",
   "execution_count": 68,
   "metadata": {},
   "outputs": [
    {
     "data": {
      "application/vnd.microsoft.datawrangler.viewer.v0+json": {
       "columns": [
        {
         "name": "telephone",
         "rawType": "object",
         "type": "string"
        },
        {
         "name": "proportion",
         "rawType": "float64",
         "type": "float"
        }
       ],
       "ref": "a31500b6-4f9c-4b54-8023-c45882ffd9dd",
       "rows": [
        [
         "none",
         "59.6"
        ],
        [
         "yes",
         "40.4"
        ]
       ],
       "shape": {
        "columns": 1,
        "rows": 2
       }
      },
      "text/plain": [
       "telephone\n",
       "none    59.6\n",
       "yes     40.4\n",
       "Name: proportion, dtype: float64"
      ]
     },
     "execution_count": 68,
     "metadata": {},
     "output_type": "execute_result"
    }
   ],
   "source": [
    "df[\"telephone\"].value_counts(normalize=True).mul(100).round(2)"
   ]
  },
  {
   "cell_type": "code",
   "execution_count": 69,
   "metadata": {},
   "outputs": [
    {
     "data": {
      "application/vnd.microsoft.datawrangler.viewer.v0+json": {
       "columns": [
        {
         "name": "foreign_worker",
         "rawType": "object",
         "type": "string"
        },
        {
         "name": "proportion",
         "rawType": "float64",
         "type": "float"
        }
       ],
       "ref": "7a59e49b-4313-47dc-8b3e-43cbf2079d24",
       "rows": [
        [
         "yes",
         "96.3"
        ],
        [
         "no",
         "3.7"
        ]
       ],
       "shape": {
        "columns": 1,
        "rows": 2
       }
      },
      "text/plain": [
       "foreign_worker\n",
       "yes    96.3\n",
       "no      3.7\n",
       "Name: proportion, dtype: float64"
      ]
     },
     "execution_count": 69,
     "metadata": {},
     "output_type": "execute_result"
    }
   ],
   "source": [
    "df[\"foreign_worker\"].value_counts(normalize=True).mul(100).round(2)"
   ]
  },
  {
   "cell_type": "code",
   "execution_count": null,
   "metadata": {},
   "outputs": [],
   "source": []
  }
 ],
 "metadata": {
  "kernelspec": {
   "display_name": "proj-DA-midterm",
   "language": "python",
   "name": "python3"
  },
  "language_info": {
   "codemirror_mode": {
    "name": "ipython",
    "version": 3
   },
   "file_extension": ".py",
   "mimetype": "text/x-python",
   "name": "python",
   "nbconvert_exporter": "python",
   "pygments_lexer": "ipython3",
   "version": "3.13.5"
  }
 },
 "nbformat": 4,
 "nbformat_minor": 2
}
