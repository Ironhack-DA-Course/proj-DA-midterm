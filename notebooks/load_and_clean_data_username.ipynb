{
 "cells": [
  {
   "cell_type": "code",
   "execution_count": 1,
   "metadata": {},
   "outputs": [],
   "source": [
    "import pandas as pd\n",
    "import numpy as np\n",
    "from ucimlrepo import fetch_ucirepo"
   ]
  },
  {
   "cell_type": "code",
   "execution_count": 2,
   "metadata": {},
   "outputs": [],
   "source": [
    "# Step 1: Fetch the dataset\n",
    "dataset = fetch_ucirepo(id=144)\n",
    "raw_output = \"../data/raw/de_credit_data_raw.csv\"\n",
    "cleaned_output = \"../data/clean/de_credit_data_cleaned.csv\""
   ]
  },
  {
   "cell_type": "code",
   "execution_count": null,
   "metadata": {},
   "outputs": [],
   "source": [
    "# Step 2: Combine features and target into one DataFrame\n",
    "df = pd.concat([dataset.data.features, dataset.data.targets], axis=1)\n",
    "\n",
    "# Step 3: Extract the metadata table\n",
    "meta = dataset.variables  # contains name, description, type, etc.\n",
    "\n",
    "# Step 4: Map coded column names to full descriptions\n",
    "column_description_map = dict(zip(meta['name'], meta['description']))\n",
    "df_renamed_col = df.rename(columns=column_description_map)\n",
    "df_renamed_col.to_csv(raw_output,sep= \";\", index=False)\n",
    "df_renamed_col.info()"
   ]
  },
  {
   "cell_type": "code",
   "execution_count": null,
   "metadata": {},
   "outputs": [],
   "source": [
    "# df.columns\n",
    "# df_renamed_col.columns"
   ]
  },
  {
   "cell_type": "code",
   "execution_count": null,
   "metadata": {},
   "outputs": [],
   "source": [
    "df_renamed_col.head()"
   ]
  },
  {
   "cell_type": "code",
   "execution_count": null,
   "metadata": {},
   "outputs": [],
   "source": [
    "df_renamed_col.isna().sum()"
   ]
  },
  {
   "cell_type": "code",
   "execution_count": null,
   "metadata": {},
   "outputs": [],
   "source": [
    "col_dict= {\n",
    "        \"status_of_existing_checking_account\": \"status_checking_account\",\n",
    "        \"duration\": \"duration_in_month\",\n",
    "        \"present_employment_since\": \"present_employment\",\n",
    "        \"installment_rate_in_percentage_of_disposable_income\": \"installment_rate\",\n",
    "        \"personal_status_and_sex\": \"gender_status\",\n",
    "        \"present_residence_since\": \"present_residence\",\n",
    "        \"other_installment_plans\": \"other_installment\",\n",
    "        \"number_of_existing_credits_at_this_bank\": \"existing_credits\",\n",
    "        \"job\": \"job_skill\",\n",
    "        \"number_of_people_being_liable_to_provide_maintenance_for\": \"number_of_dependents\",        \n",
    "        \"1_=_good,_2_=_bad\": \"score\"\n",
    "}\n",
    "df1 = df_renamed_col.copy()\n",
    "df1.columns = df1.columns.str.strip().str.replace(' / ', '/').str.replace(' ', '_').str.lower()\n",
    "df1 = df1.rename(columns =col_dict)\n",
    "df1.columns"
   ]
  },
  {
   "cell_type": "code",
   "execution_count": null,
   "metadata": {},
   "outputs": [],
   "source": [
    "#  Attribute 1:  (qualitative)\n",
    "df1[\"status_checking_account\"] = df1[\"status_checking_account\"].map({\n",
    "                                                                    \"A11\" : \"< 0\",\n",
    "                                                                    \"A12\" : \"< 200\",\n",
    "                                                                    \"A13\" :  \">= 200/salary assignments for at least 1 year\" ,\n",
    "                                                                    \"A14\" : \"no checking account\"\n",
    "                                                                    })\n",
    "\n",
    "# Attribute 3\n",
    "df1[\"credit_history\"] = df1[\"credit_history\"].map({\n",
    "                                                   \"A30\" : \"no credits taken/all credits paid back duly\",\n",
    "                                                   \"A31\" : \"all credits at this bank paid back duly\",\n",
    "                                                   \"A32\" : \"existing credits paid back duly till now\",\n",
    "                                                   \"A33\" : \"delay in paying off in the past\",\n",
    "                                                   \"A34\" : \"critical account/ other credits existing (not at this bank)\"\n",
    "                                                  })\n",
    "\n",
    "# Attribute 4\n",
    "df1[\"purpose\"] = df1[\"purpose\"].map({\n",
    "                                    \"A40\" : \"car (new)\",\n",
    "                                    \"A41\" : \"car (used)\",\n",
    "                                    \"A42\" : \"furniture/equipment\",\n",
    "                                    \"A43\" : \"radio/television\",\n",
    "                                    \"A44\" : \"domestic appliances\",\n",
    "                                    \"A45\" : \"repairs\",\n",
    "                                    \"A46\" : \"education\",\n",
    "                                    \"A47\" : \"(vacation - does not exist?)\",\n",
    "                                    \"A48\" : \"retraining\",\n",
    "                                    \"A49\" : \"business\",\n",
    "                                    \"A410\" : \"others\"\n",
    "                                    })\n",
    "\n",
    "# Attibute 6:  (qualitative)\n",
    "df1[\"savings_account/bonds\"] = df1[\"savings_account/bonds\"].map({\n",
    "                                                                \"A61\" : \"< 100\",\n",
    "                                                                \"A62\" : \"100-499 \",\n",
    "                                                                \"A63\" : \"500-999\",\n",
    "                                                                \"A64\" : \">= 1000\",\n",
    "                                                                \"A65\" : \"unknown/ no savings account\"\n",
    "                                                                })\n",
    "\n",
    "# Attribute 7:  (qualitative)\n",
    "df1[\"present_employment\"] = df1[\"present_employment\"].map({\n",
    "                                                            \"A71\" : \"unemployed\",\n",
    "                                                            \"A72\" : \"< 1 year\",\n",
    "                                                            \"A73\" : \"1 - less than 4 years\"  ,\n",
    "                                                            \"A74\" : \"4 - less than 7 years\",\n",
    "                                                            \"A75\" : \">= 7 years\"\n",
    "                                                            })\n",
    "\n",
    "# Attribute 9\n",
    "df1[\"gender_status\"] = df1[\"gender_status\"].map({\n",
    "                                                \"A91\" : \"male   : divorced/separated\",\n",
    "                                                \"A92\" : \"female : divorced/separated/married\",\n",
    "                                                \"A93\" : \"male   : single\",\n",
    "                                                \"A94\" : \"male   : married/widowed\",\n",
    "                                                \"A95\" : \"female : single  \"\n",
    "                                                })\n",
    "\n",
    "# Attribute 10: (qualitative)\n",
    "df1[\"other_debtors/guarantors\"] = df1[\"other_debtors/guarantors\"].map({\n",
    "                                                                        \"A101\" : \"none\",\n",
    "                                                                        \"A102\" : \"co-applicant\",\n",
    "                                                                        \"A103\" : \"guarantor\"\n",
    "                                                                      })\n",
    "\n",
    "# Attribute 12: (qualitative)\n",
    "df1[\"property\"] = df1[\"property\"].map({\n",
    "                                        \"A121\" : \"real estate\",\n",
    "                                        \"A122\" : \"if not A121 : building society savings agreement/life insurance\",\n",
    "                                        \"A123\" : \"if not A121/A122 : car or other, not in attribute 6\",\n",
    "                                        \"A124\" : \"unknown/no propert\"\n",
    "})\n",
    "\n",
    "# Attribute 14: (qualitative)\n",
    "df1[\"other_installment\"] = df1[\"other_installment\"].map({\n",
    "                                                        \"A141\" : \"bank\",\n",
    "                                                        \"A142\" : \"stores\",\n",
    "                                                        \"A143\" : \"none\"\n",
    "                                                        })\n",
    "\n",
    "# Attribute 15: (qualitative)\n",
    "df1[\"housing\"] = df1[\"housing\"].map({\n",
    "                                    \"A151\" : \"rent\",\n",
    "                                    \"A152\" : \"own\",\n",
    "                                    \"A153\" : \"for free\"\n",
    "                                    })\n",
    "\n",
    "# Attribute 17: (qualitative)\n",
    "df1[\"job_skill\"] = df1[\"job_skill\"].map({\n",
    "                                        \"A171\" : \"unemployed/unskilled - non-resident\",\n",
    "                                        \"A172\" : \"unskilled - resident\",\n",
    "                                        \"A173\" : \"skilled employee /official\",\n",
    "                                        \"A174\" : \"management/self-employed/highly qualified employee/officer\"\n",
    "                                        })\n",
    "\n",
    "# Attribute 19: (qualitative)\n",
    "df1[\"telephone\"] = df1[\"telephone\"].map({\n",
    "                                        \"A191\" : \"none\",\n",
    "                                        \"A192\" : \"yes\"\n",
    "                                        })\n",
    "\n",
    "# Attribute 20: (qualitative)\n",
    "df1[\"foreign_worker\"] = df1[\"foreign_worker\"].map({\n",
    "                                                    \"A201\" : \"yes\",\n",
    "                                                    \"A202\" : \"no\"\n",
    "                                                  })\n",
    "\n",
    "df1.to_csv(cleaned_output,sep= \";\", index=False)\n",
    "df1.nunique"
   ]
  },
  {
   "cell_type": "code",
   "execution_count": null,
   "metadata": {},
   "outputs": [],
   "source": [
    "df1.info()"
   ]
  },
  {
   "cell_type": "code",
   "execution_count": null,
   "metadata": {},
   "outputs": [],
   "source": [
    "df2 = df1.copy()\n",
    "col_to_validate = df2.columns.drop()"
   ]
  }
 ],
 "metadata": {
  "kernelspec": {
   "display_name": "proj-DA-midterm",
   "language": "python",
   "name": "python3"
  },
  "language_info": {
   "codemirror_mode": {
    "name": "ipython",
    "version": 3
   },
   "file_extension": ".py",
   "mimetype": "text/x-python",
   "name": "python",
   "nbconvert_exporter": "python",
   "pygments_lexer": "ipython3",
   "version": "3.13.5"
  }
 },
 "nbformat": 4,
 "nbformat_minor": 2
}
