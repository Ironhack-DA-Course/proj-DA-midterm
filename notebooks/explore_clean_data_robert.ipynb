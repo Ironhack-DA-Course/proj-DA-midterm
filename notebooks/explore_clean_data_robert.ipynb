{
 "cells": [
  {
   "cell_type": "code",
   "execution_count": 18,
   "metadata": {},
   "outputs": [],
   "source": [
    "import pandas as pd\n",
    "import numpy as np\n",
    "import matplotlib.pyplot as plot\n",
    "import seaborn as sns\n",
    "import yaml\n",
    "import functions as fnc"
   ]
  },
  {
   "cell_type": "code",
   "execution_count": 20,
   "metadata": {},
   "outputs": [],
   "source": [
    "try:\n",
    "    with open(\"../config.yaml\", \"r\") as file:\n",
    "        config = yaml.safe_load(file)\n",
    "except:\n",
    "    print(\"Yaml configuration file not found!\")"
   ]
  },
  {
   "cell_type": "code",
   "execution_count": 73,
   "metadata": {},
   "outputs": [],
   "source": [
    "# input_data = \"../data/clean/de_credit_data_cleaned.csv\"\n",
    "# input_raw  = \"../data/clean/de_credit_data_raw.csv\""
   ]
  },
  {
   "cell_type": "code",
   "execution_count": 21,
   "metadata": {},
   "outputs": [],
   "source": [
    "# df_ = pd.read_csv(input_raw,sep=\";\")\n",
    "\n",
    "df = pd.read_csv(config['data']['clean']['file'],sep=\";\")\n",
    "# df = pd.read_csv(input_data,sep=\";\")\n",
    "\n"
   ]
  },
  {
   "cell_type": "code",
   "execution_count": 5,
   "metadata": {},
   "outputs": [
    {
     "data": {
      "application/vnd.microsoft.datawrangler.viewer.v0+json": {
       "columns": [
        {
         "name": "index",
         "rawType": "int64",
         "type": "integer"
        },
        {
         "name": "status_checking_account",
         "rawType": "object",
         "type": "string"
        },
        {
         "name": "duration_in_month",
         "rawType": "int64",
         "type": "integer"
        },
        {
         "name": "credit_history",
         "rawType": "object",
         "type": "string"
        },
        {
         "name": "purpose",
         "rawType": "object",
         "type": "string"
        },
        {
         "name": "credit_amount",
         "rawType": "int64",
         "type": "integer"
        },
        {
         "name": "savings_account/bonds",
         "rawType": "object",
         "type": "string"
        },
        {
         "name": "present_employment",
         "rawType": "object",
         "type": "string"
        },
        {
         "name": "installment_rate",
         "rawType": "int64",
         "type": "integer"
        },
        {
         "name": "gender_status",
         "rawType": "object",
         "type": "string"
        },
        {
         "name": "other_debtors/guarantors",
         "rawType": "object",
         "type": "string"
        },
        {
         "name": "present_residence",
         "rawType": "int64",
         "type": "integer"
        },
        {
         "name": "property",
         "rawType": "object",
         "type": "string"
        },
        {
         "name": "age",
         "rawType": "int64",
         "type": "integer"
        },
        {
         "name": "other_installment",
         "rawType": "object",
         "type": "string"
        },
        {
         "name": "housing",
         "rawType": "object",
         "type": "string"
        },
        {
         "name": "existing_credits",
         "rawType": "int64",
         "type": "integer"
        },
        {
         "name": "job_skill",
         "rawType": "object",
         "type": "string"
        },
        {
         "name": "number_of_dependents",
         "rawType": "int64",
         "type": "integer"
        },
        {
         "name": "telephone",
         "rawType": "object",
         "type": "string"
        },
        {
         "name": "foreign_worker",
         "rawType": "object",
         "type": "string"
        },
        {
         "name": "score",
         "rawType": "int64",
         "type": "integer"
        }
       ],
       "ref": "8599e5b8-00ff-4250-93c0-d02c3134ca52",
       "rows": [
        [
         "0",
         "< 0",
         "6",
         "critical account/ other credits existing (not at this bank)",
         "radio/television",
         "1169",
         "unknown/ no savings account",
         ">= 7 years",
         "4",
         "male   : single",
         "none",
         "4",
         "real estate",
         "67",
         "none",
         "own",
         "2",
         "skilled employee /official",
         "1",
         "yes",
         "yes",
         "1"
        ],
        [
         "1",
         "< 200",
         "48",
         "existing credits paid back duly till now",
         "radio/television",
         "5951",
         "< 100",
         "1 - less than 4 years",
         "2",
         "female : divorced/separated/married",
         "none",
         "2",
         "real estate",
         "22",
         "none",
         "own",
         "1",
         "skilled employee /official",
         "1",
         "none",
         "yes",
         "2"
        ],
        [
         "2",
         "no checking account",
         "12",
         "critical account/ other credits existing (not at this bank)",
         "education",
         "2096",
         "< 100",
         "4 - less than 7 years",
         "2",
         "male   : single",
         "none",
         "3",
         "real estate",
         "49",
         "none",
         "own",
         "1",
         "unskilled - resident",
         "2",
         "none",
         "yes",
         "1"
        ],
        [
         "3",
         "< 0",
         "42",
         "existing credits paid back duly till now",
         "furniture/equipment",
         "7882",
         "< 100",
         "4 - less than 7 years",
         "2",
         "male   : single",
         "guarantor",
         "4",
         "if not A121 : building society savings agreement/life insurance",
         "45",
         "none",
         "for free",
         "1",
         "skilled employee /official",
         "2",
         "none",
         "yes",
         "1"
        ],
        [
         "4",
         "< 0",
         "24",
         "delay in paying off in the past",
         "car (new)",
         "4870",
         "< 100",
         "1 - less than 4 years",
         "3",
         "male   : single",
         "none",
         "4",
         "unknown/no propert",
         "53",
         "none",
         "for free",
         "2",
         "skilled employee /official",
         "2",
         "none",
         "yes",
         "2"
        ]
       ],
       "shape": {
        "columns": 21,
        "rows": 5
       }
      },
      "text/html": [
       "<div>\n",
       "<style scoped>\n",
       "    .dataframe tbody tr th:only-of-type {\n",
       "        vertical-align: middle;\n",
       "    }\n",
       "\n",
       "    .dataframe tbody tr th {\n",
       "        vertical-align: top;\n",
       "    }\n",
       "\n",
       "    .dataframe thead th {\n",
       "        text-align: right;\n",
       "    }\n",
       "</style>\n",
       "<table border=\"1\" class=\"dataframe\">\n",
       "  <thead>\n",
       "    <tr style=\"text-align: right;\">\n",
       "      <th></th>\n",
       "      <th>status_checking_account</th>\n",
       "      <th>duration_in_month</th>\n",
       "      <th>credit_history</th>\n",
       "      <th>purpose</th>\n",
       "      <th>credit_amount</th>\n",
       "      <th>savings_account/bonds</th>\n",
       "      <th>present_employment</th>\n",
       "      <th>installment_rate</th>\n",
       "      <th>gender_status</th>\n",
       "      <th>other_debtors/guarantors</th>\n",
       "      <th>...</th>\n",
       "      <th>property</th>\n",
       "      <th>age</th>\n",
       "      <th>other_installment</th>\n",
       "      <th>housing</th>\n",
       "      <th>existing_credits</th>\n",
       "      <th>job_skill</th>\n",
       "      <th>number_of_dependents</th>\n",
       "      <th>telephone</th>\n",
       "      <th>foreign_worker</th>\n",
       "      <th>score</th>\n",
       "    </tr>\n",
       "  </thead>\n",
       "  <tbody>\n",
       "    <tr>\n",
       "      <th>0</th>\n",
       "      <td>&lt; 0</td>\n",
       "      <td>6</td>\n",
       "      <td>critical account/ other credits existing (not ...</td>\n",
       "      <td>radio/television</td>\n",
       "      <td>1169</td>\n",
       "      <td>unknown/ no savings account</td>\n",
       "      <td>&gt;= 7 years</td>\n",
       "      <td>4</td>\n",
       "      <td>male   : single</td>\n",
       "      <td>none</td>\n",
       "      <td>...</td>\n",
       "      <td>real estate</td>\n",
       "      <td>67</td>\n",
       "      <td>none</td>\n",
       "      <td>own</td>\n",
       "      <td>2</td>\n",
       "      <td>skilled employee /official</td>\n",
       "      <td>1</td>\n",
       "      <td>yes</td>\n",
       "      <td>yes</td>\n",
       "      <td>1</td>\n",
       "    </tr>\n",
       "    <tr>\n",
       "      <th>1</th>\n",
       "      <td>&lt; 200</td>\n",
       "      <td>48</td>\n",
       "      <td>existing credits paid back duly till now</td>\n",
       "      <td>radio/television</td>\n",
       "      <td>5951</td>\n",
       "      <td>&lt; 100</td>\n",
       "      <td>1 - less than 4 years</td>\n",
       "      <td>2</td>\n",
       "      <td>female : divorced/separated/married</td>\n",
       "      <td>none</td>\n",
       "      <td>...</td>\n",
       "      <td>real estate</td>\n",
       "      <td>22</td>\n",
       "      <td>none</td>\n",
       "      <td>own</td>\n",
       "      <td>1</td>\n",
       "      <td>skilled employee /official</td>\n",
       "      <td>1</td>\n",
       "      <td>none</td>\n",
       "      <td>yes</td>\n",
       "      <td>2</td>\n",
       "    </tr>\n",
       "    <tr>\n",
       "      <th>2</th>\n",
       "      <td>no checking account</td>\n",
       "      <td>12</td>\n",
       "      <td>critical account/ other credits existing (not ...</td>\n",
       "      <td>education</td>\n",
       "      <td>2096</td>\n",
       "      <td>&lt; 100</td>\n",
       "      <td>4 - less than 7 years</td>\n",
       "      <td>2</td>\n",
       "      <td>male   : single</td>\n",
       "      <td>none</td>\n",
       "      <td>...</td>\n",
       "      <td>real estate</td>\n",
       "      <td>49</td>\n",
       "      <td>none</td>\n",
       "      <td>own</td>\n",
       "      <td>1</td>\n",
       "      <td>unskilled - resident</td>\n",
       "      <td>2</td>\n",
       "      <td>none</td>\n",
       "      <td>yes</td>\n",
       "      <td>1</td>\n",
       "    </tr>\n",
       "    <tr>\n",
       "      <th>3</th>\n",
       "      <td>&lt; 0</td>\n",
       "      <td>42</td>\n",
       "      <td>existing credits paid back duly till now</td>\n",
       "      <td>furniture/equipment</td>\n",
       "      <td>7882</td>\n",
       "      <td>&lt; 100</td>\n",
       "      <td>4 - less than 7 years</td>\n",
       "      <td>2</td>\n",
       "      <td>male   : single</td>\n",
       "      <td>guarantor</td>\n",
       "      <td>...</td>\n",
       "      <td>if not A121 : building society savings agreeme...</td>\n",
       "      <td>45</td>\n",
       "      <td>none</td>\n",
       "      <td>for free</td>\n",
       "      <td>1</td>\n",
       "      <td>skilled employee /official</td>\n",
       "      <td>2</td>\n",
       "      <td>none</td>\n",
       "      <td>yes</td>\n",
       "      <td>1</td>\n",
       "    </tr>\n",
       "    <tr>\n",
       "      <th>4</th>\n",
       "      <td>&lt; 0</td>\n",
       "      <td>24</td>\n",
       "      <td>delay in paying off in the past</td>\n",
       "      <td>car (new)</td>\n",
       "      <td>4870</td>\n",
       "      <td>&lt; 100</td>\n",
       "      <td>1 - less than 4 years</td>\n",
       "      <td>3</td>\n",
       "      <td>male   : single</td>\n",
       "      <td>none</td>\n",
       "      <td>...</td>\n",
       "      <td>unknown/no propert</td>\n",
       "      <td>53</td>\n",
       "      <td>none</td>\n",
       "      <td>for free</td>\n",
       "      <td>2</td>\n",
       "      <td>skilled employee /official</td>\n",
       "      <td>2</td>\n",
       "      <td>none</td>\n",
       "      <td>yes</td>\n",
       "      <td>2</td>\n",
       "    </tr>\n",
       "  </tbody>\n",
       "</table>\n",
       "<p>5 rows × 21 columns</p>\n",
       "</div>"
      ],
      "text/plain": [
       "  status_checking_account  duration_in_month  \\\n",
       "0                     < 0                  6   \n",
       "1                   < 200                 48   \n",
       "2     no checking account                 12   \n",
       "3                     < 0                 42   \n",
       "4                     < 0                 24   \n",
       "\n",
       "                                      credit_history              purpose  \\\n",
       "0  critical account/ other credits existing (not ...     radio/television   \n",
       "1           existing credits paid back duly till now     radio/television   \n",
       "2  critical account/ other credits existing (not ...            education   \n",
       "3           existing credits paid back duly till now  furniture/equipment   \n",
       "4                    delay in paying off in the past            car (new)   \n",
       "\n",
       "   credit_amount        savings_account/bonds     present_employment  \\\n",
       "0           1169  unknown/ no savings account             >= 7 years   \n",
       "1           5951                        < 100  1 - less than 4 years   \n",
       "2           2096                        < 100  4 - less than 7 years   \n",
       "3           7882                        < 100  4 - less than 7 years   \n",
       "4           4870                        < 100  1 - less than 4 years   \n",
       "\n",
       "   installment_rate                        gender_status  \\\n",
       "0                 4                      male   : single   \n",
       "1                 2  female : divorced/separated/married   \n",
       "2                 2                      male   : single   \n",
       "3                 2                      male   : single   \n",
       "4                 3                      male   : single   \n",
       "\n",
       "  other_debtors/guarantors  ...  \\\n",
       "0                     none  ...   \n",
       "1                     none  ...   \n",
       "2                     none  ...   \n",
       "3                guarantor  ...   \n",
       "4                     none  ...   \n",
       "\n",
       "                                            property age  other_installment  \\\n",
       "0                                        real estate  67               none   \n",
       "1                                        real estate  22               none   \n",
       "2                                        real estate  49               none   \n",
       "3  if not A121 : building society savings agreeme...  45               none   \n",
       "4                                 unknown/no propert  53               none   \n",
       "\n",
       "    housing existing_credits                   job_skill number_of_dependents  \\\n",
       "0       own                2  skilled employee /official                    1   \n",
       "1       own                1  skilled employee /official                    1   \n",
       "2       own                1        unskilled - resident                    2   \n",
       "3  for free                1  skilled employee /official                    2   \n",
       "4  for free                2  skilled employee /official                    2   \n",
       "\n",
       "   telephone foreign_worker score  \n",
       "0        yes            yes     1  \n",
       "1       none            yes     2  \n",
       "2       none            yes     1  \n",
       "3       none            yes     1  \n",
       "4       none            yes     2  \n",
       "\n",
       "[5 rows x 21 columns]"
      ]
     },
     "execution_count": 5,
     "metadata": {},
     "output_type": "execute_result"
    }
   ],
   "source": [
    "# df.info()\n",
    "df.head()"
   ]
  },
  {
   "cell_type": "code",
   "execution_count": 7,
   "metadata": {},
   "outputs": [
    {
     "data": {
      "application/vnd.microsoft.datawrangler.viewer.v0+json": {
       "columns": [
        {
         "name": "index",
         "rawType": "object",
         "type": "string"
        },
        {
         "name": "duration_in_month",
         "rawType": "float64",
         "type": "float"
        },
        {
         "name": "credit_amount",
         "rawType": "float64",
         "type": "float"
        },
        {
         "name": "installment_rate",
         "rawType": "float64",
         "type": "float"
        },
        {
         "name": "present_residence",
         "rawType": "float64",
         "type": "float"
        },
        {
         "name": "age",
         "rawType": "float64",
         "type": "float"
        },
        {
         "name": "existing_credits",
         "rawType": "float64",
         "type": "float"
        },
        {
         "name": "number_of_dependents",
         "rawType": "float64",
         "type": "float"
        },
        {
         "name": "score",
         "rawType": "float64",
         "type": "float"
        }
       ],
       "ref": "ff9f44fa-fc34-45d8-9d5a-7235e171d205",
       "rows": [
        [
         "count",
         "1000.0",
         "1000.0",
         "1000.0",
         "1000.0",
         "1000.0",
         "1000.0",
         "1000.0",
         "1000.0"
        ],
        [
         "mean",
         "20.903",
         "3271.258",
         "2.973",
         "2.845",
         "35.546",
         "1.407",
         "1.155",
         "1.3"
        ],
        [
         "std",
         "12.058814452756375",
         "2822.7368759604406",
         "1.1187146743126786",
         "1.1037178956568536",
         "11.375468574317512",
         "0.5776544682461002",
         "0.36208577175319395",
         "0.4584868702702512"
        ],
        [
         "min",
         "4.0",
         "250.0",
         "1.0",
         "1.0",
         "19.0",
         "1.0",
         "1.0",
         "1.0"
        ],
        [
         "25%",
         "12.0",
         "1365.5",
         "2.0",
         "2.0",
         "27.0",
         "1.0",
         "1.0",
         "1.0"
        ],
        [
         "50%",
         "18.0",
         "2319.5",
         "3.0",
         "3.0",
         "33.0",
         "1.0",
         "1.0",
         "1.0"
        ],
        [
         "75%",
         "24.0",
         "3972.25",
         "4.0",
         "4.0",
         "42.0",
         "2.0",
         "1.0",
         "2.0"
        ],
        [
         "max",
         "72.0",
         "18424.0",
         "4.0",
         "4.0",
         "75.0",
         "4.0",
         "2.0",
         "2.0"
        ]
       ],
       "shape": {
        "columns": 8,
        "rows": 8
       }
      },
      "text/html": [
       "<div>\n",
       "<style scoped>\n",
       "    .dataframe tbody tr th:only-of-type {\n",
       "        vertical-align: middle;\n",
       "    }\n",
       "\n",
       "    .dataframe tbody tr th {\n",
       "        vertical-align: top;\n",
       "    }\n",
       "\n",
       "    .dataframe thead th {\n",
       "        text-align: right;\n",
       "    }\n",
       "</style>\n",
       "<table border=\"1\" class=\"dataframe\">\n",
       "  <thead>\n",
       "    <tr style=\"text-align: right;\">\n",
       "      <th></th>\n",
       "      <th>duration_in_month</th>\n",
       "      <th>credit_amount</th>\n",
       "      <th>installment_rate</th>\n",
       "      <th>present_residence</th>\n",
       "      <th>age</th>\n",
       "      <th>existing_credits</th>\n",
       "      <th>number_of_dependents</th>\n",
       "      <th>score</th>\n",
       "    </tr>\n",
       "  </thead>\n",
       "  <tbody>\n",
       "    <tr>\n",
       "      <th>count</th>\n",
       "      <td>1000.000000</td>\n",
       "      <td>1000.000000</td>\n",
       "      <td>1000.000000</td>\n",
       "      <td>1000.000000</td>\n",
       "      <td>1000.000000</td>\n",
       "      <td>1000.000000</td>\n",
       "      <td>1000.000000</td>\n",
       "      <td>1000.000000</td>\n",
       "    </tr>\n",
       "    <tr>\n",
       "      <th>mean</th>\n",
       "      <td>20.903000</td>\n",
       "      <td>3271.258000</td>\n",
       "      <td>2.973000</td>\n",
       "      <td>2.845000</td>\n",
       "      <td>35.546000</td>\n",
       "      <td>1.407000</td>\n",
       "      <td>1.155000</td>\n",
       "      <td>1.300000</td>\n",
       "    </tr>\n",
       "    <tr>\n",
       "      <th>std</th>\n",
       "      <td>12.058814</td>\n",
       "      <td>2822.736876</td>\n",
       "      <td>1.118715</td>\n",
       "      <td>1.103718</td>\n",
       "      <td>11.375469</td>\n",
       "      <td>0.577654</td>\n",
       "      <td>0.362086</td>\n",
       "      <td>0.458487</td>\n",
       "    </tr>\n",
       "    <tr>\n",
       "      <th>min</th>\n",
       "      <td>4.000000</td>\n",
       "      <td>250.000000</td>\n",
       "      <td>1.000000</td>\n",
       "      <td>1.000000</td>\n",
       "      <td>19.000000</td>\n",
       "      <td>1.000000</td>\n",
       "      <td>1.000000</td>\n",
       "      <td>1.000000</td>\n",
       "    </tr>\n",
       "    <tr>\n",
       "      <th>25%</th>\n",
       "      <td>12.000000</td>\n",
       "      <td>1365.500000</td>\n",
       "      <td>2.000000</td>\n",
       "      <td>2.000000</td>\n",
       "      <td>27.000000</td>\n",
       "      <td>1.000000</td>\n",
       "      <td>1.000000</td>\n",
       "      <td>1.000000</td>\n",
       "    </tr>\n",
       "    <tr>\n",
       "      <th>50%</th>\n",
       "      <td>18.000000</td>\n",
       "      <td>2319.500000</td>\n",
       "      <td>3.000000</td>\n",
       "      <td>3.000000</td>\n",
       "      <td>33.000000</td>\n",
       "      <td>1.000000</td>\n",
       "      <td>1.000000</td>\n",
       "      <td>1.000000</td>\n",
       "    </tr>\n",
       "    <tr>\n",
       "      <th>75%</th>\n",
       "      <td>24.000000</td>\n",
       "      <td>3972.250000</td>\n",
       "      <td>4.000000</td>\n",
       "      <td>4.000000</td>\n",
       "      <td>42.000000</td>\n",
       "      <td>2.000000</td>\n",
       "      <td>1.000000</td>\n",
       "      <td>2.000000</td>\n",
       "    </tr>\n",
       "    <tr>\n",
       "      <th>max</th>\n",
       "      <td>72.000000</td>\n",
       "      <td>18424.000000</td>\n",
       "      <td>4.000000</td>\n",
       "      <td>4.000000</td>\n",
       "      <td>75.000000</td>\n",
       "      <td>4.000000</td>\n",
       "      <td>2.000000</td>\n",
       "      <td>2.000000</td>\n",
       "    </tr>\n",
       "  </tbody>\n",
       "</table>\n",
       "</div>"
      ],
      "text/plain": [
       "       duration_in_month  credit_amount  installment_rate  present_residence  \\\n",
       "count        1000.000000    1000.000000       1000.000000        1000.000000   \n",
       "mean           20.903000    3271.258000          2.973000           2.845000   \n",
       "std            12.058814    2822.736876          1.118715           1.103718   \n",
       "min             4.000000     250.000000          1.000000           1.000000   \n",
       "25%            12.000000    1365.500000          2.000000           2.000000   \n",
       "50%            18.000000    2319.500000          3.000000           3.000000   \n",
       "75%            24.000000    3972.250000          4.000000           4.000000   \n",
       "max            72.000000   18424.000000          4.000000           4.000000   \n",
       "\n",
       "               age  existing_credits  number_of_dependents        score  \n",
       "count  1000.000000       1000.000000           1000.000000  1000.000000  \n",
       "mean     35.546000          1.407000              1.155000     1.300000  \n",
       "std      11.375469          0.577654              0.362086     0.458487  \n",
       "min      19.000000          1.000000              1.000000     1.000000  \n",
       "25%      27.000000          1.000000              1.000000     1.000000  \n",
       "50%      33.000000          1.000000              1.000000     1.000000  \n",
       "75%      42.000000          2.000000              1.000000     2.000000  \n",
       "max      75.000000          4.000000              2.000000     2.000000  "
      ]
     },
     "execution_count": 7,
     "metadata": {},
     "output_type": "execute_result"
    }
   ],
   "source": [
    "df.describe()"
   ]
  },
  {
   "cell_type": "code",
   "execution_count": null,
   "metadata": {},
   "outputs": [],
   "source": [
    "df[\"existing_credits\"].unique()\n",
    "df.shape"
   ]
  },
  {
   "cell_type": "code",
   "execution_count": null,
   "metadata": {},
   "outputs": [],
   "source": [
    "# df.groupby(\"score\")[\"score\"].count()\n",
    "df.groupby(\"score\")[\"age\"].count()"
   ]
  },
  {
   "cell_type": "code",
   "execution_count": null,
   "metadata": {},
   "outputs": [],
   "source": [
    "df0 = df.set_index(\"score\").sort_index()\n",
    "# df0.tail(100)\n",
    "# df0[df0[\"foreign_worker\"]== \"yes\"] "
   ]
  },
  {
   "cell_type": "markdown",
   "metadata": {},
   "source": [
    "All customers have opening credits\n"
   ]
  },
  {
   "cell_type": "code",
   "execution_count": null,
   "metadata": {},
   "outputs": [],
   "source": [
    "df[\"status_checking_account\"].value_counts(normalize=True).mul(100).round(2)"
   ]
  },
  {
   "cell_type": "code",
   "execution_count": null,
   "metadata": {},
   "outputs": [],
   "source": [
    "df[\"credit_history\"].value_counts(normalize=True).mul(100).round(2)"
   ]
  },
  {
   "cell_type": "code",
   "execution_count": null,
   "metadata": {},
   "outputs": [],
   "source": [
    "df[\"purpose\"].value_counts(normalize=True).mul(100).round(2)"
   ]
  },
  {
   "cell_type": "code",
   "execution_count": null,
   "metadata": {},
   "outputs": [],
   "source": [
    "df[\"savings_account/bonds\"].value_counts(normalize=True).mul(100).round(2)"
   ]
  },
  {
   "cell_type": "code",
   "execution_count": null,
   "metadata": {},
   "outputs": [],
   "source": [
    "df[\"present_employment\"].value_counts(normalize=True).mul(100).round(2)"
   ]
  },
  {
   "cell_type": "code",
   "execution_count": null,
   "metadata": {},
   "outputs": [],
   "source": [
    "df[\"other_debtors/guarantors\"].value_counts(normalize=True).mul(100).round(2)"
   ]
  },
  {
   "cell_type": "code",
   "execution_count": null,
   "metadata": {},
   "outputs": [],
   "source": [
    "df[\"property\"].value_counts(normalize=True).mul(100).round(2)"
   ]
  },
  {
   "cell_type": "code",
   "execution_count": null,
   "metadata": {},
   "outputs": [],
   "source": [
    "df[\"property\"].value_counts(normalize=True).mul(100).round(2)"
   ]
  },
  {
   "cell_type": "code",
   "execution_count": null,
   "metadata": {},
   "outputs": [],
   "source": [
    "df[\"other_installment\"].value_counts(normalize=True).mul(100).round(2)\n"
   ]
  },
  {
   "cell_type": "code",
   "execution_count": null,
   "metadata": {},
   "outputs": [],
   "source": [
    "df[\"housing\"].value_counts(normalize=True).mul(100).round(2)\n"
   ]
  },
  {
   "cell_type": "code",
   "execution_count": null,
   "metadata": {},
   "outputs": [],
   "source": [
    "df[\"existing_credits\"].value_counts(normalize=True).mul(100).round(2)"
   ]
  },
  {
   "cell_type": "code",
   "execution_count": null,
   "metadata": {},
   "outputs": [],
   "source": [
    "df[\"job_skill\"].value_counts(normalize=True).mul(100).round(2)"
   ]
  },
  {
   "cell_type": "code",
   "execution_count": null,
   "metadata": {},
   "outputs": [],
   "source": [
    "df[\"number_of_dependents\"].value_counts(normalize=True).mul(100).round(2)"
   ]
  },
  {
   "cell_type": "code",
   "execution_count": null,
   "metadata": {},
   "outputs": [],
   "source": [
    "df[\"telephone\"].value_counts(normalize=True).mul(100).round(2)"
   ]
  },
  {
   "cell_type": "code",
   "execution_count": null,
   "metadata": {},
   "outputs": [],
   "source": [
    "df[\"foreign_worker\"].value_counts(normalize=True).mul(100).round(2)"
   ]
  },
  {
   "cell_type": "code",
   "execution_count": 23,
   "metadata": {},
   "outputs": [
    {
     "data": {
      "text/plain": [
       "<Axes: >"
      ]
     },
     "execution_count": 23,
     "metadata": {},
     "output_type": "execute_result"
    },
    {
     "data": {
      "image/png": "[encoded data removed]",
      "text/plain": [
       "<Figure size 1200x900 with 2 Axes>"
      ]
     },
     "metadata": {},
     "output_type": "display_data"
    }
   ],
   "source": [
    "num_df = df.select_dtypes(include=\"number\")\n",
    "numdf_corr = num_df.corr()\n",
    "# df.corr()\n",
    "# df_corr = df.corr()\n",
    "f, ax = plot.subplots(figsize=(12, 9))\n",
    "sns.heatmap(numdf_corr, vmax=.8, square=True)"
   ]
  },
  {
   "cell_type": "code",
   "execution_count": 24,
   "metadata": {},
   "outputs": [],
   "source": [
    "df1 = df.copy()\n",
    "df1a = df1.groupby([\"score\",\"purpose\"])[[\"duration_in_month\", \"credit_amount\"]].agg([\"median\",\"mean\"])\n",
    "# df1.groupby(\"score\")[\"purpose\"].count().reset_index()\n",
    "\n"
   ]
  },
  {
   "cell_type": "code",
   "execution_count": 17,
   "metadata": {},
   "outputs": [
    {
     "data": {
      "text/plain": [
       "pandas.core.series.Series"
      ]
     },
     "execution_count": 17,
     "metadata": {},
     "output_type": "execute_result"
    }
   ],
   "source": [
    "type(df[\"purpose\"])"
   ]
  },
  {
   "cell_type": "code",
   "execution_count": 36,
   "metadata": {},
   "outputs": [
    {
     "data": {
      "application/vnd.microsoft.datawrangler.viewer.v0+json": {
       "columns": [
        {
         "name": "index",
         "rawType": "int64",
         "type": "integer"
        },
        {
         "name": "duration_in_month",
         "rawType": "float64",
         "type": "float"
        },
        {
         "name": "credit_amount",
         "rawType": "float64",
         "type": "float"
        },
        {
         "name": "installment_rate",
         "rawType": "float64",
         "type": "float"
        },
        {
         "name": "present_residence",
         "rawType": "float64",
         "type": "float"
        },
        {
         "name": "age",
         "rawType": "float64",
         "type": "float"
        },
        {
         "name": "existing_credits",
         "rawType": "float64",
         "type": "float"
        },
        {
         "name": "number_of_dependents",
         "rawType": "float64",
         "type": "float"
        },
        {
         "name": "score",
         "rawType": "float64",
         "type": "float"
        }
       ],
       "ref": "0783c2e2-1c55-4d3f-a33c-5f79c53effcf",
       "rows": [
        [
         "0",
         "2.94",
         "5.06",
         "100.0",
         "100.0",
         "85.71",
         "33.33",
         "0.0",
         "0.0"
        ],
        [
         "1",
         "64.71",
         "31.37",
         "33.33",
         "33.33",
         "5.36",
         "0.0",
         "0.0",
         "100.0"
        ],
        [
         "2",
         "11.76",
         "10.16",
         "33.33",
         "66.67",
         "53.57",
         "0.0",
         "100.0",
         "0.0"
        ],
        [
         "3",
         "55.88",
         "41.99",
         "33.33",
         "100.0",
         "46.43",
         "0.0",
         "100.0",
         "0.0"
        ],
        [
         "4",
         "29.41",
         "25.42",
         "66.67",
         "100.0",
         "60.71",
         "33.33",
         "100.0",
         "100.0"
        ],
        [
         "5",
         "47.06",
         "48.45",
         "33.33",
         "100.0",
         "28.57",
         "0.0",
         "100.0",
         "0.0"
        ],
        [
         "6",
         "29.41",
         "14.22",
         "66.67",
         "100.0",
         "60.71",
         "0.0",
         "0.0",
         "0.0"
        ],
        [
         "7",
         "47.06",
         "36.85",
         "33.33",
         "33.33",
         "28.57",
         "0.0",
         "0.0",
         "0.0"
        ],
        [
         "8",
         "11.76",
         "15.46",
         "33.33",
         "100.0",
         "75.0",
         "0.0",
         "0.0",
         "0.0"
        ],
        [
         "9",
         "38.24",
         "27.42",
         "100.0",
         "33.33",
         "16.07",
         "33.33",
         "0.0",
         "100.0"
        ],
        [
         "10",
         "11.76",
         "5.75",
         "66.67",
         "0.0",
         "10.71",
         "0.0",
         "0.0",
         "100.0"
        ],
        [
         "11",
         "64.71",
         "22.33",
         "66.67",
         "100.0",
         "8.93",
         "0.0",
         "0.0",
         "100.0"
        ],
        [
         "12",
         "11.76",
         "7.25",
         "0.0",
         "0.0",
         "5.36",
         "0.0",
         "0.0",
         "0.0"
        ],
        [
         "13",
         "29.41",
         "5.22",
         "100.0",
         "100.0",
         "73.21",
         "33.33",
         "0.0",
         "100.0"
        ],
        [
         "14",
         "16.18",
         "6.34",
         "33.33",
         "100.0",
         "16.07",
         "0.0",
         "0.0",
         "0.0"
        ],
        [
         "15",
         "29.41",
         "5.68",
         "100.0",
         "33.33",
         "23.21",
         "0.0",
         "0.0",
         "100.0"
        ],
        [
         "16",
         "29.41",
         "11.96",
         "100.0",
         "100.0",
         "60.71",
         "33.33",
         "0.0",
         "0.0"
        ],
        [
         "17",
         "38.24",
         "43.04",
         "33.33",
         "66.67",
         "10.71",
         "66.67",
         "0.0",
         "0.0"
        ],
        [
         "18",
         "29.41",
         "67.84",
         "100.0",
         "33.33",
         "44.64",
         "0.0",
         "0.0",
         "100.0"
        ],
        [
         "19",
         "29.41",
         "17.5",
         "66.67",
         "33.33",
         "21.43",
         "0.0",
         "100.0",
         "0.0"
        ],
        [
         "20",
         "7.35",
         "10.37",
         "100.0",
         "100.0",
         "51.79",
         "66.67",
         "0.0",
         "0.0"
        ],
        [
         "21",
         "2.94",
         "13.19",
         "33.33",
         "66.67",
         "44.64",
         "0.0",
         "100.0",
         "0.0"
        ],
        [
         "22",
         "8.82",
         "10.96",
         "0.0",
         "66.67",
         "51.79",
         "33.33",
         "100.0",
         "0.0"
        ],
        [
         "23",
         "11.76",
         "8.55",
         "66.67",
         "100.0",
         "44.64",
         "0.0",
         "0.0",
         "0.0"
        ],
        [
         "24",
         "8.82",
         "10.01",
         "33.33",
         "0.0",
         "12.5",
         "33.33",
         "0.0",
         "0.0"
        ],
        [
         "25",
         "2.94",
         "6.18",
         "0.0",
         "33.33",
         "30.36",
         "0.0",
         "0.0",
         "0.0"
        ],
        [
         "26",
         "2.94",
         "0.97",
         "100.0",
         "100.0",
         "35.71",
         "0.0",
         "0.0",
         "0.0"
        ],
        [
         "27",
         "11.76",
         "0.87",
         "66.67",
         "66.67",
         "41.07",
         "33.33",
         "0.0",
         "0.0"
        ],
        [
         "28",
         "4.41",
         "11.91",
         "66.67",
         "33.33",
         "26.79",
         "0.0",
         "0.0",
         "0.0"
        ],
        [
         "29",
         "82.35",
         "36.24",
         "66.67",
         "100.0",
         "78.57",
         "33.33",
         "0.0",
         "100.0"
        ],
        [
         "30",
         "20.59",
         "9.15",
         "66.67",
         "66.67",
         "30.36",
         "0.0",
         "0.0",
         "0.0"
        ],
        [
         "31",
         "29.41",
         "20.74",
         "33.33",
         "33.33",
         "14.29",
         "0.0",
         "0.0",
         "0.0"
        ],
        [
         "32",
         "20.59",
         "30.9",
         "33.33",
         "33.33",
         "19.64",
         "33.33",
         "0.0",
         "0.0"
        ],
        [
         "33",
         "11.76",
         "5.58",
         "100.0",
         "100.0",
         "67.86",
         "0.0",
         "0.0",
         "0.0"
        ],
        [
         "34",
         "11.76",
         "6.73",
         "100.0",
         "0.0",
         "25.0",
         "0.0",
         "0.0",
         "0.0"
        ],
        [
         "35",
         "60.29",
         "24.74",
         "100.0",
         "33.33",
         "10.71",
         "33.33",
         "0.0",
         "100.0"
        ],
        [
         "36",
         "64.71",
         "32.24",
         "0.0",
         "66.67",
         "21.43",
         "0.0",
         "0.0",
         "0.0"
        ],
        [
         "37",
         "20.59",
         "10.18",
         "100.0",
         "33.33",
         "32.14",
         "0.0",
         "0.0",
         "100.0"
        ],
        [
         "38",
         "8.82",
         "5.36",
         "33.33",
         "33.33",
         "32.14",
         "0.0",
         "0.0",
         "0.0"
        ],
        [
         "39",
         "7.35",
         "1.14",
         "100.0",
         "66.67",
         "8.93",
         "0.0",
         "0.0",
         "0.0"
        ],
        [
         "40",
         "38.24",
         "11.46",
         "100.0",
         "33.33",
         "19.64",
         "0.0",
         "0.0",
         "0.0"
        ],
        [
         "41",
         "11.76",
         "5.0",
         "66.67",
         "0.0",
         "12.5",
         "0.0",
         "0.0",
         "0.0"
        ],
        [
         "42",
         "20.59",
         "32.76",
         "33.33",
         "100.0",
         "44.64",
         "0.0",
         "100.0",
         "0.0"
        ],
        [
         "43",
         "38.24",
         "32.67",
         "0.0",
         "100.0",
         "8.93",
         "33.33",
         "0.0",
         "0.0"
        ],
        [
         "44",
         "64.71",
         "32.43",
         "100.0",
         "100.0",
         "69.64",
         "33.33",
         "0.0",
         "100.0"
        ],
        [
         "45",
         "10.29",
         "6.29",
         "100.0",
         "100.0",
         "28.57",
         "33.33",
         "0.0",
         "0.0"
        ],
        [
         "46",
         "47.06",
         "11.27",
         "100.0",
         "100.0",
         "35.71",
         "0.0",
         "0.0",
         "0.0"
        ],
        [
         "47",
         "2.94",
         "6.06",
         "0.0",
         "33.33",
         "7.14",
         "0.0",
         "0.0",
         "0.0"
        ],
        [
         "48",
         "10.29",
         "38.4",
         "0.0",
         "100.0",
         "35.71",
         "33.33",
         "0.0",
         "0.0"
        ],
        [
         "49",
         "11.76",
         "10.03",
         "100.0",
         "33.33",
         "16.07",
         "0.0",
         "0.0",
         "0.0"
        ]
       ],
       "shape": {
        "columns": 8,
        "rows": 1000
       }
      },
      "text/html": [
       "<div>\n",
       "<style scoped>\n",
       "    .dataframe tbody tr th:only-of-type {\n",
       "        vertical-align: middle;\n",
       "    }\n",
       "\n",
       "    .dataframe tbody tr th {\n",
       "        vertical-align: top;\n",
       "    }\n",
       "\n",
       "    .dataframe thead th {\n",
       "        text-align: right;\n",
       "    }\n",
       "</style>\n",
       "<table border=\"1\" class=\"dataframe\">\n",
       "  <thead>\n",
       "    <tr style=\"text-align: right;\">\n",
       "      <th></th>\n",
       "      <th>duration_in_month</th>\n",
       "      <th>credit_amount</th>\n",
       "      <th>installment_rate</th>\n",
       "      <th>present_residence</th>\n",
       "      <th>age</th>\n",
       "      <th>existing_credits</th>\n",
       "      <th>number_of_dependents</th>\n",
       "      <th>score</th>\n",
       "    </tr>\n",
       "  </thead>\n",
       "  <tbody>\n",
       "    <tr>\n",
       "      <th>0</th>\n",
       "      <td>2.94</td>\n",
       "      <td>5.06</td>\n",
       "      <td>100.00</td>\n",
       "      <td>100.00</td>\n",
       "      <td>85.71</td>\n",
       "      <td>33.33</td>\n",
       "      <td>0.0</td>\n",
       "      <td>0.0</td>\n",
       "    </tr>\n",
       "    <tr>\n",
       "      <th>1</th>\n",
       "      <td>64.71</td>\n",
       "      <td>31.37</td>\n",
       "      <td>33.33</td>\n",
       "      <td>33.33</td>\n",
       "      <td>5.36</td>\n",
       "      <td>0.00</td>\n",
       "      <td>0.0</td>\n",
       "      <td>100.0</td>\n",
       "    </tr>\n",
       "    <tr>\n",
       "      <th>2</th>\n",
       "      <td>11.76</td>\n",
       "      <td>10.16</td>\n",
       "      <td>33.33</td>\n",
       "      <td>66.67</td>\n",
       "      <td>53.57</td>\n",
       "      <td>0.00</td>\n",
       "      <td>100.0</td>\n",
       "      <td>0.0</td>\n",
       "    </tr>\n",
       "    <tr>\n",
       "      <th>3</th>\n",
       "      <td>55.88</td>\n",
       "      <td>41.99</td>\n",
       "      <td>33.33</td>\n",
       "      <td>100.00</td>\n",
       "      <td>46.43</td>\n",
       "      <td>0.00</td>\n",
       "      <td>100.0</td>\n",
       "      <td>0.0</td>\n",
       "    </tr>\n",
       "    <tr>\n",
       "      <th>4</th>\n",
       "      <td>29.41</td>\n",
       "      <td>25.42</td>\n",
       "      <td>66.67</td>\n",
       "      <td>100.00</td>\n",
       "      <td>60.71</td>\n",
       "      <td>33.33</td>\n",
       "      <td>100.0</td>\n",
       "      <td>100.0</td>\n",
       "    </tr>\n",
       "    <tr>\n",
       "      <th>...</th>\n",
       "      <td>...</td>\n",
       "      <td>...</td>\n",
       "      <td>...</td>\n",
       "      <td>...</td>\n",
       "      <td>...</td>\n",
       "      <td>...</td>\n",
       "      <td>...</td>\n",
       "      <td>...</td>\n",
       "    </tr>\n",
       "    <tr>\n",
       "      <th>995</th>\n",
       "      <td>11.76</td>\n",
       "      <td>8.18</td>\n",
       "      <td>66.67</td>\n",
       "      <td>100.00</td>\n",
       "      <td>21.43</td>\n",
       "      <td>0.00</td>\n",
       "      <td>0.0</td>\n",
       "      <td>0.0</td>\n",
       "    </tr>\n",
       "    <tr>\n",
       "      <th>996</th>\n",
       "      <td>38.24</td>\n",
       "      <td>19.85</td>\n",
       "      <td>100.00</td>\n",
       "      <td>100.00</td>\n",
       "      <td>37.50</td>\n",
       "      <td>0.00</td>\n",
       "      <td>0.0</td>\n",
       "      <td>0.0</td>\n",
       "    </tr>\n",
       "    <tr>\n",
       "      <th>997</th>\n",
       "      <td>11.76</td>\n",
       "      <td>3.05</td>\n",
       "      <td>100.00</td>\n",
       "      <td>100.00</td>\n",
       "      <td>33.93</td>\n",
       "      <td>0.00</td>\n",
       "      <td>0.0</td>\n",
       "      <td>0.0</td>\n",
       "    </tr>\n",
       "    <tr>\n",
       "      <th>998</th>\n",
       "      <td>60.29</td>\n",
       "      <td>8.78</td>\n",
       "      <td>100.00</td>\n",
       "      <td>100.00</td>\n",
       "      <td>7.14</td>\n",
       "      <td>0.00</td>\n",
       "      <td>0.0</td>\n",
       "      <td>100.0</td>\n",
       "    </tr>\n",
       "    <tr>\n",
       "      <th>999</th>\n",
       "      <td>60.29</td>\n",
       "      <td>23.80</td>\n",
       "      <td>66.67</td>\n",
       "      <td>100.00</td>\n",
       "      <td>14.29</td>\n",
       "      <td>0.00</td>\n",
       "      <td>0.0</td>\n",
       "      <td>0.0</td>\n",
       "    </tr>\n",
       "  </tbody>\n",
       "</table>\n",
       "<p>1000 rows × 8 columns</p>\n",
       "</div>"
      ],
      "text/plain": [
       "     duration_in_month  credit_amount  installment_rate  present_residence  \\\n",
       "0                 2.94           5.06            100.00             100.00   \n",
       "1                64.71          31.37             33.33              33.33   \n",
       "2                11.76          10.16             33.33              66.67   \n",
       "3                55.88          41.99             33.33             100.00   \n",
       "4                29.41          25.42             66.67             100.00   \n",
       "..                 ...            ...               ...                ...   \n",
       "995              11.76           8.18             66.67             100.00   \n",
       "996              38.24          19.85            100.00             100.00   \n",
       "997              11.76           3.05            100.00             100.00   \n",
       "998              60.29           8.78            100.00             100.00   \n",
       "999              60.29          23.80             66.67             100.00   \n",
       "\n",
       "       age  existing_credits  number_of_dependents  score  \n",
       "0    85.71             33.33                   0.0    0.0  \n",
       "1     5.36              0.00                   0.0  100.0  \n",
       "2    53.57              0.00                 100.0    0.0  \n",
       "3    46.43              0.00                 100.0    0.0  \n",
       "4    60.71             33.33                 100.0  100.0  \n",
       "..     ...               ...                   ...    ...  \n",
       "995  21.43              0.00                   0.0    0.0  \n",
       "996  37.50              0.00                   0.0    0.0  \n",
       "997  33.93              0.00                   0.0    0.0  \n",
       "998   7.14              0.00                   0.0  100.0  \n",
       "999  14.29              0.00                   0.0    0.0  \n",
       "\n",
       "[1000 rows x 8 columns]"
      ]
     },
     "execution_count": 36,
     "metadata": {},
     "output_type": "execute_result"
    }
   ],
   "source": [
    "norm_num_df = num_df.apply(fnc.normalize, axis = 0).mul(100).round(2)\n",
    "norm_num_df"
   ]
  },
  {
   "cell_type": "code",
   "execution_count": null,
   "metadata": {},
   "outputs": [],
   "source": []
  }
 ],
 "metadata": {
  "kernelspec": {
   "display_name": "proj-DA-midterm",
   "language": "python",
   "name": "python3"
  },
  "language_info": {
   "codemirror_mode": {
    "name": "ipython",
    "version": 3
   },
   "file_extension": ".py",
   "mimetype": "text/x-python",
   "name": "python",
   "nbconvert_exporter": "python",
   "pygments_lexer": "ipython3",
   "version": "3.13.5"
  }
 },
 "nbformat": 4,
 "nbformat_minor": 2
}
