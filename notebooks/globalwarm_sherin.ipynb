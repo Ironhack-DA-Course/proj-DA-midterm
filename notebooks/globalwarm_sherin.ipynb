{
 "cells": [
  {
   "cell_type": "code",
   "execution_count": 39,
   "id": "0ec327d0-e4e6-433b-82af-0abc052dab44",
   "metadata": {},
   "outputs": [
    {
     "name": "stdout",
     "output_type": "stream",
     "text": [
      "(98366, 26)\n"
     ]
    }
   ],
   "source": [
    "import pandas as pd\n",
    "import numpy as np\n",
    "import matplotlib.pyplot as plt\n",
    "import seaborn as sns\n",
    "import re\n",
    "\n",
    "df = pd.read_csv('./global_warming_dataset.csv')\n",
    "#renaming columns\n",
    "df=df.rename(columns={col:col.replace(\" \",\"_\").lower()for col in df.columns})\n",
    "\n",
    "# Round the 'co2_emissions' column to 1 decimal place\n",
    "df['co2_emissions'] = df['co2_emissions'].round(1)\n",
    "#print(df['co2_emissions'])\n",
    "# Round the 'temperature_anomaly' column to 3 decimal places\n",
    "df['temperature_anomaly'] = df['temperature_anomaly'].round(3)\n",
    "#print(df['temperature_anomaly'])\n",
    "\n",
    "#df.country.nunique() \n",
    "\n",
    "duplicates = df[df.duplicated(subset=['country', 'year'], keep=False)].shape\n",
    "print(duplicates)"
   ]
  },
  {
   "cell_type": "code",
   "execution_count": null,
   "id": "e625ebc4-1541-46d9-8eac-f2bd9ca4902c",
   "metadata": {},
   "outputs": [],
   "source": []
  },
  {
   "cell_type": "code",
   "execution_count": null,
   "id": "547569fb-71bc-4144-ba89-cb265139e8fe",
   "metadata": {},
   "outputs": [],
   "source": []
  }
 ],
 "metadata": {
  "kernelspec": {
   "display_name": "venv",
   "language": "python",
   "name": "venv"
  },
  "language_info": {
   "codemirror_mode": {
    "name": "ipython",
    "version": 3
   },
   "file_extension": ".py",
   "mimetype": "text/x-python",
   "name": "python",
   "nbconvert_exporter": "python",
   "pygments_lexer": "ipython3",
   "version": "3.12.7"
  }
 },
 "nbformat": 4,
 "nbformat_minor": 5
}
