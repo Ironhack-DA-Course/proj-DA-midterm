{
 "cells": [
  {
   "cell_type": "code",
   "execution_count": null,
   "id": "1c05b1f9-c35a-4ea2-b2f5-b7d27f717c52",
   "metadata": {},
   "outputs": [],
   "source": [
    "df_cleaned = pd.read_csv(\"german_credit_data_descriptive_decode.csv\") "
   ]
  },
  {
   "cell_type": "code",
   "execution_count": null,
   "id": "b69c2846-01ff-49bc-9079-edd4cd79324b",
   "metadata": {},
   "outputs": [],
   "source": [
    "#Loans taken for business and education is more riskier than other loans. Most likely to have a delay in payment. --> Relationship purpose and good/ bad\n",
    "grouped_pgb = df_cleaned.groupby(['purpose', 'score']).size().unstack(fill_value=0)\n",
    "grouped_pgb['Total'] = grouped_pgb['good'] + grouped_pgb['bad']\n",
    "grouped_pgb['% Good'] = round((grouped_pgb['good'] / grouped_pgb['Total']) * 100,2)\n",
    "grouped_pgb['% Bad'] = round((grouped_pgb['bad'] / grouped_pgb['Total']) * 100,2)"
   ]
  },
  {
   "cell_type": "code",
   "execution_count": null,
   "id": "8a9484a1-43b0-471c-b63b-23da09080d1a",
   "metadata": {},
   "outputs": [],
   "source": [
    "#The credit history is really an important crieteria for good/ bad than any other attributes\n",
    "grouped_chgb = df_cleaned.groupby(['credit_history', '1_=_good,_2_=_bad']).size().unstack(fill_value=0)\n",
    "grouped_chgb.columns = ['good', 'bad']  # or reverse, depending on your labels\n",
    "grouped_chgb['Total'] = grouped_chgb['good'] + grouped_chgb['bad']\n",
    "grouped_chgb['% Good'] = round((grouped_chgb['good'] / grouped_chgb['Total']) * 100,2)\n",
    "grouped_chgb['% Bad'] = round((grouped_chgb['bad'] / grouped_chgb['Total']) * 100,2)\n",
    "print(grouped_chgb)"
   ]
  },
  {
   "cell_type": "code",
   "execution_count": null,
   "id": "74ddedfd-f407-479b-b43b-41df39ec6859",
   "metadata": {},
   "outputs": [],
   "source": [
    "# Score and Personal status\n",
    "grouped_gsgb = df_cleaned.groupby(['gender_status', 'score']).size().unstack(fill_value=0)\n",
    "grouped_gsgb['Total'] = grouped_gsgb['good'] + grouped_gsgb['bad']\n",
    "grouped_gsgb['% Good'] = round((grouped_gsgb['good'] / grouped_gsgb['Total']) * 100,2)\n",
    "grouped_gsgb['% Bad'] = round((grouped_gsgb['bad'] / grouped_gsgb['Total']) * 100,2)\n"
   ]
  },
  {
   "cell_type": "code",
   "execution_count": null,
   "id": "fb969d25-011d-4c9d-90bf-2bbc1890c7da",
   "metadata": {},
   "outputs": [],
   "source": [
    "import seaborn as sns\n",
    "plt.figure(figsize=(8, 6))\n",
    "sns.barplot(data=grouped_gsgb, x='gender_status', y=grouped_gsgb['% Bad'], color='salmon')\n",
    "\n",
    "plt.title('Percentage of Bad Score by Gender & Status')\n",
    "plt.ylabel('% Bad Score')\n",
    "plt.xlabel('Gender and Status')\n",
    "plt.ylim(0, 100)\n",
    "plt.grid(axis='y', linestyle='--', alpha=0.7)\n",
    "plt.tight_layout()\n",
    "plt.show()\n"
   ]
  }
 ],
 "metadata": {
  "kernelspec": {
   "display_name": "venv",
   "language": "python",
   "name": "venv"
  },
  "language_info": {
   "codemirror_mode": {
    "name": "ipython",
    "version": 3
   },
   "file_extension": ".py",
   "mimetype": "text/x-python",
   "name": "python",
   "nbconvert_exporter": "python",
   "pygments_lexer": "ipython3",
   "version": "3.10.11"
  }
 },
 "nbformat": 4,
 "nbformat_minor": 5
}
