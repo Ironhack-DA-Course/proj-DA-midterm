{
 "cells": [
  {
   "cell_type": "code",
   "execution_count": 11,
   "id": "3f373061-b0bd-4135-9d0c-d91d9c0a6970",
   "metadata": {},
   "outputs": [
    {
     "name": "stdout",
     "output_type": "stream",
     "text": [
      "<class 'pandas.core.frame.DataFrame'>\n",
      "RangeIndex: 40 entries, 0 to 39\n",
      "Data columns (total 24 columns):\n",
      " #   Column                             Non-Null Count  Dtype \n",
      "---  ------                             --------------  ----- \n",
      " 0   gender                             40 non-null     object\n",
      " 1   age                                40 non-null     int64 \n",
      " 2   Investment_Avenues                 40 non-null     object\n",
      " 3   Mutual_Funds                       40 non-null     int64 \n",
      " 4   Equity_Market                      40 non-null     int64 \n",
      " 5   Debentures                         40 non-null     int64 \n",
      " 6   Government_Bonds                   40 non-null     int64 \n",
      " 7   Fixed_Deposits                     40 non-null     int64 \n",
      " 8   PPF                                40 non-null     int64 \n",
      " 9   Gold                               40 non-null     int64 \n",
      " 10  Stock_Marktet                      40 non-null     object\n",
      " 11  Factor                             40 non-null     object\n",
      " 12  Objective                          40 non-null     object\n",
      " 13  Purpose                            40 non-null     object\n",
      " 14  Duration                           40 non-null     object\n",
      " 15  Invest_Monitor                     40 non-null     object\n",
      " 16  Expect                             40 non-null     object\n",
      " 17  Avenue                             40 non-null     object\n",
      " 18  What are your savings objectives?  40 non-null     object\n",
      " 19  Reason_Equity                      40 non-null     object\n",
      " 20  Reason_Mutual                      40 non-null     object\n",
      " 21  Reason_Bonds                       40 non-null     object\n",
      " 22  Reason_FD                          40 non-null     object\n",
      " 23  Source                             40 non-null     object\n",
      "dtypes: int64(8), object(16)\n",
      "memory usage: 7.6+ KB\n"
     ]
    }
   ],
   "source": [
    "import pandas as pd\n",
    "df = pd.read_csv(\"Finance_data.csv\")\n",
    "df.info()"
   ]
  },
  {
   "cell_type": "code",
   "execution_count": 27,
   "id": "81fc6bd8-5e4b-4db7-bda0-ad439f827317",
   "metadata": {},
   "outputs": [
    {
     "data": {
      "text/plain": [
       "Investment_Avenues\n",
       "Yes    37\n",
       "No      3\n",
       "Name: count, dtype: int64"
      ]
     },
     "execution_count": 27,
     "metadata": {},
     "output_type": "execute_result"
    }
   ],
   "source": [
    "df[\"Investment_Avenues\"].value_counts()"
   ]
  },
  {
   "cell_type": "code",
   "execution_count": 23,
   "id": "905a296f-99be-483d-acbf-1612d96c9714",
   "metadata": {},
   "outputs": [
    {
     "name": "stdout",
     "output_type": "stream",
     "text": [
      "<class 'pandas.core.frame.DataFrame'>\n",
      "RangeIndex: 40 entries, 0 to 39\n",
      "Data columns (total 24 columns):\n",
      " #   Column                                                                                                                  Non-Null Count  Dtype \n",
      "---  ------                                                                                                                  --------------  ----- \n",
      " 0   GENDER                                                                                                                  40 non-null     object\n",
      " 1   AGE                                                                                                                     40 non-null     int64 \n",
      " 2   Do you invest in Investment Avenues?                                                                                    40 non-null     object\n",
      " 3   What do you think are the best options for investing your money? (Rank in order of preference) [Mutual Funds]           40 non-null     int64 \n",
      " 4   What do you think are the best options for investing your money? (Rank in order of preference) [Equity Market]          40 non-null     int64 \n",
      " 5   What do you think are the best options for investing your money? (Rank in order of preference) [Debentures]             40 non-null     int64 \n",
      " 6   What do you think are the best options for investing your money? (Rank in order of preference) [Government Bonds]       40 non-null     int64 \n",
      " 7   What do you think are the best options for investing your money? (Rank in order of preference) [Fixed Deposits]         40 non-null     int64 \n",
      " 8   What do you think are the best options for investing your money? (Rank in order of preference) [Public Provident Fund]  40 non-null     int64 \n",
      " 9   What do you think are the best options for investing your money? (Rank in order of preference) [Gold]                   40 non-null     int64 \n",
      " 10  Do you invest in Stock Market?                                                                                          40 non-null     object\n",
      " 11  What are the factors considered by you while investing in any instrument?                                               40 non-null     object\n",
      " 12  What is your investment objective?                                                                                      40 non-null     object\n",
      " 13  What is your purpose behind investment?                                                                                 40 non-null     object\n",
      " 14  How long do you prefer to keep your money in any investment instrument?                                                 40 non-null     object\n",
      " 15  How often do you monitor your investment?                                                                               40 non-null     object\n",
      " 16  How much return do you expect from any investment instrument?                                                           40 non-null     object\n",
      " 17  Which investment avenue do you mostly invest in?                                                                        40 non-null     object\n",
      " 18  What are your savings objectives?                                                                                       40 non-null     object\n",
      " 19  Reasons for investing in Equity Market                                                                                  40 non-null     object\n",
      " 20  Reasons for investing in Mutual Funds                                                                                   40 non-null     object\n",
      " 21  Reasons for investing in Government Bonds                                                                               40 non-null     object\n",
      " 22  Reasons for investing in Fixed Deposits                                                                                 40 non-null     object\n",
      " 23  Your sources of information for investments is                                                                          40 non-null     object\n",
      "dtypes: int64(8), object(16)\n",
      "memory usage: 7.6+ KB\n"
     ]
    }
   ],
   "source": [
    "import pandas as pd\n",
    "o_df = pd.read_csv(\"Original_data.csv\")\n",
    "o_df.info()"
   ]
  },
  {
   "cell_type": "code",
   "execution_count": 29,
   "id": "398cc0e9-14c1-4460-8063-86c0bcd5fefa",
   "metadata": {},
   "outputs": [
    {
     "ename": "ModuleNotFoundError",
     "evalue": "No module named 'yahooquery'",
     "output_type": "error",
     "traceback": [
      "\u001b[31m---------------------------------------------------------------------------\u001b[39m",
      "\u001b[31mModuleNotFoundError\u001b[39m                       Traceback (most recent call last)",
      "\u001b[36mCell\u001b[39m\u001b[36m \u001b[39m\u001b[32mIn[29]\u001b[39m\u001b[32m, line 1\u001b[39m\n\u001b[32m----> \u001b[39m\u001b[32m1\u001b[39m \u001b[38;5;28;01mfrom\u001b[39;00m\u001b[38;5;250m \u001b[39m\u001b[34;01myahooquery\u001b[39;00m\u001b[38;5;250m \u001b[39m\u001b[38;5;28;01mimport\u001b[39;00m Ticker\n\u001b[32m      3\u001b[39m aapl = Ticker(\u001b[33m'\u001b[39m\u001b[33maapl\u001b[39m\u001b[33m'\u001b[39m)\n\u001b[32m      5\u001b[39m aapl.summary_detail\n",
      "\u001b[31mModuleNotFoundError\u001b[39m: No module named 'yahooquery'"
     ]
    }
   ],
   "source": [
    "from yahooquery import Ticker\n",
    "\n",
    "aapl = Ticker('aapl')\n",
    "\n",
    "aapl.summary_detail\n"
   ]
  },
  {
   "cell_type": "code",
   "execution_count": 31,
   "id": "bb86da59-cf62-483f-8ee2-df92f0fbaf07",
   "metadata": {},
   "outputs": [
    {
     "name": "stdout",
     "output_type": "stream",
     "text": [
      "Requirement already satisfied: yahooquery in /opt/anaconda3/lib/python3.12/site-packages (2.4.1)\n",
      "Requirement already satisfied: beautifulsoup4>=4.12.2 in /opt/anaconda3/lib/python3.12/site-packages (from yahooquery) (4.12.3)\n",
      "Requirement already satisfied: curl-cffi>=0.10.0 in /opt/anaconda3/lib/python3.12/site-packages (from yahooquery) (0.11.4)\n",
      "Requirement already satisfied: lxml>=4.9.3 in /opt/anaconda3/lib/python3.12/site-packages (from yahooquery) (5.2.1)\n",
      "Requirement already satisfied: pandas>=2.2.0 in /opt/anaconda3/lib/python3.12/site-packages (from yahooquery) (2.2.2)\n",
      "Requirement already satisfied: requests-futures>=1.0.1 in /opt/anaconda3/lib/python3.12/site-packages (from yahooquery) (1.0.2)\n",
      "Requirement already satisfied: tqdm>=4.65.0 in /opt/anaconda3/lib/python3.12/site-packages (from yahooquery) (4.66.5)\n",
      "Requirement already satisfied: soupsieve>1.2 in /opt/anaconda3/lib/python3.12/site-packages (from beautifulsoup4>=4.12.2->yahooquery) (2.5)\n",
      "Requirement already satisfied: cffi>=1.12.0 in /opt/anaconda3/lib/python3.12/site-packages (from curl-cffi>=0.10.0->yahooquery) (1.17.1)\n",
      "Requirement already satisfied: certifi>=2024.2.2 in /opt/anaconda3/lib/python3.12/site-packages (from curl-cffi>=0.10.0->yahooquery) (2025.6.15)\n",
      "Requirement already satisfied: numpy>=1.26.0 in /opt/anaconda3/lib/python3.12/site-packages (from pandas>=2.2.0->yahooquery) (1.26.4)\n",
      "Requirement already satisfied: python-dateutil>=2.8.2 in /opt/anaconda3/lib/python3.12/site-packages (from pandas>=2.2.0->yahooquery) (2.9.0.post0)\n",
      "Requirement already satisfied: pytz>=2020.1 in /opt/anaconda3/lib/python3.12/site-packages (from pandas>=2.2.0->yahooquery) (2024.1)\n",
      "Requirement already satisfied: tzdata>=2022.7 in /opt/anaconda3/lib/python3.12/site-packages (from pandas>=2.2.0->yahooquery) (2023.3)\n",
      "Requirement already satisfied: requests>=1.2.0 in /opt/anaconda3/lib/python3.12/site-packages (from requests-futures>=1.0.1->yahooquery) (2.32.3)\n",
      "Requirement already satisfied: pycparser in /opt/anaconda3/lib/python3.12/site-packages (from cffi>=1.12.0->curl-cffi>=0.10.0->yahooquery) (2.21)\n",
      "Requirement already satisfied: six>=1.5 in /opt/anaconda3/lib/python3.12/site-packages (from python-dateutil>=2.8.2->pandas>=2.2.0->yahooquery) (1.16.0)\n",
      "Requirement already satisfied: charset-normalizer<4,>=2 in /opt/anaconda3/lib/python3.12/site-packages (from requests>=1.2.0->requests-futures>=1.0.1->yahooquery) (3.3.2)\n",
      "Requirement already satisfied: idna<4,>=2.5 in /opt/anaconda3/lib/python3.12/site-packages (from requests>=1.2.0->requests-futures>=1.0.1->yahooquery) (3.7)\n",
      "Requirement already satisfied: urllib3<3,>=1.21.1 in /opt/anaconda3/lib/python3.12/site-packages (from requests>=1.2.0->requests-futures>=1.0.1->yahooquery) (2.2.3)\n"
     ]
    }
   ],
   "source": [
    "!pip install yahooquery\n"
   ]
  },
  {
   "cell_type": "code",
   "execution_count": 33,
   "id": "69fd25d0-a24f-4d07-ba2f-d962be17e429",
   "metadata": {},
   "outputs": [
    {
     "ename": "ModuleNotFoundError",
     "evalue": "No module named 'yahooquery'",
     "output_type": "error",
     "traceback": [
      "\u001b[31m---------------------------------------------------------------------------\u001b[39m",
      "\u001b[31mModuleNotFoundError\u001b[39m                       Traceback (most recent call last)",
      "\u001b[36mCell\u001b[39m\u001b[36m \u001b[39m\u001b[32mIn[33]\u001b[39m\u001b[32m, line 1\u001b[39m\n\u001b[32m----> \u001b[39m\u001b[32m1\u001b[39m \u001b[38;5;28;01mfrom\u001b[39;00m\u001b[38;5;250m \u001b[39m\u001b[34;01myahooquery\u001b[39;00m\u001b[38;5;250m \u001b[39m\u001b[38;5;28;01mimport\u001b[39;00m Ticker\n",
      "\u001b[31mModuleNotFoundError\u001b[39m: No module named 'yahooquery'"
     ]
    }
   ],
   "source": [
    "from yahooquery import Ticker\n"
   ]
  },
  {
   "cell_type": "code",
   "execution_count": 35,
   "id": "d72c91d4-2e22-402b-9e9a-e4370649ff1a",
   "metadata": {},
   "outputs": [
    {
     "name": "stdout",
     "output_type": "stream",
     "text": [
      "Requirement already satisfied: yahooquery in /opt/anaconda3/lib/python3.12/site-packages (2.4.1)\n",
      "Requirement already satisfied: beautifulsoup4>=4.12.2 in /opt/anaconda3/lib/python3.12/site-packages (from yahooquery) (4.12.3)\n",
      "Requirement already satisfied: curl-cffi>=0.10.0 in /opt/anaconda3/lib/python3.12/site-packages (from yahooquery) (0.11.4)\n",
      "Requirement already satisfied: lxml>=4.9.3 in /opt/anaconda3/lib/python3.12/site-packages (from yahooquery) (5.2.1)\n",
      "Requirement already satisfied: pandas>=2.2.0 in /opt/anaconda3/lib/python3.12/site-packages (from yahooquery) (2.2.2)\n",
      "Requirement already satisfied: requests-futures>=1.0.1 in /opt/anaconda3/lib/python3.12/site-packages (from yahooquery) (1.0.2)\n",
      "Requirement already satisfied: tqdm>=4.65.0 in /opt/anaconda3/lib/python3.12/site-packages (from yahooquery) (4.66.5)\n",
      "Requirement already satisfied: soupsieve>1.2 in /opt/anaconda3/lib/python3.12/site-packages (from beautifulsoup4>=4.12.2->yahooquery) (2.5)\n",
      "Requirement already satisfied: cffi>=1.12.0 in /opt/anaconda3/lib/python3.12/site-packages (from curl-cffi>=0.10.0->yahooquery) (1.17.1)\n",
      "Requirement already satisfied: certifi>=2024.2.2 in /opt/anaconda3/lib/python3.12/site-packages (from curl-cffi>=0.10.0->yahooquery) (2025.6.15)\n",
      "Requirement already satisfied: numpy>=1.26.0 in /opt/anaconda3/lib/python3.12/site-packages (from pandas>=2.2.0->yahooquery) (1.26.4)\n",
      "Requirement already satisfied: python-dateutil>=2.8.2 in /opt/anaconda3/lib/python3.12/site-packages (from pandas>=2.2.0->yahooquery) (2.9.0.post0)\n",
      "Requirement already satisfied: pytz>=2020.1 in /opt/anaconda3/lib/python3.12/site-packages (from pandas>=2.2.0->yahooquery) (2024.1)\n",
      "Requirement already satisfied: tzdata>=2022.7 in /opt/anaconda3/lib/python3.12/site-packages (from pandas>=2.2.0->yahooquery) (2023.3)\n",
      "Requirement already satisfied: requests>=1.2.0 in /opt/anaconda3/lib/python3.12/site-packages (from requests-futures>=1.0.1->yahooquery) (2.32.3)\n",
      "Requirement already satisfied: pycparser in /opt/anaconda3/lib/python3.12/site-packages (from cffi>=1.12.0->curl-cffi>=0.10.0->yahooquery) (2.21)\n",
      "Requirement already satisfied: six>=1.5 in /opt/anaconda3/lib/python3.12/site-packages (from python-dateutil>=2.8.2->pandas>=2.2.0->yahooquery) (1.16.0)\n",
      "Requirement already satisfied: charset-normalizer<4,>=2 in /opt/anaconda3/lib/python3.12/site-packages (from requests>=1.2.0->requests-futures>=1.0.1->yahooquery) (3.3.2)\n",
      "Requirement already satisfied: idna<4,>=2.5 in /opt/anaconda3/lib/python3.12/site-packages (from requests>=1.2.0->requests-futures>=1.0.1->yahooquery) (3.7)\n",
      "Requirement already satisfied: urllib3<3,>=1.21.1 in /opt/anaconda3/lib/python3.12/site-packages (from requests>=1.2.0->requests-futures>=1.0.1->yahooquery) (2.2.3)\n"
     ]
    }
   ],
   "source": [
    "!pip install yahooquery\n"
   ]
  },
  {
   "cell_type": "code",
   "execution_count": 37,
   "id": "d7aef455-9fc6-4308-9d75-9793af2e9737",
   "metadata": {},
   "outputs": [
    {
     "ename": "ModuleNotFoundError",
     "evalue": "No module named 'yahooquery'",
     "output_type": "error",
     "traceback": [
      "\u001b[31m---------------------------------------------------------------------------\u001b[39m",
      "\u001b[31mModuleNotFoundError\u001b[39m                       Traceback (most recent call last)",
      "\u001b[36mCell\u001b[39m\u001b[36m \u001b[39m\u001b[32mIn[37]\u001b[39m\u001b[32m, line 1\u001b[39m\n\u001b[32m----> \u001b[39m\u001b[32m1\u001b[39m \u001b[38;5;28;01mfrom\u001b[39;00m\u001b[38;5;250m \u001b[39m\u001b[34;01myahooquery\u001b[39;00m\u001b[38;5;250m \u001b[39m\u001b[38;5;28;01mimport\u001b[39;00m Ticker\n",
      "\u001b[31mModuleNotFoundError\u001b[39m: No module named 'yahooquery'"
     ]
    }
   ],
   "source": [
    "from yahooquery import Ticker"
   ]
  },
  {
   "cell_type": "code",
   "execution_count": 39,
   "id": "540272d0-ec2b-4903-893a-da2eaafe9a09",
   "metadata": {},
   "outputs": [
    {
     "name": "stdout",
     "output_type": "stream",
     "text": [
      "/Users/souadmouajel/Desktop/Ironhack/lab-sessions/week-4/project-week4/proj-DA-midterm/.venv/bin/python\n"
     ]
    }
   ],
   "source": [
    "import sys\n",
    "print(sys.executable)"
   ]
  },
  {
   "cell_type": "code",
   "execution_count": 41,
   "id": "445955ca-01e3-4a6c-8193-04e1c4663801",
   "metadata": {},
   "outputs": [
    {
     "name": "stdout",
     "output_type": "stream",
     "text": [
      "/Users/souadmouajel/Desktop/Ironhack/lab-sessions/week-4/project-week4/proj-DA-midterm/.venv/bin/python: No module named pip\n"
     ]
    }
   ],
   "source": [
    "import sys\n",
    "!{sys.executable} -m pip install --upgrade --force-reinstall yahooquery\n"
   ]
  },
  {
   "cell_type": "code",
   "execution_count": 43,
   "id": "e54f4fde-8878-4288-97f0-193aebb22c66",
   "metadata": {},
   "outputs": [
    {
     "name": "stdout",
     "output_type": "stream",
     "text": [
      "Collecting yahooquery\n",
      "  Using cached yahooquery-2.4.1-py3-none-any.whl.metadata (4.8 kB)\n",
      "Requirement already satisfied: beautifulsoup4>=4.12.2 in ./.venv/lib/python3.12/site-packages (from yahooquery) (4.13.4)\n",
      "Collecting curl-cffi>=0.10.0 (from yahooquery)\n",
      "  Using cached curl_cffi-0.11.4-cp39-abi3-macosx_11_0_arm64.whl.metadata (14 kB)\n",
      "Collecting lxml>=4.9.3 (from yahooquery)\n",
      "  Downloading lxml-6.0.0-cp312-cp312-macosx_10_13_universal2.whl.metadata (6.6 kB)\n",
      "Requirement already satisfied: pandas>=2.2.0 in ./.venv/lib/python3.12/site-packages (from yahooquery) (2.3.0)\n",
      "Collecting requests-futures>=1.0.1 (from yahooquery)\n",
      "  Using cached requests_futures-1.0.2-py2.py3-none-any.whl.metadata (12 kB)\n",
      "Collecting tqdm>=4.65.0 (from yahooquery)\n",
      "  Downloading tqdm-4.67.1-py3-none-any.whl.metadata (57 kB)\n",
      "Requirement already satisfied: soupsieve>1.2 in ./.venv/lib/python3.12/site-packages (from beautifulsoup4>=4.12.2->yahooquery) (2.7)\n",
      "Requirement already satisfied: typing-extensions>=4.0.0 in ./.venv/lib/python3.12/site-packages (from beautifulsoup4>=4.12.2->yahooquery) (4.14.1)\n",
      "Requirement already satisfied: cffi>=1.12.0 in ./.venv/lib/python3.12/site-packages (from curl-cffi>=0.10.0->yahooquery) (1.17.1)\n",
      "Requirement already satisfied: certifi>=2024.2.2 in ./.venv/lib/python3.12/site-packages (from curl-cffi>=0.10.0->yahooquery) (2025.6.15)\n",
      "Requirement already satisfied: numpy>=1.26.0 in ./.venv/lib/python3.12/site-packages (from pandas>=2.2.0->yahooquery) (2.3.1)\n",
      "Requirement already satisfied: python-dateutil>=2.8.2 in ./.venv/lib/python3.12/site-packages (from pandas>=2.2.0->yahooquery) (2.9.0.post0)\n",
      "Requirement already satisfied: pytz>=2020.1 in ./.venv/lib/python3.12/site-packages (from pandas>=2.2.0->yahooquery) (2025.2)\n",
      "Requirement already satisfied: tzdata>=2022.7 in ./.venv/lib/python3.12/site-packages (from pandas>=2.2.0->yahooquery) (2025.2)\n",
      "Requirement already satisfied: requests>=1.2.0 in ./.venv/lib/python3.12/site-packages (from requests-futures>=1.0.1->yahooquery) (2.32.4)\n",
      "Requirement already satisfied: pycparser in ./.venv/lib/python3.12/site-packages (from cffi>=1.12.0->curl-cffi>=0.10.0->yahooquery) (2.22)\n",
      "Requirement already satisfied: six>=1.5 in ./.venv/lib/python3.12/site-packages (from python-dateutil>=2.8.2->pandas>=2.2.0->yahooquery) (1.17.0)\n",
      "Requirement already satisfied: charset_normalizer<4,>=2 in ./.venv/lib/python3.12/site-packages (from requests>=1.2.0->requests-futures>=1.0.1->yahooquery) (3.4.2)\n",
      "Requirement already satisfied: idna<4,>=2.5 in ./.venv/lib/python3.12/site-packages (from requests>=1.2.0->requests-futures>=1.0.1->yahooquery) (3.10)\n",
      "Requirement already satisfied: urllib3<3,>=1.21.1 in ./.venv/lib/python3.12/site-packages (from requests>=1.2.0->requests-futures>=1.0.1->yahooquery) (2.5.0)\n",
      "Using cached yahooquery-2.4.1-py3-none-any.whl (50 kB)\n",
      "Using cached curl_cffi-0.11.4-cp39-abi3-macosx_11_0_arm64.whl (3.0 MB)\n",
      "Downloading lxml-6.0.0-cp312-cp312-macosx_10_13_universal2.whl (8.4 MB)\n",
      "\u001b[2K   \u001b[90m━━━━━━━━━━━━━━━━━━━━━━━━━━━━━━━━━━━━━━━━\u001b[0m \u001b[32m8.4/8.4 MB\u001b[0m \u001b[31m7.6 MB/s\u001b[0m eta \u001b[36m0:00:00\u001b[0ma \u001b[36m0:00:01\u001b[0m\n",
      "\u001b[?25hUsing cached requests_futures-1.0.2-py2.py3-none-any.whl (7.7 kB)\n",
      "Downloading tqdm-4.67.1-py3-none-any.whl (78 kB)\n",
      "Installing collected packages: tqdm, lxml, requests-futures, curl-cffi, yahooquery\n",
      "Successfully installed curl-cffi-0.11.4 lxml-6.0.0 requests-futures-1.0.2 tqdm-4.67.1 yahooquery-2.4.1\n",
      "\n",
      "\u001b[1m[\u001b[0m\u001b[34;49mnotice\u001b[0m\u001b[1;39;49m]\u001b[0m\u001b[39;49m A new release of pip is available: \u001b[0m\u001b[31;49m24.2\u001b[0m\u001b[39;49m -> \u001b[0m\u001b[32;49m25.1.1\u001b[0m\n",
      "\u001b[1m[\u001b[0m\u001b[34;49mnotice\u001b[0m\u001b[1;39;49m]\u001b[0m\u001b[39;49m To update, run: \u001b[0m\u001b[32;49mpip3 install --upgrade pip\u001b[0m\n",
      "Note: you may need to restart the kernel to use updated packages.\n"
     ]
    }
   ],
   "source": [
    "pip install yahooquery\n"
   ]
  },
  {
   "cell_type": "code",
   "execution_count": 45,
   "id": "621e9b76-8bae-439d-9c47-ffaef9b6d7cb",
   "metadata": {},
   "outputs": [],
   "source": [
    "from yahooquery import Ticker\n"
   ]
  },
  {
   "cell_type": "code",
   "execution_count": 47,
   "id": "6b8e2a08-e0f8-4d7c-a144-4f016d149c67",
   "metadata": {},
   "outputs": [
    {
     "data": {
      "text/plain": [
       "{'aapl': {'maxAge': 1,\n",
       "  'priceHint': 2,\n",
       "  'previousClose': 213.55,\n",
       "  'open': 212.68,\n",
       "  'dayLow': 211.81,\n",
       "  'dayHigh': 216.23,\n",
       "  'regularMarketPreviousClose': 213.55,\n",
       "  'regularMarketOpen': 212.68,\n",
       "  'regularMarketDayLow': 211.81,\n",
       "  'regularMarketDayHigh': 216.23,\n",
       "  'dividendRate': 1.04,\n",
       "  'dividendYield': 0.0050999997,\n",
       "  'exDividendDate': '2025-05-12 02:00:00',\n",
       "  'payoutRatio': 0.1558,\n",
       "  'fiveYearAvgDividendYield': 0.55,\n",
       "  'beta': 1.211,\n",
       "  'trailingPE': 33.042786,\n",
       "  'forwardPE': 25.5674,\n",
       "  'volume': 13323045,\n",
       "  'regularMarketVolume': 13323045,\n",
       "  'averageVolume': 60369956,\n",
       "  'averageVolume10days': 64380450,\n",
       "  'averageDailyVolume10Day': 64380450,\n",
       "  'bid': 212.2,\n",
       "  'ask': 212.67,\n",
       "  'bidSize': 200,\n",
       "  'askSize': 200,\n",
       "  'marketCap': 3173336219648,\n",
       "  'fiftyTwoWeekLow': 169.21,\n",
       "  'fiftyTwoWeekHigh': 260.1,\n",
       "  'priceToSalesTrailing12Months': 7.926088,\n",
       "  'fiftyDayAverage': 203.7188,\n",
       "  'twoHundredDayAverage': 223.08815,\n",
       "  'trailingAnnualDividendRate': 1.0,\n",
       "  'trailingAnnualDividendYield': 0.004682744,\n",
       "  'currency': 'USD',\n",
       "  'fromCurrency': None,\n",
       "  'toCurrency': None,\n",
       "  'lastMarket': None,\n",
       "  'coinMarketCapLink': None,\n",
       "  'algorithm': None,\n",
       "  'tradeable': False}}"
      ]
     },
     "execution_count": 47,
     "metadata": {},
     "output_type": "execute_result"
    }
   ],
   "source": [
    "from yahooquery import Ticker\n",
    "\n",
    "aapl = Ticker('aapl')\n",
    "\n",
    "aapl.summary_detail\n"
   ]
  },
  {
   "cell_type": "code",
   "execution_count": 55,
   "id": "e272240b-c7f9-4406-bf13-b3135ece114d",
   "metadata": {},
   "outputs": [
    {
     "ename": "TypeError",
     "evalue": "'tickers' is an invalid keyword argument for print()",
     "output_type": "error",
     "traceback": [
      "\u001b[31m---------------------------------------------------------------------------\u001b[39m",
      "\u001b[31mTypeError\u001b[39m                                 Traceback (most recent call last)",
      "\u001b[36mCell\u001b[39m\u001b[36m \u001b[39m\u001b[32mIn[55]\u001b[39m\u001b[32m, line 1\u001b[39m\n\u001b[32m----> \u001b[39m\u001b[32m1\u001b[39m \u001b[38;5;28;43mprint\u001b[39;49m\u001b[43m(\u001b[49m\u001b[43mtickers\u001b[49m\u001b[43m \u001b[49m\u001b[43m=\u001b[49m\u001b[43m \u001b[49m\u001b[43mTicker\u001b[49m\u001b[43m(\u001b[49m\u001b[32;43m5\u001b[39;49m\u001b[43m)\u001b[49m\u001b[43m)\u001b[49m\n",
      "\u001b[31mTypeError\u001b[39m: 'tickers' is an invalid keyword argument for print()"
     ]
    }
   ],
   "source": [
    "tickers = Ticker(5)\n"
   ]
  },
  {
   "cell_type": "code",
   "execution_count": 57,
   "id": "27bcf52b-3722-4e91-99c8-ea8ad25f8f06",
   "metadata": {},
   "outputs": [
    {
     "name": "stdout",
     "output_type": "stream",
     "text": [
      "<yahooquery.ticker.Ticker object at 0x120a0b350>\n"
     ]
    }
   ],
   "source": [
    "print(tickers)"
   ]
  },
  {
   "cell_type": "code",
   "execution_count": 59,
   "id": "b13551bd-d877-4fe5-8f12-1498b365d8fd",
   "metadata": {},
   "outputs": [
    {
     "data": {
      "text/html": [
       "<div>\n",
       "<style scoped>\n",
       "    .dataframe tbody tr th:only-of-type {\n",
       "        vertical-align: middle;\n",
       "    }\n",
       "\n",
       "    .dataframe tbody tr th {\n",
       "        vertical-align: top;\n",
       "    }\n",
       "\n",
       "    .dataframe thead th {\n",
       "        text-align: right;\n",
       "    }\n",
       "</style>\n",
       "<table border=\"1\" class=\"dataframe\">\n",
       "  <thead>\n",
       "    <tr style=\"text-align: right;\">\n",
       "      <th></th>\n",
       "      <th></th>\n",
       "      <th>open</th>\n",
       "      <th>high</th>\n",
       "      <th>low</th>\n",
       "      <th>close</th>\n",
       "      <th>volume</th>\n",
       "      <th>adjclose</th>\n",
       "      <th>dividends</th>\n",
       "    </tr>\n",
       "    <tr>\n",
       "      <th>symbol</th>\n",
       "      <th>date</th>\n",
       "      <th></th>\n",
       "      <th></th>\n",
       "      <th></th>\n",
       "      <th></th>\n",
       "      <th></th>\n",
       "      <th></th>\n",
       "      <th></th>\n",
       "    </tr>\n",
       "  </thead>\n",
       "  <tbody>\n",
       "    <tr>\n",
       "      <th rowspan=\"5\" valign=\"top\">fb</th>\n",
       "      <th>2025-06-26</th>\n",
       "      <td>40.139999</td>\n",
       "      <td>40.189999</td>\n",
       "      <td>39.910000</td>\n",
       "      <td>39.910000</td>\n",
       "      <td>36700</td>\n",
       "      <td>39.910000</td>\n",
       "      <td>0.0</td>\n",
       "    </tr>\n",
       "    <tr>\n",
       "      <th>2025-06-27</th>\n",
       "      <td>40.150002</td>\n",
       "      <td>40.369999</td>\n",
       "      <td>40.150002</td>\n",
       "      <td>40.249001</td>\n",
       "      <td>11300</td>\n",
       "      <td>40.249001</td>\n",
       "      <td>0.0</td>\n",
       "    </tr>\n",
       "    <tr>\n",
       "      <th>2025-06-30</th>\n",
       "      <td>40.450001</td>\n",
       "      <td>40.570000</td>\n",
       "      <td>40.299999</td>\n",
       "      <td>40.473999</td>\n",
       "      <td>28700</td>\n",
       "      <td>40.473999</td>\n",
       "      <td>0.0</td>\n",
       "    </tr>\n",
       "    <tr>\n",
       "      <th>2025-07-01</th>\n",
       "      <td>40.362000</td>\n",
       "      <td>41.404999</td>\n",
       "      <td>40.320000</td>\n",
       "      <td>40.394001</td>\n",
       "      <td>11300</td>\n",
       "      <td>40.394001</td>\n",
       "      <td>0.0</td>\n",
       "    </tr>\n",
       "    <tr>\n",
       "      <th>2025-07-02</th>\n",
       "      <td>40.311001</td>\n",
       "      <td>40.360001</td>\n",
       "      <td>40.240002</td>\n",
       "      <td>40.250000</td>\n",
       "      <td>50300</td>\n",
       "      <td>40.250000</td>\n",
       "      <td>0.0</td>\n",
       "    </tr>\n",
       "  </tbody>\n",
       "</table>\n",
       "</div>"
      ],
      "text/plain": [
       "                        open       high        low      close  volume  \\\n",
       "symbol date                                                             \n",
       "fb     2025-06-26  40.139999  40.189999  39.910000  39.910000   36700   \n",
       "       2025-06-27  40.150002  40.369999  40.150002  40.249001   11300   \n",
       "       2025-06-30  40.450001  40.570000  40.299999  40.473999   28700   \n",
       "       2025-07-01  40.362000  41.404999  40.320000  40.394001   11300   \n",
       "       2025-07-02  40.311001  40.360001  40.240002  40.250000   50300   \n",
       "\n",
       "                    adjclose  dividends  \n",
       "symbol date                              \n",
       "fb     2025-06-26  39.910000        0.0  \n",
       "       2025-06-27  40.249001        0.0  \n",
       "       2025-06-30  40.473999        0.0  \n",
       "       2025-07-01  40.394001        0.0  \n",
       "       2025-07-02  40.250000        0.0  "
      ]
     },
     "execution_count": 59,
     "metadata": {},
     "output_type": "execute_result"
    }
   ],
   "source": [
    "tickers = Ticker('fb aapl nflx', asynchronous=True)\n",
    "\n",
    "# Default period = ytd, interval = 1d\n",
    "df = tickers.history()\n",
    "df.head()"
   ]
  },
  {
   "cell_type": "code",
   "execution_count": 61,
   "id": "6055439b-e70f-4ea8-ba3c-11569703dc47",
   "metadata": {},
   "outputs": [
    {
     "name": "stdout",
     "output_type": "stream",
     "text": [
      "Index(['open', 'high', 'low', 'close', 'volume', 'adjclose', 'dividends'], dtype='object')\n"
     ]
    }
   ],
   "source": [
    "print(df.columns)\n"
   ]
  },
  {
   "cell_type": "code",
   "execution_count": 63,
   "id": "41431553-8915-4b98-a88c-6be763417adb",
   "metadata": {},
   "outputs": [
    {
     "data": {
      "text/html": [
       "<div>\n",
       "<style scoped>\n",
       "    .dataframe tbody tr th:only-of-type {\n",
       "        vertical-align: middle;\n",
       "    }\n",
       "\n",
       "    .dataframe tbody tr th {\n",
       "        vertical-align: top;\n",
       "    }\n",
       "\n",
       "    .dataframe thead th {\n",
       "        text-align: right;\n",
       "    }\n",
       "</style>\n",
       "<table border=\"1\" class=\"dataframe\">\n",
       "  <thead>\n",
       "    <tr style=\"text-align: right;\">\n",
       "      <th></th>\n",
       "      <th></th>\n",
       "      <th>open</th>\n",
       "      <th>high</th>\n",
       "      <th>low</th>\n",
       "      <th>close</th>\n",
       "      <th>volume</th>\n",
       "      <th>adjclose</th>\n",
       "      <th>dividends</th>\n",
       "    </tr>\n",
       "    <tr>\n",
       "      <th>symbol</th>\n",
       "      <th>date</th>\n",
       "      <th></th>\n",
       "      <th></th>\n",
       "      <th></th>\n",
       "      <th></th>\n",
       "      <th></th>\n",
       "      <th></th>\n",
       "      <th></th>\n",
       "    </tr>\n",
       "  </thead>\n",
       "  <tbody>\n",
       "    <tr>\n",
       "      <th rowspan=\"5\" valign=\"top\">fb</th>\n",
       "      <th>2025-06-26</th>\n",
       "      <td>40.139999</td>\n",
       "      <td>40.189999</td>\n",
       "      <td>39.910000</td>\n",
       "      <td>39.910000</td>\n",
       "      <td>36700</td>\n",
       "      <td>39.910000</td>\n",
       "      <td>0.0</td>\n",
       "    </tr>\n",
       "    <tr>\n",
       "      <th>2025-06-27</th>\n",
       "      <td>40.150002</td>\n",
       "      <td>40.369999</td>\n",
       "      <td>40.150002</td>\n",
       "      <td>40.249001</td>\n",
       "      <td>11300</td>\n",
       "      <td>40.249001</td>\n",
       "      <td>0.0</td>\n",
       "    </tr>\n",
       "    <tr>\n",
       "      <th>2025-06-30</th>\n",
       "      <td>40.450001</td>\n",
       "      <td>40.570000</td>\n",
       "      <td>40.299999</td>\n",
       "      <td>40.473999</td>\n",
       "      <td>28700</td>\n",
       "      <td>40.473999</td>\n",
       "      <td>0.0</td>\n",
       "    </tr>\n",
       "    <tr>\n",
       "      <th>2025-07-01</th>\n",
       "      <td>40.362000</td>\n",
       "      <td>41.404999</td>\n",
       "      <td>40.320000</td>\n",
       "      <td>40.394001</td>\n",
       "      <td>11300</td>\n",
       "      <td>40.394001</td>\n",
       "      <td>0.0</td>\n",
       "    </tr>\n",
       "    <tr>\n",
       "      <th>2025-07-02</th>\n",
       "      <td>40.311001</td>\n",
       "      <td>40.360001</td>\n",
       "      <td>40.240002</td>\n",
       "      <td>40.250000</td>\n",
       "      <td>50300</td>\n",
       "      <td>40.250000</td>\n",
       "      <td>0.0</td>\n",
       "    </tr>\n",
       "  </tbody>\n",
       "</table>\n",
       "</div>"
      ],
      "text/plain": [
       "                        open       high        low      close  volume  \\\n",
       "symbol date                                                             \n",
       "fb     2025-06-26  40.139999  40.189999  39.910000  39.910000   36700   \n",
       "       2025-06-27  40.150002  40.369999  40.150002  40.249001   11300   \n",
       "       2025-06-30  40.450001  40.570000  40.299999  40.473999   28700   \n",
       "       2025-07-01  40.362000  41.404999  40.320000  40.394001   11300   \n",
       "       2025-07-02  40.311001  40.360001  40.240002  40.250000   50300   \n",
       "\n",
       "                    adjclose  dividends  \n",
       "symbol date                              \n",
       "fb     2025-06-26  39.910000        0.0  \n",
       "       2025-06-27  40.249001        0.0  \n",
       "       2025-06-30  40.473999        0.0  \n",
       "       2025-07-01  40.394001        0.0  \n",
       "       2025-07-02  40.250000        0.0  "
      ]
     },
     "execution_count": 63,
     "metadata": {},
     "output_type": "execute_result"
    }
   ],
   "source": [
    "df.head()\n"
   ]
  },
  {
   "cell_type": "code",
   "execution_count": 69,
   "id": "f45437ac-c66c-4797-af7d-3c5359b0cdea",
   "metadata": {},
   "outputs": [
    {
     "name": "stdout",
     "output_type": "stream",
     "text": [
      "                         open        high         low       close   volume  \\\n",
      "symbol date                                                                  \n",
      "nflx   2025-01-02  895.500000  898.580017  877.000000  886.729980  2312300   \n",
      "       2025-01-03  893.130005  898.830017  879.890015  881.049988  2967300   \n",
      "       2025-01-06  888.760010  892.830017  871.690002  881.789978  3457700   \n",
      "       2025-01-07  879.380005  888.000000  869.109985  879.190002  2649800   \n",
      "       2025-01-08  880.000000  886.219971  873.000000  875.000000  2347900   \n",
      "\n",
      "                     adjclose  \n",
      "symbol date                    \n",
      "nflx   2025-01-02  886.729980  \n",
      "       2025-01-03  881.049988  \n",
      "       2025-01-06  881.789978  \n",
      "       2025-01-07  879.190002  \n",
      "       2025-01-08  875.000000  \n"
     ]
    }
   ],
   "source": [
    "tickers = Ticker('nflx', asynchronous=True)\n",
    "df = tickers.history()\n",
    "print(df.head())\n"
   ]
  },
  {
   "cell_type": "code",
   "execution_count": 71,
   "id": "941b16b0-f347-45c0-8200-d728c64a9de5",
   "metadata": {},
   "outputs": [
    {
     "name": "stdout",
     "output_type": "stream",
     "text": [
      "                          open         high          low        close  \\\n",
      "symbol date                                                             \n",
      "^GSPC  2024-07-08  5572.750000  5583.109863  5562.509766  5572.850098   \n",
      "       2024-07-09  5584.240234  5590.750000  5574.569824  5576.979980   \n",
      "       2024-07-10  5591.259766  5635.390137  5586.439941  5633.910156   \n",
      "       2024-07-11  5635.209961  5642.450195  5576.529785  5584.540039   \n",
      "       2024-07-12  5590.759766  5655.560059  5590.439941  5615.350098   \n",
      "\n",
      "                       volume     adjclose  \n",
      "symbol date                                 \n",
      "^GSPC  2024-07-08  3185670000  5572.850098  \n",
      "       2024-07-09  3232920000  5576.979980  \n",
      "       2024-07-10  3336100000  5633.910156  \n",
      "       2024-07-11  4020950000  5584.540039  \n",
      "       2024-07-12  3700280000  5615.350098  \n",
      "  symbol        date         open         high          low        close  \\\n",
      "0  ^GSPC  2024-07-08  5572.750000  5583.109863  5562.509766  5572.850098   \n",
      "1  ^GSPC  2024-07-09  5584.240234  5590.750000  5574.569824  5576.979980   \n",
      "2  ^GSPC  2024-07-10  5591.259766  5635.390137  5586.439941  5633.910156   \n",
      "3  ^GSPC  2024-07-11  5635.209961  5642.450195  5576.529785  5584.540039   \n",
      "4  ^GSPC  2024-07-12  5590.759766  5655.560059  5590.439941  5615.350098   \n",
      "\n",
      "       volume     adjclose  \n",
      "0  3185670000  5572.850098  \n",
      "1  3232920000  5576.979980  \n",
      "2  3336100000  5633.910156  \n",
      "3  4020950000  5584.540039  \n",
      "4  3700280000  5615.350098  \n"
     ]
    }
   ],
   "source": [
    "from yahooquery import Ticker\n",
    "# GSPC: S&P 500, DJI: Dow Johnes Industrial, IXIC: Nasdaq\n",
    "# Major stock indexes tickers\n",
    "index_tickers = '^GSPC ^DJI ^IXIC'\n",
    "\n",
    "tickers = Ticker(index_tickers, asynchronous=True)\n",
    "\n",
    "# Fetch 1 year daily historical data\n",
    "df = tickers.history(period='1y', interval='1d')\n",
    "\n",
    "print(df.head())\n",
    "\n",
    "# Optionally reset index to view symbol and date as columns\n",
    "df_reset = df.reset_index()\n",
    "print(df_reset.head())\n"
   ]
  },
  {
   "cell_type": "code",
   "execution_count": 83,
   "id": "ff152a99-5def-45e7-ac64-fc328b194289",
   "metadata": {},
   "outputs": [
    {
     "data": {
      "text/html": [
       "<div>\n",
       "<style scoped>\n",
       "    .dataframe tbody tr th:only-of-type {\n",
       "        vertical-align: middle;\n",
       "    }\n",
       "\n",
       "    .dataframe tbody tr th {\n",
       "        vertical-align: top;\n",
       "    }\n",
       "\n",
       "    .dataframe thead th {\n",
       "        text-align: right;\n",
       "    }\n",
       "</style>\n",
       "<table border=\"1\" class=\"dataframe\">\n",
       "  <thead>\n",
       "    <tr style=\"text-align: right;\">\n",
       "      <th></th>\n",
       "      <th>symbol</th>\n",
       "      <th>date</th>\n",
       "      <th>open</th>\n",
       "      <th>high</th>\n",
       "      <th>low</th>\n",
       "      <th>close</th>\n",
       "      <th>volume</th>\n",
       "      <th>adjclose</th>\n",
       "    </tr>\n",
       "  </thead>\n",
       "  <tbody>\n",
       "    <tr>\n",
       "      <th>0</th>\n",
       "      <td>^GSPC</td>\n",
       "      <td>2024-07-08</td>\n",
       "      <td>5572.750000</td>\n",
       "      <td>5583.109863</td>\n",
       "      <td>5562.509766</td>\n",
       "      <td>5572.850098</td>\n",
       "      <td>3185670000</td>\n",
       "      <td>5572.850098</td>\n",
       "    </tr>\n",
       "    <tr>\n",
       "      <th>1</th>\n",
       "      <td>^GSPC</td>\n",
       "      <td>2024-07-09</td>\n",
       "      <td>5584.240234</td>\n",
       "      <td>5590.750000</td>\n",
       "      <td>5574.569824</td>\n",
       "      <td>5576.979980</td>\n",
       "      <td>3232920000</td>\n",
       "      <td>5576.979980</td>\n",
       "    </tr>\n",
       "    <tr>\n",
       "      <th>2</th>\n",
       "      <td>^GSPC</td>\n",
       "      <td>2024-07-10</td>\n",
       "      <td>5591.259766</td>\n",
       "      <td>5635.390137</td>\n",
       "      <td>5586.439941</td>\n",
       "      <td>5633.910156</td>\n",
       "      <td>3336100000</td>\n",
       "      <td>5633.910156</td>\n",
       "    </tr>\n",
       "    <tr>\n",
       "      <th>3</th>\n",
       "      <td>^GSPC</td>\n",
       "      <td>2024-07-11</td>\n",
       "      <td>5635.209961</td>\n",
       "      <td>5642.450195</td>\n",
       "      <td>5576.529785</td>\n",
       "      <td>5584.540039</td>\n",
       "      <td>4020950000</td>\n",
       "      <td>5584.540039</td>\n",
       "    </tr>\n",
       "    <tr>\n",
       "      <th>4</th>\n",
       "      <td>^GSPC</td>\n",
       "      <td>2024-07-12</td>\n",
       "      <td>5590.759766</td>\n",
       "      <td>5655.560059</td>\n",
       "      <td>5590.439941</td>\n",
       "      <td>5615.350098</td>\n",
       "      <td>3700280000</td>\n",
       "      <td>5615.350098</td>\n",
       "    </tr>\n",
       "    <tr>\n",
       "      <th>5</th>\n",
       "      <td>^GSPC</td>\n",
       "      <td>2024-07-15</td>\n",
       "      <td>5638.160156</td>\n",
       "      <td>5666.939941</td>\n",
       "      <td>5614.750000</td>\n",
       "      <td>5631.220215</td>\n",
       "      <td>3620470000</td>\n",
       "      <td>5631.220215</td>\n",
       "    </tr>\n",
       "    <tr>\n",
       "      <th>6</th>\n",
       "      <td>^GSPC</td>\n",
       "      <td>2024-07-16</td>\n",
       "      <td>5644.089844</td>\n",
       "      <td>5669.669922</td>\n",
       "      <td>5639.020020</td>\n",
       "      <td>5667.200195</td>\n",
       "      <td>4041760000</td>\n",
       "      <td>5667.200195</td>\n",
       "    </tr>\n",
       "    <tr>\n",
       "      <th>7</th>\n",
       "      <td>^GSPC</td>\n",
       "      <td>2024-07-17</td>\n",
       "      <td>5610.069824</td>\n",
       "      <td>5622.490234</td>\n",
       "      <td>5584.810059</td>\n",
       "      <td>5588.270020</td>\n",
       "      <td>4246450000</td>\n",
       "      <td>5588.270020</td>\n",
       "    </tr>\n",
       "    <tr>\n",
       "      <th>8</th>\n",
       "      <td>^GSPC</td>\n",
       "      <td>2024-07-18</td>\n",
       "      <td>5608.560059</td>\n",
       "      <td>5614.049805</td>\n",
       "      <td>5522.810059</td>\n",
       "      <td>5544.589844</td>\n",
       "      <td>4007510000</td>\n",
       "      <td>5544.589844</td>\n",
       "    </tr>\n",
       "    <tr>\n",
       "      <th>9</th>\n",
       "      <td>^GSPC</td>\n",
       "      <td>2024-07-19</td>\n",
       "      <td>5543.370117</td>\n",
       "      <td>5557.500000</td>\n",
       "      <td>5497.040039</td>\n",
       "      <td>5505.000000</td>\n",
       "      <td>3760570000</td>\n",
       "      <td>5505.000000</td>\n",
       "    </tr>\n",
       "  </tbody>\n",
       "</table>\n",
       "</div>"
      ],
      "text/plain": [
       "  symbol        date         open         high          low        close  \\\n",
       "0  ^GSPC  2024-07-08  5572.750000  5583.109863  5562.509766  5572.850098   \n",
       "1  ^GSPC  2024-07-09  5584.240234  5590.750000  5574.569824  5576.979980   \n",
       "2  ^GSPC  2024-07-10  5591.259766  5635.390137  5586.439941  5633.910156   \n",
       "3  ^GSPC  2024-07-11  5635.209961  5642.450195  5576.529785  5584.540039   \n",
       "4  ^GSPC  2024-07-12  5590.759766  5655.560059  5590.439941  5615.350098   \n",
       "5  ^GSPC  2024-07-15  5638.160156  5666.939941  5614.750000  5631.220215   \n",
       "6  ^GSPC  2024-07-16  5644.089844  5669.669922  5639.020020  5667.200195   \n",
       "7  ^GSPC  2024-07-17  5610.069824  5622.490234  5584.810059  5588.270020   \n",
       "8  ^GSPC  2024-07-18  5608.560059  5614.049805  5522.810059  5544.589844   \n",
       "9  ^GSPC  2024-07-19  5543.370117  5557.500000  5497.040039  5505.000000   \n",
       "\n",
       "       volume     adjclose  \n",
       "0  3185670000  5572.850098  \n",
       "1  3232920000  5576.979980  \n",
       "2  3336100000  5633.910156  \n",
       "3  4020950000  5584.540039  \n",
       "4  3700280000  5615.350098  \n",
       "5  3620470000  5631.220215  \n",
       "6  4041760000  5667.200195  \n",
       "7  4246450000  5588.270020  \n",
       "8  4007510000  5544.589844  \n",
       "9  3760570000  5505.000000  "
      ]
     },
     "execution_count": 83,
     "metadata": {},
     "output_type": "execute_result"
    }
   ],
   "source": [
    "df_reset.head(10)"
   ]
  },
  {
   "cell_type": "code",
   "execution_count": 77,
   "id": "c294f072-5ff2-4774-874a-be4b2d9340b6",
   "metadata": {},
   "outputs": [
    {
     "data": {
      "text/plain": [
       "symbol\n",
       "^GSPC    250\n",
       "^DJI     250\n",
       "^IXIC    250\n",
       "Name: count, dtype: int64"
      ]
     },
     "execution_count": 77,
     "metadata": {},
     "output_type": "execute_result"
    }
   ],
   "source": [
    "df_reset[\"symbol\"].value_counts()"
   ]
  },
  {
   "cell_type": "code",
   "execution_count": 79,
   "id": "cf814f19-5688-422c-b483-91154cb6940a",
   "metadata": {},
   "outputs": [],
   "source": [
    "df_reset = df.reset_index()\n"
   ]
  },
  {
   "cell_type": "code",
   "execution_count": 81,
   "id": "1ce116c5-bcb0-4dc4-804f-5ddfcfe939b9",
   "metadata": {},
   "outputs": [],
   "source": [
    "df_reset.to_csv('stock_indexes_data.csv', index=False)\n"
   ]
  },
  {
   "cell_type": "code",
   "execution_count": 85,
   "id": "4bc5e2c6-d187-4b29-8a76-f961b718a504",
   "metadata": {},
   "outputs": [],
   "source": [
    "import pandas as pd\n",
    "\n",
    "data = {\n",
    "    \"content\": [\n",
    "        \"Tesla Inc. shares fell after Elon Musk announced he’s forming a new political party, digging deeper into a pursuit that’s been a drag on his most valuable business. Most Read from BloombergAre Tourists Ruining Europe? How Locals Are Pushing BackForeign Buyers Swoop on Cape Town Homes, Pricing Out LocalsTrump’s Gilded Design Style May Be Gaudy. But Don’t Call it ‘Rococo.’Massachusetts to Follow NYC in Making Landlords Pay Broker FeesIn California, Pro-Housing ‘Abundance’ Fans Rewri\"\n",
    "    ]\n",
    "}\n",
    "\n",
    "n_df = pd.DataFrame(data)\n"
   ]
  },
  {
   "cell_type": "code",
   "execution_count": 89,
   "id": "0932762b-c5f6-419a-9ef4-3070e3f6c268",
   "metadata": {},
   "outputs": [
    {
     "ename": "ModuleNotFoundError",
     "evalue": "No module named 'nltk'",
     "output_type": "error",
     "traceback": [
      "\u001b[31m---------------------------------------------------------------------------\u001b[39m",
      "\u001b[31mModuleNotFoundError\u001b[39m                       Traceback (most recent call last)",
      "\u001b[36mCell\u001b[39m\u001b[36m \u001b[39m\u001b[32mIn[89]\u001b[39m\u001b[32m, line 1\u001b[39m\n\u001b[32m----> \u001b[39m\u001b[32m1\u001b[39m \u001b[38;5;28;01mfrom\u001b[39;00m\u001b[38;5;250m \u001b[39m\u001b[34;01mnltk\u001b[39;00m\u001b[34;01m.\u001b[39;00m\u001b[34;01msentiment\u001b[39;00m\u001b[34;01m.\u001b[39;00m\u001b[34;01mvader\u001b[39;00m\u001b[38;5;250m \u001b[39m\u001b[38;5;28;01mimport\u001b[39;00m SentimentIntensityAnalyzer\n\u001b[32m      2\u001b[39m \u001b[38;5;28;01mimport\u001b[39;00m\u001b[38;5;250m \u001b[39m\u001b[34;01mnltk\u001b[39;00m\n",
      "\u001b[31mModuleNotFoundError\u001b[39m: No module named 'nltk'"
     ]
    }
   ],
   "source": [
    "from nltk.sentiment.vader import SentimentIntensityAnalyzer\n",
    "import nltk\n",
    "\n",
    "\n"
   ]
  },
  {
   "cell_type": "code",
   "execution_count": null,
   "id": "dd94c400-0e30-43eb-9b52-2c746ceb57ab",
   "metadata": {},
   "outputs": [],
   "source": [
    "nltk.download('vader_lexicon')\n",
    "\n",
    "sia = SentimentIntensityAnalyzer()\n",
    "\n",
    "# Apply sentiment analysis to the 'content' column\n",
    "n_df['sentiment_scores'] = n_df['content'].apply(lambda x: sia.polarity_scores(x))\n",
    "\n",
    "# Extract compound score (overall sentiment)\n",
    "n_df['compound'] = n_df['sentiment_scores'].apply(lambda score_dict: score_dict['compound'])\n",
    "\n",
    "# Optional: categorize sentiment\n",
    "def label_sentiment(compound):\n",
    "    if compound >= 0.05:\n",
    "        return 'Positive'\n",
    "    elif compound <= -0.05:\n",
    "        return 'Negative'\n",
    "    else:\n",
    "        return 'Neutral'\n",
    "\n",
    "n_df['sentiment_label'] = n_df['compound'].apply(label_sentiment)\n",
    "\n",
    "print(n_df[['content', 'compound', 'sentiment_label']])"
   ]
  },
  {
   "cell_type": "code",
   "execution_count": 91,
   "id": "35b45948-0cc1-45e6-98be-a30c301cbd26",
   "metadata": {},
   "outputs": [
    {
     "ename": "ModuleNotFoundError",
     "evalue": "No module named 'nltk'",
     "output_type": "error",
     "traceback": [
      "\u001b[31m---------------------------------------------------------------------------\u001b[39m",
      "\u001b[31mModuleNotFoundError\u001b[39m                       Traceback (most recent call last)",
      "\u001b[36mCell\u001b[39m\u001b[36m \u001b[39m\u001b[32mIn[91]\u001b[39m\u001b[32m, line 1\u001b[39m\n\u001b[32m----> \u001b[39m\u001b[32m1\u001b[39m \u001b[38;5;28;01mimport\u001b[39;00m\u001b[38;5;250m \u001b[39m\u001b[34;01mnltk\u001b[39;00m\n\u001b[32m      2\u001b[39m nltk.download(\u001b[33m'\u001b[39m\u001b[33mvader_lexicon\u001b[39m\u001b[33m'\u001b[39m)\n",
      "\u001b[31mModuleNotFoundError\u001b[39m: No module named 'nltk'"
     ]
    }
   ],
   "source": [
    "import nltk\n",
    "nltk.download('vader_lexicon')"
   ]
  },
  {
   "cell_type": "code",
   "execution_count": null,
   "id": "fe824c07-2845-4f23-b2a6-b06bc6561ce3",
   "metadata": {},
   "outputs": [],
   "source": []
  }
 ],
 "metadata": {
  "kernelspec": {
   "display_name": "venv",
   "language": "python",
   "name": "venv"
  },
  "language_info": {
   "codemirror_mode": {
    "name": "ipython",
    "version": 3
   },
   "file_extension": ".py",
   "mimetype": "text/x-python",
   "name": "python",
   "nbconvert_exporter": "python",
   "pygments_lexer": "ipython3",
   "version": "3.12.7"
  }
 },
 "nbformat": 4,
 "nbformat_minor": 5
}
